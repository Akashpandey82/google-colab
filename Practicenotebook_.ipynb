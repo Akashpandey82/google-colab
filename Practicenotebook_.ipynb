{
  "nbformat": 4,
  "nbformat_minor": 0,
  "metadata": {
    "colab": {
      "name": "Practicenotebook .ipynb",
      "provenance": [],
      "collapsed_sections": [],
      "machine_shape": "hm",
      "mount_file_id": "1_qayJ6Vyp-xmUW9DzQZPszc4Xxz0OGOO",
      "authorship_tag": "ABX9TyN2yID7JTZ5JGNwAEfBUlPU",
      "include_colab_link": true
    },
    "kernelspec": {
      "name": "python3",
      "display_name": "Python 3"
    }
  },
  "cells": [
    {
      "cell_type": "markdown",
      "metadata": {
        "id": "view-in-github",
        "colab_type": "text"
      },
      "source": [
        "<a href=\"https://colab.research.google.com/github/Akashpandey82/google-colab/blob/master/Practicenotebook_.ipynb\" target=\"_parent\"><img src=\"https://colab.research.google.com/assets/colab-badge.svg\" alt=\"Open In Colab\"/></a>"
      ]
    },
    {
      "cell_type": "code",
      "metadata": {
        "id": "fAaGTkmKFLBr",
        "colab_type": "code",
        "colab": {}
      },
      "source": [
        "import pandas as pd\n",
        "import numpy as np"
      ],
      "execution_count": 0,
      "outputs": []
    },
    {
      "cell_type": "code",
      "metadata": {
        "id": "8E1c93WsFEiP",
        "colab_type": "code",
        "colab": {}
      },
      "source": [
        "fp1= '/content/drive/My Drive/name.basics.csv'\n",
        "fp2= '/content/drive/My Drive/title.akas.csv'\n",
        "fp3= '/content/drive/My Drive/title.basics.csv'\n",
        "fp4='/content/drive/My Drive/title.crew.csv'\n",
        "fp5 = '/content/drive/My Drive/title.episode.csv'\n",
        "fp6= '/content/drive/My Drive/title.principals.csv'\n",
        "fp7= '/content/drive/My Drive/title.ratings.csv'"
      ],
      "execution_count": 0,
      "outputs": []
    },
    {
      "cell_type": "code",
      "metadata": {
        "id": "-Jmc0QqyrxPv",
        "colab_type": "code",
        "colab": {
          "base_uri": "https://localhost:8080/",
          "height": 74
        },
        "outputId": "7bc0775e-679f-47b1-bd64-7922c748800a"
      },
      "source": [
        "genre_data = pd.read_csv(fp3)"
      ],
      "execution_count": 3,
      "outputs": [
        {
          "output_type": "stream",
          "text": [
            "/usr/local/lib/python3.6/dist-packages/IPython/core/interactiveshell.py:2718: DtypeWarning: Columns (6) have mixed types.Specify dtype option on import or set low_memory=False.\n",
            "  interactivity=interactivity, compiler=compiler, result=result)\n"
          ],
          "name": "stderr"
        }
      ]
    },
    {
      "cell_type": "code",
      "metadata": {
        "id": "UeU3DZb1rxm-",
        "colab_type": "code",
        "outputId": "ce6d2edd-e6f9-47f4-8917-45f3e311ad02",
        "colab": {
          "base_uri": "https://localhost:8080/",
          "height": 241
        }
      },
      "source": [
        "genre_data=genre_data.replace(r'\\N',np.nan)\n",
        "genre_data.head()"
      ],
      "execution_count": 4,
      "outputs": [
        {
          "output_type": "execute_result",
          "data": {
            "text/html": [
              "<div>\n",
              "<style scoped>\n",
              "    .dataframe tbody tr th:only-of-type {\n",
              "        vertical-align: middle;\n",
              "    }\n",
              "\n",
              "    .dataframe tbody tr th {\n",
              "        vertical-align: top;\n",
              "    }\n",
              "\n",
              "    .dataframe thead th {\n",
              "        text-align: right;\n",
              "    }\n",
              "</style>\n",
              "<table border=\"1\" class=\"dataframe\">\n",
              "  <thead>\n",
              "    <tr style=\"text-align: right;\">\n",
              "      <th></th>\n",
              "      <th>Unnamed: 0</th>\n",
              "      <th>tconst</th>\n",
              "      <th>titleType</th>\n",
              "      <th>primaryTitle</th>\n",
              "      <th>originalTitle</th>\n",
              "      <th>isAdult</th>\n",
              "      <th>startYear</th>\n",
              "      <th>endYear</th>\n",
              "      <th>runtimeMinutes</th>\n",
              "      <th>genres</th>\n",
              "    </tr>\n",
              "  </thead>\n",
              "  <tbody>\n",
              "    <tr>\n",
              "      <th>0</th>\n",
              "      <td>0</td>\n",
              "      <td>tt0000001</td>\n",
              "      <td>short</td>\n",
              "      <td>Carmencita</td>\n",
              "      <td>Carmencita</td>\n",
              "      <td>0</td>\n",
              "      <td>1894</td>\n",
              "      <td>NaN</td>\n",
              "      <td>1</td>\n",
              "      <td>Documentary,Short</td>\n",
              "    </tr>\n",
              "    <tr>\n",
              "      <th>1</th>\n",
              "      <td>1</td>\n",
              "      <td>tt0000002</td>\n",
              "      <td>short</td>\n",
              "      <td>Le clown et ses chiens</td>\n",
              "      <td>Le clown et ses chiens</td>\n",
              "      <td>0</td>\n",
              "      <td>1892</td>\n",
              "      <td>NaN</td>\n",
              "      <td>5</td>\n",
              "      <td>Animation,Short</td>\n",
              "    </tr>\n",
              "    <tr>\n",
              "      <th>2</th>\n",
              "      <td>2</td>\n",
              "      <td>tt0000003</td>\n",
              "      <td>short</td>\n",
              "      <td>Pauvre Pierrot</td>\n",
              "      <td>Pauvre Pierrot</td>\n",
              "      <td>0</td>\n",
              "      <td>1892</td>\n",
              "      <td>NaN</td>\n",
              "      <td>4</td>\n",
              "      <td>Animation,Comedy,Romance</td>\n",
              "    </tr>\n",
              "    <tr>\n",
              "      <th>3</th>\n",
              "      <td>3</td>\n",
              "      <td>tt0000004</td>\n",
              "      <td>short</td>\n",
              "      <td>Un bon bock</td>\n",
              "      <td>Un bon bock</td>\n",
              "      <td>0</td>\n",
              "      <td>1892</td>\n",
              "      <td>NaN</td>\n",
              "      <td>12</td>\n",
              "      <td>Animation,Short</td>\n",
              "    </tr>\n",
              "    <tr>\n",
              "      <th>4</th>\n",
              "      <td>4</td>\n",
              "      <td>tt0000005</td>\n",
              "      <td>short</td>\n",
              "      <td>Blacksmith Scene</td>\n",
              "      <td>Blacksmith Scene</td>\n",
              "      <td>0</td>\n",
              "      <td>1893</td>\n",
              "      <td>NaN</td>\n",
              "      <td>1</td>\n",
              "      <td>Comedy,Short</td>\n",
              "    </tr>\n",
              "  </tbody>\n",
              "</table>\n",
              "</div>"
            ],
            "text/plain": [
              "   Unnamed: 0     tconst  ... runtimeMinutes                    genres\n",
              "0           0  tt0000001  ...              1         Documentary,Short\n",
              "1           1  tt0000002  ...              5           Animation,Short\n",
              "2           2  tt0000003  ...              4  Animation,Comedy,Romance\n",
              "3           3  tt0000004  ...             12           Animation,Short\n",
              "4           4  tt0000005  ...              1              Comedy,Short\n",
              "\n",
              "[5 rows x 10 columns]"
            ]
          },
          "metadata": {
            "tags": []
          },
          "execution_count": 4
        }
      ]
    },
    {
      "cell_type": "code",
      "metadata": {
        "id": "CYk4ynfnrx1x",
        "colab_type": "code",
        "colab": {}
      },
      "source": [
        "genre_data['runtimeMinutes']=pd.to_numeric(genre_data['runtimeMinutes'], errors='coerce')\n",
        "genre_data['startYear']=pd.to_numeric(genre_data['startYear'],errors='coerce')\n",
        "genre_data['endYear']=pd.to_numeric(genre_data['endYear'],errors='coerce')\n",
        "genre_data.runtimeMinutes=genre_data.runtimeMinutes.fillna(genre_data.runtimeMinutes.mean()).round(2)"
      ],
      "execution_count": 0,
      "outputs": []
    },
    {
      "cell_type": "markdown",
      "metadata": {
        "id": "fitwP1lqlEMb",
        "colab_type": "text"
      },
      "source": [
        ""
      ]
    },
    {
      "cell_type": "markdown",
      "metadata": {
        "id": "IWOPeOOJlEXu",
        "colab_type": "text"
      },
      "source": [
        "**extra worak**"
      ]
    },
    {
      "cell_type": "code",
      "metadata": {
        "id": "3hPkDWlTkCLl",
        "colab_type": "code",
        "colab": {}
      },
      "source": [
        "df = genre_data.copy()"
      ],
      "execution_count": 0,
      "outputs": []
    },
    {
      "cell_type": "code",
      "metadata": {
        "id": "I0t4LvIQkSzo",
        "colab_type": "code",
        "colab": {
          "base_uri": "https://localhost:8080/",
          "height": 511
        },
        "outputId": "3c46013b-caf3-4e8e-bb2b-df72f9656766"
      },
      "source": [
        "df.dropna()"
      ],
      "execution_count": 8,
      "outputs": [
        {
          "output_type": "execute_result",
          "data": {
            "text/html": [
              "<div>\n",
              "<style scoped>\n",
              "    .dataframe tbody tr th:only-of-type {\n",
              "        vertical-align: middle;\n",
              "    }\n",
              "\n",
              "    .dataframe tbody tr th {\n",
              "        vertical-align: top;\n",
              "    }\n",
              "\n",
              "    .dataframe thead th {\n",
              "        text-align: right;\n",
              "    }\n",
              "</style>\n",
              "<table border=\"1\" class=\"dataframe\">\n",
              "  <thead>\n",
              "    <tr style=\"text-align: right;\">\n",
              "      <th></th>\n",
              "      <th>Unnamed: 0</th>\n",
              "      <th>tconst</th>\n",
              "      <th>titleType</th>\n",
              "      <th>primaryTitle</th>\n",
              "      <th>originalTitle</th>\n",
              "      <th>isAdult</th>\n",
              "      <th>startYear</th>\n",
              "      <th>endYear</th>\n",
              "      <th>runtimeMinutes</th>\n",
              "      <th>genres</th>\n",
              "    </tr>\n",
              "  </thead>\n",
              "  <tbody>\n",
              "    <tr>\n",
              "      <th>35188</th>\n",
              "      <td>35188</td>\n",
              "      <td>tt0035803</td>\n",
              "      <td>tvSeries</td>\n",
              "      <td>The German Weekly Review</td>\n",
              "      <td>Die Deutsche Wochenschau</td>\n",
              "      <td>0</td>\n",
              "      <td>1940.0</td>\n",
              "      <td>1945.0</td>\n",
              "      <td>12.00</td>\n",
              "      <td>Documentary,News</td>\n",
              "    </tr>\n",
              "    <tr>\n",
              "      <th>38451</th>\n",
              "      <td>38451</td>\n",
              "      <td>tt0039120</td>\n",
              "      <td>tvSeries</td>\n",
              "      <td>Americana</td>\n",
              "      <td>Americana</td>\n",
              "      <td>0</td>\n",
              "      <td>1947.0</td>\n",
              "      <td>1949.0</td>\n",
              "      <td>30.00</td>\n",
              "      <td>Family,Game-Show</td>\n",
              "    </tr>\n",
              "    <tr>\n",
              "      <th>38452</th>\n",
              "      <td>38452</td>\n",
              "      <td>tt0039121</td>\n",
              "      <td>tvSeries</td>\n",
              "      <td>Birthday Party</td>\n",
              "      <td>Birthday Party</td>\n",
              "      <td>0</td>\n",
              "      <td>1947.0</td>\n",
              "      <td>1949.0</td>\n",
              "      <td>30.00</td>\n",
              "      <td>Family</td>\n",
              "    </tr>\n",
              "    <tr>\n",
              "      <th>38454</th>\n",
              "      <td>38454</td>\n",
              "      <td>tt0039123</td>\n",
              "      <td>tvSeries</td>\n",
              "      <td>Kraft Theatre</td>\n",
              "      <td>Kraft Television Theatre</td>\n",
              "      <td>0</td>\n",
              "      <td>1947.0</td>\n",
              "      <td>1958.0</td>\n",
              "      <td>60.00</td>\n",
              "      <td>Drama</td>\n",
              "    </tr>\n",
              "    <tr>\n",
              "      <th>38456</th>\n",
              "      <td>38456</td>\n",
              "      <td>tt0039125</td>\n",
              "      <td>tvSeries</td>\n",
              "      <td>Public Prosecutor</td>\n",
              "      <td>Public Prosecutor</td>\n",
              "      <td>0</td>\n",
              "      <td>1947.0</td>\n",
              "      <td>1951.0</td>\n",
              "      <td>20.00</td>\n",
              "      <td>Crime,Drama,Mystery</td>\n",
              "    </tr>\n",
              "    <tr>\n",
              "      <th>...</th>\n",
              "      <td>...</td>\n",
              "      <td>...</td>\n",
              "      <td>...</td>\n",
              "      <td>...</td>\n",
              "      <td>...</td>\n",
              "      <td>...</td>\n",
              "      <td>...</td>\n",
              "      <td>...</td>\n",
              "      <td>...</td>\n",
              "      <td>...</td>\n",
              "    </tr>\n",
              "    <tr>\n",
              "      <th>6745605</th>\n",
              "      <td>6745605</td>\n",
              "      <td>tt9915338</td>\n",
              "      <td>tvSeries</td>\n",
              "      <td>Aunty Donna: Camp Bush Camp!</td>\n",
              "      <td>Aunty Donna: Camp Bush Camp!</td>\n",
              "      <td>0</td>\n",
              "      <td>2018.0</td>\n",
              "      <td>2018.0</td>\n",
              "      <td>5.00</td>\n",
              "      <td>Comedy</td>\n",
              "    </tr>\n",
              "    <tr>\n",
              "      <th>6745699</th>\n",
              "      <td>6745699</td>\n",
              "      <td>tt9915530</td>\n",
              "      <td>tvSeries</td>\n",
              "      <td>The Land F.A.U.</td>\n",
              "      <td>The Land F.A.U.</td>\n",
              "      <td>0</td>\n",
              "      <td>2019.0</td>\n",
              "      <td>2019.0</td>\n",
              "      <td>44.78</td>\n",
              "      <td>Crime</td>\n",
              "    </tr>\n",
              "    <tr>\n",
              "      <th>6745828</th>\n",
              "      <td>6745828</td>\n",
              "      <td>tt9915822</td>\n",
              "      <td>tvSeries</td>\n",
              "      <td>Ichhapyaari Naagin</td>\n",
              "      <td>Ichhapyaari Naagin</td>\n",
              "      <td>0</td>\n",
              "      <td>2016.0</td>\n",
              "      <td>2017.0</td>\n",
              "      <td>20.00</td>\n",
              "      <td>Fantasy</td>\n",
              "    </tr>\n",
              "    <tr>\n",
              "      <th>6746010</th>\n",
              "      <td>6746010</td>\n",
              "      <td>tt9916216</td>\n",
              "      <td>tvSeries</td>\n",
              "      <td>Kalyanam Mudhal Kadhal Varai</td>\n",
              "      <td>Kalyanam Mudhal Kadhal Varai</td>\n",
              "      <td>0</td>\n",
              "      <td>2014.0</td>\n",
              "      <td>2017.0</td>\n",
              "      <td>22.00</td>\n",
              "      <td>Romance</td>\n",
              "    </tr>\n",
              "    <tr>\n",
              "      <th>6746011</th>\n",
              "      <td>6746011</td>\n",
              "      <td>tt9916218</td>\n",
              "      <td>tvSeries</td>\n",
              "      <td>Lost in Food</td>\n",
              "      <td>Lost in Food</td>\n",
              "      <td>0</td>\n",
              "      <td>2016.0</td>\n",
              "      <td>2017.0</td>\n",
              "      <td>44.78</td>\n",
              "      <td>Talk-Show</td>\n",
              "    </tr>\n",
              "  </tbody>\n",
              "</table>\n",
              "<p>55631 rows × 10 columns</p>\n",
              "</div>"
            ],
            "text/plain": [
              "         Unnamed: 0     tconst  ... runtimeMinutes               genres\n",
              "35188         35188  tt0035803  ...          12.00     Documentary,News\n",
              "38451         38451  tt0039120  ...          30.00     Family,Game-Show\n",
              "38452         38452  tt0039121  ...          30.00               Family\n",
              "38454         38454  tt0039123  ...          60.00                Drama\n",
              "38456         38456  tt0039125  ...          20.00  Crime,Drama,Mystery\n",
              "...             ...        ...  ...            ...                  ...\n",
              "6745605     6745605  tt9915338  ...           5.00               Comedy\n",
              "6745699     6745699  tt9915530  ...          44.78                Crime\n",
              "6745828     6745828  tt9915822  ...          20.00              Fantasy\n",
              "6746010     6746010  tt9916216  ...          22.00              Romance\n",
              "6746011     6746011  tt9916218  ...          44.78            Talk-Show\n",
              "\n",
              "[55631 rows x 10 columns]"
            ]
          },
          "metadata": {
            "tags": []
          },
          "execution_count": 8
        }
      ]
    },
    {
      "cell_type": "code",
      "metadata": {
        "id": "ir2FeT2DkjLf",
        "colab_type": "code",
        "colab": {
          "base_uri": "https://localhost:8080/",
          "height": 223
        },
        "outputId": "181c38c3-fc8f-4a32-8a20-37c2389c1191"
      },
      "source": [
        "df[df.isnull()].count()"
      ],
      "execution_count": 10,
      "outputs": [
        {
          "output_type": "execute_result",
          "data": {
            "text/plain": [
              "Unnamed: 0        0\n",
              "tconst            0\n",
              "titleType         0\n",
              "primaryTitle      0\n",
              "originalTitle     0\n",
              "isAdult           0\n",
              "startYear         0\n",
              "endYear           0\n",
              "runtimeMinutes    0\n",
              "genres            0\n",
              "dtype: int64"
            ]
          },
          "metadata": {
            "tags": []
          },
          "execution_count": 10
        }
      ]
    },
    {
      "cell_type": "code",
      "metadata": {
        "id": "Lp7iEASbrx6E",
        "colab_type": "code",
        "colab": {}
      },
      "source": [
        "ratings_data = pd.read_csv(fp7)\n",
        "ratings_data = pd.merge(df,ratings_data,on = 'tconst')\n"
      ],
      "execution_count": 0,
      "outputs": []
    },
    {
      "cell_type": "code",
      "metadata": {
        "id": "_mBJIthdlWsE",
        "colab_type": "code",
        "colab": {
          "base_uri": "https://localhost:8080/",
          "height": 278
        },
        "outputId": "b28fb4e3-9a26-4450-f92f-6c3497e36193"
      },
      "source": [
        "ratings_data.head()"
      ],
      "execution_count": 12,
      "outputs": [
        {
          "output_type": "execute_result",
          "data": {
            "text/html": [
              "<div>\n",
              "<style scoped>\n",
              "    .dataframe tbody tr th:only-of-type {\n",
              "        vertical-align: middle;\n",
              "    }\n",
              "\n",
              "    .dataframe tbody tr th {\n",
              "        vertical-align: top;\n",
              "    }\n",
              "\n",
              "    .dataframe thead th {\n",
              "        text-align: right;\n",
              "    }\n",
              "</style>\n",
              "<table border=\"1\" class=\"dataframe\">\n",
              "  <thead>\n",
              "    <tr style=\"text-align: right;\">\n",
              "      <th></th>\n",
              "      <th>Unnamed: 0_x</th>\n",
              "      <th>tconst</th>\n",
              "      <th>titleType</th>\n",
              "      <th>primaryTitle</th>\n",
              "      <th>originalTitle</th>\n",
              "      <th>isAdult</th>\n",
              "      <th>startYear</th>\n",
              "      <th>endYear</th>\n",
              "      <th>runtimeMinutes</th>\n",
              "      <th>genres</th>\n",
              "      <th>Unnamed: 0_y</th>\n",
              "      <th>averageRating</th>\n",
              "      <th>numVotes</th>\n",
              "    </tr>\n",
              "  </thead>\n",
              "  <tbody>\n",
              "    <tr>\n",
              "      <th>0</th>\n",
              "      <td>0</td>\n",
              "      <td>tt0000001</td>\n",
              "      <td>short</td>\n",
              "      <td>Carmencita</td>\n",
              "      <td>Carmencita</td>\n",
              "      <td>0</td>\n",
              "      <td>1894.0</td>\n",
              "      <td>NaN</td>\n",
              "      <td>1.0</td>\n",
              "      <td>Documentary,Short</td>\n",
              "      <td>0</td>\n",
              "      <td>5.6</td>\n",
              "      <td>1608</td>\n",
              "    </tr>\n",
              "    <tr>\n",
              "      <th>1</th>\n",
              "      <td>1</td>\n",
              "      <td>tt0000002</td>\n",
              "      <td>short</td>\n",
              "      <td>Le clown et ses chiens</td>\n",
              "      <td>Le clown et ses chiens</td>\n",
              "      <td>0</td>\n",
              "      <td>1892.0</td>\n",
              "      <td>NaN</td>\n",
              "      <td>5.0</td>\n",
              "      <td>Animation,Short</td>\n",
              "      <td>1</td>\n",
              "      <td>6.0</td>\n",
              "      <td>197</td>\n",
              "    </tr>\n",
              "    <tr>\n",
              "      <th>2</th>\n",
              "      <td>2</td>\n",
              "      <td>tt0000003</td>\n",
              "      <td>short</td>\n",
              "      <td>Pauvre Pierrot</td>\n",
              "      <td>Pauvre Pierrot</td>\n",
              "      <td>0</td>\n",
              "      <td>1892.0</td>\n",
              "      <td>NaN</td>\n",
              "      <td>4.0</td>\n",
              "      <td>Animation,Comedy,Romance</td>\n",
              "      <td>2</td>\n",
              "      <td>6.5</td>\n",
              "      <td>1286</td>\n",
              "    </tr>\n",
              "    <tr>\n",
              "      <th>3</th>\n",
              "      <td>3</td>\n",
              "      <td>tt0000004</td>\n",
              "      <td>short</td>\n",
              "      <td>Un bon bock</td>\n",
              "      <td>Un bon bock</td>\n",
              "      <td>0</td>\n",
              "      <td>1892.0</td>\n",
              "      <td>NaN</td>\n",
              "      <td>12.0</td>\n",
              "      <td>Animation,Short</td>\n",
              "      <td>3</td>\n",
              "      <td>6.1</td>\n",
              "      <td>121</td>\n",
              "    </tr>\n",
              "    <tr>\n",
              "      <th>4</th>\n",
              "      <td>4</td>\n",
              "      <td>tt0000005</td>\n",
              "      <td>short</td>\n",
              "      <td>Blacksmith Scene</td>\n",
              "      <td>Blacksmith Scene</td>\n",
              "      <td>0</td>\n",
              "      <td>1893.0</td>\n",
              "      <td>NaN</td>\n",
              "      <td>1.0</td>\n",
              "      <td>Comedy,Short</td>\n",
              "      <td>4</td>\n",
              "      <td>6.1</td>\n",
              "      <td>2051</td>\n",
              "    </tr>\n",
              "  </tbody>\n",
              "</table>\n",
              "</div>"
            ],
            "text/plain": [
              "   Unnamed: 0_x     tconst titleType  ... Unnamed: 0_y averageRating  numVotes\n",
              "0             0  tt0000001     short  ...            0           5.6      1608\n",
              "1             1  tt0000002     short  ...            1           6.0       197\n",
              "2             2  tt0000003     short  ...            2           6.5      1286\n",
              "3             3  tt0000004     short  ...            3           6.1       121\n",
              "4             4  tt0000005     short  ...            4           6.1      2051\n",
              "\n",
              "[5 rows x 13 columns]"
            ]
          },
          "metadata": {
            "tags": []
          },
          "execution_count": 12
        }
      ]
    },
    {
      "cell_type": "code",
      "metadata": {
        "id": "RNbaqv5hmFCF",
        "colab_type": "code",
        "colab": {
          "base_uri": "https://localhost:8080/",
          "height": 241
        },
        "outputId": "5ab57414-2b45-4b57-e713-8138af58af66"
      },
      "source": [
        "ratings_data.drop(ratings_data.columns[8],axis=1 , inplace= True)\n",
        "ratings_data.head()"
      ],
      "execution_count": 17,
      "outputs": [
        {
          "output_type": "execute_result",
          "data": {
            "text/html": [
              "<div>\n",
              "<style scoped>\n",
              "    .dataframe tbody tr th:only-of-type {\n",
              "        vertical-align: middle;\n",
              "    }\n",
              "\n",
              "    .dataframe tbody tr th {\n",
              "        vertical-align: top;\n",
              "    }\n",
              "\n",
              "    .dataframe thead th {\n",
              "        text-align: right;\n",
              "    }\n",
              "</style>\n",
              "<table border=\"1\" class=\"dataframe\">\n",
              "  <thead>\n",
              "    <tr style=\"text-align: right;\">\n",
              "      <th></th>\n",
              "      <th>tconst</th>\n",
              "      <th>titleType</th>\n",
              "      <th>primaryTitle</th>\n",
              "      <th>originalTitle</th>\n",
              "      <th>isAdult</th>\n",
              "      <th>startYear</th>\n",
              "      <th>runtimeMinutes</th>\n",
              "      <th>genres</th>\n",
              "      <th>averageRating</th>\n",
              "      <th>numVotes</th>\n",
              "    </tr>\n",
              "  </thead>\n",
              "  <tbody>\n",
              "    <tr>\n",
              "      <th>0</th>\n",
              "      <td>tt0000001</td>\n",
              "      <td>short</td>\n",
              "      <td>Carmencita</td>\n",
              "      <td>Carmencita</td>\n",
              "      <td>0</td>\n",
              "      <td>1894.0</td>\n",
              "      <td>1.0</td>\n",
              "      <td>Documentary,Short</td>\n",
              "      <td>5.6</td>\n",
              "      <td>1608</td>\n",
              "    </tr>\n",
              "    <tr>\n",
              "      <th>1</th>\n",
              "      <td>tt0000002</td>\n",
              "      <td>short</td>\n",
              "      <td>Le clown et ses chiens</td>\n",
              "      <td>Le clown et ses chiens</td>\n",
              "      <td>0</td>\n",
              "      <td>1892.0</td>\n",
              "      <td>5.0</td>\n",
              "      <td>Animation,Short</td>\n",
              "      <td>6.0</td>\n",
              "      <td>197</td>\n",
              "    </tr>\n",
              "    <tr>\n",
              "      <th>2</th>\n",
              "      <td>tt0000003</td>\n",
              "      <td>short</td>\n",
              "      <td>Pauvre Pierrot</td>\n",
              "      <td>Pauvre Pierrot</td>\n",
              "      <td>0</td>\n",
              "      <td>1892.0</td>\n",
              "      <td>4.0</td>\n",
              "      <td>Animation,Comedy,Romance</td>\n",
              "      <td>6.5</td>\n",
              "      <td>1286</td>\n",
              "    </tr>\n",
              "    <tr>\n",
              "      <th>3</th>\n",
              "      <td>tt0000004</td>\n",
              "      <td>short</td>\n",
              "      <td>Un bon bock</td>\n",
              "      <td>Un bon bock</td>\n",
              "      <td>0</td>\n",
              "      <td>1892.0</td>\n",
              "      <td>12.0</td>\n",
              "      <td>Animation,Short</td>\n",
              "      <td>6.1</td>\n",
              "      <td>121</td>\n",
              "    </tr>\n",
              "    <tr>\n",
              "      <th>4</th>\n",
              "      <td>tt0000005</td>\n",
              "      <td>short</td>\n",
              "      <td>Blacksmith Scene</td>\n",
              "      <td>Blacksmith Scene</td>\n",
              "      <td>0</td>\n",
              "      <td>1893.0</td>\n",
              "      <td>1.0</td>\n",
              "      <td>Comedy,Short</td>\n",
              "      <td>6.1</td>\n",
              "      <td>2051</td>\n",
              "    </tr>\n",
              "  </tbody>\n",
              "</table>\n",
              "</div>"
            ],
            "text/plain": [
              "      tconst titleType  ... averageRating numVotes\n",
              "0  tt0000001     short  ...           5.6     1608\n",
              "1  tt0000002     short  ...           6.0      197\n",
              "2  tt0000003     short  ...           6.5     1286\n",
              "3  tt0000004     short  ...           6.1      121\n",
              "4  tt0000005     short  ...           6.1     2051\n",
              "\n",
              "[5 rows x 10 columns]"
            ]
          },
          "metadata": {
            "tags": []
          },
          "execution_count": 17
        }
      ]
    },
    {
      "cell_type": "code",
      "metadata": {
        "id": "VFP46MN2l-sq",
        "colab_type": "code",
        "colab": {
          "base_uri": "https://localhost:8080/",
          "height": 261
        },
        "outputId": "ca380f9c-b3e3-436c-c567-03d0203c47f7"
      },
      "source": [
        "principal_added = pd.merge(data_principals, ratings_data, on = 'tconst')\n",
        "principal_added.head()"
      ],
      "execution_count": 21,
      "outputs": [
        {
          "output_type": "execute_result",
          "data": {
            "text/html": [
              "<div>\n",
              "<style scoped>\n",
              "    .dataframe tbody tr th:only-of-type {\n",
              "        vertical-align: middle;\n",
              "    }\n",
              "\n",
              "    .dataframe tbody tr th {\n",
              "        vertical-align: top;\n",
              "    }\n",
              "\n",
              "    .dataframe thead th {\n",
              "        text-align: right;\n",
              "    }\n",
              "</style>\n",
              "<table border=\"1\" class=\"dataframe\">\n",
              "  <thead>\n",
              "    <tr style=\"text-align: right;\">\n",
              "      <th></th>\n",
              "      <th>tconst</th>\n",
              "      <th>ordering</th>\n",
              "      <th>nconst</th>\n",
              "      <th>category</th>\n",
              "      <th>titleType</th>\n",
              "      <th>primaryTitle</th>\n",
              "      <th>originalTitle</th>\n",
              "      <th>isAdult</th>\n",
              "      <th>startYear</th>\n",
              "      <th>runtimeMinutes</th>\n",
              "      <th>genres</th>\n",
              "      <th>averageRating</th>\n",
              "      <th>numVotes</th>\n",
              "    </tr>\n",
              "  </thead>\n",
              "  <tbody>\n",
              "    <tr>\n",
              "      <th>0</th>\n",
              "      <td>tt0000001</td>\n",
              "      <td>1</td>\n",
              "      <td>nm1588970</td>\n",
              "      <td>self</td>\n",
              "      <td>short</td>\n",
              "      <td>Carmencita</td>\n",
              "      <td>Carmencita</td>\n",
              "      <td>0</td>\n",
              "      <td>1894.0</td>\n",
              "      <td>1.0</td>\n",
              "      <td>Documentary,Short</td>\n",
              "      <td>5.6</td>\n",
              "      <td>1608</td>\n",
              "    </tr>\n",
              "    <tr>\n",
              "      <th>1</th>\n",
              "      <td>tt0000001</td>\n",
              "      <td>2</td>\n",
              "      <td>nm0005690</td>\n",
              "      <td>director</td>\n",
              "      <td>short</td>\n",
              "      <td>Carmencita</td>\n",
              "      <td>Carmencita</td>\n",
              "      <td>0</td>\n",
              "      <td>1894.0</td>\n",
              "      <td>1.0</td>\n",
              "      <td>Documentary,Short</td>\n",
              "      <td>5.6</td>\n",
              "      <td>1608</td>\n",
              "    </tr>\n",
              "    <tr>\n",
              "      <th>2</th>\n",
              "      <td>tt0000001</td>\n",
              "      <td>3</td>\n",
              "      <td>nm0374658</td>\n",
              "      <td>cinematographer</td>\n",
              "      <td>short</td>\n",
              "      <td>Carmencita</td>\n",
              "      <td>Carmencita</td>\n",
              "      <td>0</td>\n",
              "      <td>1894.0</td>\n",
              "      <td>1.0</td>\n",
              "      <td>Documentary,Short</td>\n",
              "      <td>5.6</td>\n",
              "      <td>1608</td>\n",
              "    </tr>\n",
              "    <tr>\n",
              "      <th>3</th>\n",
              "      <td>tt0000002</td>\n",
              "      <td>1</td>\n",
              "      <td>nm0721526</td>\n",
              "      <td>director</td>\n",
              "      <td>short</td>\n",
              "      <td>Le clown et ses chiens</td>\n",
              "      <td>Le clown et ses chiens</td>\n",
              "      <td>0</td>\n",
              "      <td>1892.0</td>\n",
              "      <td>5.0</td>\n",
              "      <td>Animation,Short</td>\n",
              "      <td>6.0</td>\n",
              "      <td>197</td>\n",
              "    </tr>\n",
              "    <tr>\n",
              "      <th>4</th>\n",
              "      <td>tt0000002</td>\n",
              "      <td>2</td>\n",
              "      <td>nm1335271</td>\n",
              "      <td>composer</td>\n",
              "      <td>short</td>\n",
              "      <td>Le clown et ses chiens</td>\n",
              "      <td>Le clown et ses chiens</td>\n",
              "      <td>0</td>\n",
              "      <td>1892.0</td>\n",
              "      <td>5.0</td>\n",
              "      <td>Animation,Short</td>\n",
              "      <td>6.0</td>\n",
              "      <td>197</td>\n",
              "    </tr>\n",
              "  </tbody>\n",
              "</table>\n",
              "</div>"
            ],
            "text/plain": [
              "      tconst  ordering     nconst  ...             genres averageRating numVotes\n",
              "0  tt0000001         1  nm1588970  ...  Documentary,Short           5.6     1608\n",
              "1  tt0000001         2  nm0005690  ...  Documentary,Short           5.6     1608\n",
              "2  tt0000001         3  nm0374658  ...  Documentary,Short           5.6     1608\n",
              "3  tt0000002         1  nm0721526  ...    Animation,Short           6.0      197\n",
              "4  tt0000002         2  nm1335271  ...    Animation,Short           6.0      197\n",
              "\n",
              "[5 rows x 13 columns]"
            ]
          },
          "metadata": {
            "tags": []
          },
          "execution_count": 21
        }
      ]
    },
    {
      "cell_type": "code",
      "metadata": {
        "id": "I5OyUEM-nZem",
        "colab_type": "code",
        "colab": {
          "base_uri": "https://localhost:8080/",
          "height": 243
        },
        "outputId": "8a0b8416-a1ee-4faf-cb7e-113362b6569c"
      },
      "source": [
        "name_basics_data = pd.read_csv(fp1)\n",
        "names_data = name_basics_data[['nconst', 'primaryName']]\n",
        "final_data = pd.merge(names_data,principal_added,on='nconst')\n",
        "final_data.head()"
      ],
      "execution_count": 22,
      "outputs": [
        {
          "output_type": "execute_result",
          "data": {
            "text/html": [
              "<div>\n",
              "<style scoped>\n",
              "    .dataframe tbody tr th:only-of-type {\n",
              "        vertical-align: middle;\n",
              "    }\n",
              "\n",
              "    .dataframe tbody tr th {\n",
              "        vertical-align: top;\n",
              "    }\n",
              "\n",
              "    .dataframe thead th {\n",
              "        text-align: right;\n",
              "    }\n",
              "</style>\n",
              "<table border=\"1\" class=\"dataframe\">\n",
              "  <thead>\n",
              "    <tr style=\"text-align: right;\">\n",
              "      <th></th>\n",
              "      <th>nconst</th>\n",
              "      <th>primaryName</th>\n",
              "      <th>tconst</th>\n",
              "      <th>ordering</th>\n",
              "      <th>category</th>\n",
              "      <th>titleType</th>\n",
              "      <th>primaryTitle</th>\n",
              "      <th>originalTitle</th>\n",
              "      <th>isAdult</th>\n",
              "      <th>startYear</th>\n",
              "      <th>runtimeMinutes</th>\n",
              "      <th>genres</th>\n",
              "      <th>averageRating</th>\n",
              "      <th>numVotes</th>\n",
              "    </tr>\n",
              "  </thead>\n",
              "  <tbody>\n",
              "    <tr>\n",
              "      <th>0</th>\n",
              "      <td>nm0000001</td>\n",
              "      <td>Fred Astaire</td>\n",
              "      <td>tt0025164</td>\n",
              "      <td>1</td>\n",
              "      <td>actor</td>\n",
              "      <td>movie</td>\n",
              "      <td>The Gay Divorcee</td>\n",
              "      <td>The Gay Divorcee</td>\n",
              "      <td>0</td>\n",
              "      <td>1934.0</td>\n",
              "      <td>107.0</td>\n",
              "      <td>Comedy,Musical,Romance</td>\n",
              "      <td>7.5</td>\n",
              "      <td>6569</td>\n",
              "    </tr>\n",
              "    <tr>\n",
              "      <th>1</th>\n",
              "      <td>nm0000001</td>\n",
              "      <td>Fred Astaire</td>\n",
              "      <td>tt0026942</td>\n",
              "      <td>2</td>\n",
              "      <td>actor</td>\n",
              "      <td>movie</td>\n",
              "      <td>Roberta</td>\n",
              "      <td>Roberta</td>\n",
              "      <td>0</td>\n",
              "      <td>1935.0</td>\n",
              "      <td>106.0</td>\n",
              "      <td>Comedy,Musical,Romance</td>\n",
              "      <td>7.1</td>\n",
              "      <td>2799</td>\n",
              "    </tr>\n",
              "    <tr>\n",
              "      <th>2</th>\n",
              "      <td>nm0000001</td>\n",
              "      <td>Fred Astaire</td>\n",
              "      <td>tt0027125</td>\n",
              "      <td>1</td>\n",
              "      <td>actor</td>\n",
              "      <td>movie</td>\n",
              "      <td>Top Hat</td>\n",
              "      <td>Top Hat</td>\n",
              "      <td>0</td>\n",
              "      <td>1935.0</td>\n",
              "      <td>101.0</td>\n",
              "      <td>Comedy,Musical,Romance</td>\n",
              "      <td>7.8</td>\n",
              "      <td>16492</td>\n",
              "    </tr>\n",
              "    <tr>\n",
              "      <th>3</th>\n",
              "      <td>nm0000001</td>\n",
              "      <td>Fred Astaire</td>\n",
              "      <td>tt0027630</td>\n",
              "      <td>1</td>\n",
              "      <td>actor</td>\n",
              "      <td>movie</td>\n",
              "      <td>Follow the Fleet</td>\n",
              "      <td>Follow the Fleet</td>\n",
              "      <td>0</td>\n",
              "      <td>1936.0</td>\n",
              "      <td>110.0</td>\n",
              "      <td>Comedy,Musical,Romance</td>\n",
              "      <td>7.2</td>\n",
              "      <td>3814</td>\n",
              "    </tr>\n",
              "    <tr>\n",
              "      <th>4</th>\n",
              "      <td>nm0000001</td>\n",
              "      <td>Fred Astaire</td>\n",
              "      <td>tt0028333</td>\n",
              "      <td>1</td>\n",
              "      <td>actor</td>\n",
              "      <td>movie</td>\n",
              "      <td>Swing Time</td>\n",
              "      <td>Swing Time</td>\n",
              "      <td>0</td>\n",
              "      <td>1936.0</td>\n",
              "      <td>103.0</td>\n",
              "      <td>Comedy,Musical,Romance</td>\n",
              "      <td>7.6</td>\n",
              "      <td>11703</td>\n",
              "    </tr>\n",
              "  </tbody>\n",
              "</table>\n",
              "</div>"
            ],
            "text/plain": [
              "      nconst   primaryName  ... averageRating  numVotes\n",
              "0  nm0000001  Fred Astaire  ...           7.5      6569\n",
              "1  nm0000001  Fred Astaire  ...           7.1      2799\n",
              "2  nm0000001  Fred Astaire  ...           7.8     16492\n",
              "3  nm0000001  Fred Astaire  ...           7.2      3814\n",
              "4  nm0000001  Fred Astaire  ...           7.6     11703\n",
              "\n",
              "[5 rows x 14 columns]"
            ]
          },
          "metadata": {
            "tags": []
          },
          "execution_count": 22
        }
      ]
    },
    {
      "cell_type": "code",
      "metadata": {
        "id": "fSrtArb8o6L9",
        "colab_type": "code",
        "colab": {}
      },
      "source": [
        "final_data1 = final_data.copy()"
      ],
      "execution_count": 0,
      "outputs": []
    },
    {
      "cell_type": "code",
      "metadata": {
        "id": "T56OujIUot3o",
        "colab_type": "code",
        "colab": {
          "base_uri": "https://localhost:8080/",
          "height": 206
        },
        "outputId": "9f0db472-b9ed-4ab8-9041-3c1c4146e1fe"
      },
      "source": [
        "final_data.drop(final_data1.columns[4],axis=1 , inplace= True)\n",
        "final_data1.head()"
      ],
      "execution_count": 28,
      "outputs": [
        {
          "output_type": "execute_result",
          "data": {
            "text/html": [
              "<div>\n",
              "<style scoped>\n",
              "    .dataframe tbody tr th:only-of-type {\n",
              "        vertical-align: middle;\n",
              "    }\n",
              "\n",
              "    .dataframe tbody tr th {\n",
              "        vertical-align: top;\n",
              "    }\n",
              "\n",
              "    .dataframe thead th {\n",
              "        text-align: right;\n",
              "    }\n",
              "</style>\n",
              "<table border=\"1\" class=\"dataframe\">\n",
              "  <thead>\n",
              "    <tr style=\"text-align: right;\">\n",
              "      <th></th>\n",
              "      <th>primaryName</th>\n",
              "      <th>ordering</th>\n",
              "      <th>category</th>\n",
              "      <th>titleType</th>\n",
              "      <th>isAdult</th>\n",
              "      <th>startYear</th>\n",
              "      <th>runtimeMinutes</th>\n",
              "      <th>genres</th>\n",
              "      <th>averageRating</th>\n",
              "      <th>numVotes</th>\n",
              "    </tr>\n",
              "  </thead>\n",
              "  <tbody>\n",
              "    <tr>\n",
              "      <th>0</th>\n",
              "      <td>Fred Astaire</td>\n",
              "      <td>1</td>\n",
              "      <td>actor</td>\n",
              "      <td>movie</td>\n",
              "      <td>0</td>\n",
              "      <td>1934.0</td>\n",
              "      <td>107.0</td>\n",
              "      <td>Comedy,Musical,Romance</td>\n",
              "      <td>7.5</td>\n",
              "      <td>6569</td>\n",
              "    </tr>\n",
              "    <tr>\n",
              "      <th>1</th>\n",
              "      <td>Fred Astaire</td>\n",
              "      <td>2</td>\n",
              "      <td>actor</td>\n",
              "      <td>movie</td>\n",
              "      <td>0</td>\n",
              "      <td>1935.0</td>\n",
              "      <td>106.0</td>\n",
              "      <td>Comedy,Musical,Romance</td>\n",
              "      <td>7.1</td>\n",
              "      <td>2799</td>\n",
              "    </tr>\n",
              "    <tr>\n",
              "      <th>2</th>\n",
              "      <td>Fred Astaire</td>\n",
              "      <td>1</td>\n",
              "      <td>actor</td>\n",
              "      <td>movie</td>\n",
              "      <td>0</td>\n",
              "      <td>1935.0</td>\n",
              "      <td>101.0</td>\n",
              "      <td>Comedy,Musical,Romance</td>\n",
              "      <td>7.8</td>\n",
              "      <td>16492</td>\n",
              "    </tr>\n",
              "    <tr>\n",
              "      <th>3</th>\n",
              "      <td>Fred Astaire</td>\n",
              "      <td>1</td>\n",
              "      <td>actor</td>\n",
              "      <td>movie</td>\n",
              "      <td>0</td>\n",
              "      <td>1936.0</td>\n",
              "      <td>110.0</td>\n",
              "      <td>Comedy,Musical,Romance</td>\n",
              "      <td>7.2</td>\n",
              "      <td>3814</td>\n",
              "    </tr>\n",
              "    <tr>\n",
              "      <th>4</th>\n",
              "      <td>Fred Astaire</td>\n",
              "      <td>1</td>\n",
              "      <td>actor</td>\n",
              "      <td>movie</td>\n",
              "      <td>0</td>\n",
              "      <td>1936.0</td>\n",
              "      <td>103.0</td>\n",
              "      <td>Comedy,Musical,Romance</td>\n",
              "      <td>7.6</td>\n",
              "      <td>11703</td>\n",
              "    </tr>\n",
              "  </tbody>\n",
              "</table>\n",
              "</div>"
            ],
            "text/plain": [
              "    primaryName  ordering  ... averageRating numVotes\n",
              "0  Fred Astaire         1  ...           7.5     6569\n",
              "1  Fred Astaire         2  ...           7.1     2799\n",
              "2  Fred Astaire         1  ...           7.8    16492\n",
              "3  Fred Astaire         1  ...           7.2     3814\n",
              "4  Fred Astaire         1  ...           7.6    11703\n",
              "\n",
              "[5 rows x 10 columns]"
            ]
          },
          "metadata": {
            "tags": []
          },
          "execution_count": 28
        }
      ]
    },
    {
      "cell_type": "code",
      "metadata": {
        "id": "TznbOg16s8gf",
        "colab_type": "code",
        "colab": {}
      },
      "source": [
        "final_data2 = final_data1.copy()"
      ],
      "execution_count": 0,
      "outputs": []
    },
    {
      "cell_type": "code",
      "metadata": {
        "id": "fJ2teQHtqSeW",
        "colab_type": "code",
        "colab": {
          "base_uri": "https://localhost:8080/",
          "height": 206
        },
        "outputId": "d8ba093f-caf4-46e1-f441-a9cdbb0c9453"
      },
      "source": [
        "final_data2['genres'] = final_data2['genres'].str.split(\",\",n=1,expand=True)\n",
        "final_data2.head()"
      ],
      "execution_count": 40,
      "outputs": [
        {
          "output_type": "execute_result",
          "data": {
            "text/html": [
              "<div>\n",
              "<style scoped>\n",
              "    .dataframe tbody tr th:only-of-type {\n",
              "        vertical-align: middle;\n",
              "    }\n",
              "\n",
              "    .dataframe tbody tr th {\n",
              "        vertical-align: top;\n",
              "    }\n",
              "\n",
              "    .dataframe thead th {\n",
              "        text-align: right;\n",
              "    }\n",
              "</style>\n",
              "<table border=\"1\" class=\"dataframe\">\n",
              "  <thead>\n",
              "    <tr style=\"text-align: right;\">\n",
              "      <th></th>\n",
              "      <th>primaryName</th>\n",
              "      <th>ordering</th>\n",
              "      <th>category</th>\n",
              "      <th>titleType</th>\n",
              "      <th>isAdult</th>\n",
              "      <th>startYear</th>\n",
              "      <th>runtimeMinutes</th>\n",
              "      <th>genres</th>\n",
              "      <th>averageRating</th>\n",
              "      <th>numVotes</th>\n",
              "    </tr>\n",
              "  </thead>\n",
              "  <tbody>\n",
              "    <tr>\n",
              "      <th>0</th>\n",
              "      <td>Fred Astaire</td>\n",
              "      <td>1</td>\n",
              "      <td>actor</td>\n",
              "      <td>movie</td>\n",
              "      <td>0</td>\n",
              "      <td>1934.0</td>\n",
              "      <td>107.0</td>\n",
              "      <td>Comedy</td>\n",
              "      <td>7.5</td>\n",
              "      <td>6569</td>\n",
              "    </tr>\n",
              "    <tr>\n",
              "      <th>1</th>\n",
              "      <td>Fred Astaire</td>\n",
              "      <td>2</td>\n",
              "      <td>actor</td>\n",
              "      <td>movie</td>\n",
              "      <td>0</td>\n",
              "      <td>1935.0</td>\n",
              "      <td>106.0</td>\n",
              "      <td>Comedy</td>\n",
              "      <td>7.1</td>\n",
              "      <td>2799</td>\n",
              "    </tr>\n",
              "    <tr>\n",
              "      <th>2</th>\n",
              "      <td>Fred Astaire</td>\n",
              "      <td>1</td>\n",
              "      <td>actor</td>\n",
              "      <td>movie</td>\n",
              "      <td>0</td>\n",
              "      <td>1935.0</td>\n",
              "      <td>101.0</td>\n",
              "      <td>Comedy</td>\n",
              "      <td>7.8</td>\n",
              "      <td>16492</td>\n",
              "    </tr>\n",
              "    <tr>\n",
              "      <th>3</th>\n",
              "      <td>Fred Astaire</td>\n",
              "      <td>1</td>\n",
              "      <td>actor</td>\n",
              "      <td>movie</td>\n",
              "      <td>0</td>\n",
              "      <td>1936.0</td>\n",
              "      <td>110.0</td>\n",
              "      <td>Comedy</td>\n",
              "      <td>7.2</td>\n",
              "      <td>3814</td>\n",
              "    </tr>\n",
              "    <tr>\n",
              "      <th>4</th>\n",
              "      <td>Fred Astaire</td>\n",
              "      <td>1</td>\n",
              "      <td>actor</td>\n",
              "      <td>movie</td>\n",
              "      <td>0</td>\n",
              "      <td>1936.0</td>\n",
              "      <td>103.0</td>\n",
              "      <td>Comedy</td>\n",
              "      <td>7.6</td>\n",
              "      <td>11703</td>\n",
              "    </tr>\n",
              "  </tbody>\n",
              "</table>\n",
              "</div>"
            ],
            "text/plain": [
              "    primaryName  ordering category  ...  genres  averageRating  numVotes\n",
              "0  Fred Astaire         1    actor  ...  Comedy            7.5      6569\n",
              "1  Fred Astaire         2    actor  ...  Comedy            7.1      2799\n",
              "2  Fred Astaire         1    actor  ...  Comedy            7.8     16492\n",
              "3  Fred Astaire         1    actor  ...  Comedy            7.2      3814\n",
              "4  Fred Astaire         1    actor  ...  Comedy            7.6     11703\n",
              "\n",
              "[5 rows x 10 columns]"
            ]
          },
          "metadata": {
            "tags": []
          },
          "execution_count": 40
        }
      ]
    },
    {
      "cell_type": "code",
      "metadata": {
        "id": "7HCzwQjLshms",
        "colab_type": "code",
        "colab": {}
      },
      "source": [
        "# Import label encoder \n",
        "from sklearn import preprocessing \n",
        "  \n",
        "# label_encoder object knows how to understand word labels. \n",
        "label_encoder = preprocessing.LabelEncoder() \n",
        "  "
      ],
      "execution_count": 0,
      "outputs": []
    },
    {
      "cell_type": "code",
      "metadata": {
        "id": "8_K1Z-1ttr9g",
        "colab_type": "code",
        "colab": {
          "base_uri": "https://localhost:8080/",
          "height": 206
        },
        "outputId": "cadc0eef-5029-4ac6-cb40-71a135aa6ef3"
      },
      "source": [
        "#final_data2['primaryName']= label_encoder.fit_transform(final_data2['primaryName']) \n",
        "#final_data2['category']= label_encoder.fit_transform(final_data2['category']) \n",
        "#final_data2['titleType']= label_encoder.fit_transform(final_data2['titleType']) \n",
        "final_data2['genres']= label_encoder.fit_transform(final_data2['genres'].astype(str)) \n",
        "final_data2.head()"
      ],
      "execution_count": 55,
      "outputs": [
        {
          "output_type": "execute_result",
          "data": {
            "text/html": [
              "<div>\n",
              "<style scoped>\n",
              "    .dataframe tbody tr th:only-of-type {\n",
              "        vertical-align: middle;\n",
              "    }\n",
              "\n",
              "    .dataframe tbody tr th {\n",
              "        vertical-align: top;\n",
              "    }\n",
              "\n",
              "    .dataframe thead th {\n",
              "        text-align: right;\n",
              "    }\n",
              "</style>\n",
              "<table border=\"1\" class=\"dataframe\">\n",
              "  <thead>\n",
              "    <tr style=\"text-align: right;\">\n",
              "      <th></th>\n",
              "      <th>primaryName</th>\n",
              "      <th>ordering</th>\n",
              "      <th>category</th>\n",
              "      <th>titleType</th>\n",
              "      <th>isAdult</th>\n",
              "      <th>startYear</th>\n",
              "      <th>runtimeMinutes</th>\n",
              "      <th>genres</th>\n",
              "      <th>averageRating</th>\n",
              "      <th>numVotes</th>\n",
              "    </tr>\n",
              "  </thead>\n",
              "  <tbody>\n",
              "    <tr>\n",
              "      <th>0</th>\n",
              "      <td>440731</td>\n",
              "      <td>1</td>\n",
              "      <td>0</td>\n",
              "      <td>0</td>\n",
              "      <td>0</td>\n",
              "      <td>1934.0</td>\n",
              "      <td>107.0</td>\n",
              "      <td>5</td>\n",
              "      <td>7.5</td>\n",
              "      <td>6569</td>\n",
              "    </tr>\n",
              "    <tr>\n",
              "      <th>1</th>\n",
              "      <td>440731</td>\n",
              "      <td>2</td>\n",
              "      <td>0</td>\n",
              "      <td>0</td>\n",
              "      <td>0</td>\n",
              "      <td>1935.0</td>\n",
              "      <td>106.0</td>\n",
              "      <td>5</td>\n",
              "      <td>7.1</td>\n",
              "      <td>2799</td>\n",
              "    </tr>\n",
              "    <tr>\n",
              "      <th>2</th>\n",
              "      <td>440731</td>\n",
              "      <td>1</td>\n",
              "      <td>0</td>\n",
              "      <td>0</td>\n",
              "      <td>0</td>\n",
              "      <td>1935.0</td>\n",
              "      <td>101.0</td>\n",
              "      <td>5</td>\n",
              "      <td>7.8</td>\n",
              "      <td>16492</td>\n",
              "    </tr>\n",
              "    <tr>\n",
              "      <th>3</th>\n",
              "      <td>440731</td>\n",
              "      <td>1</td>\n",
              "      <td>0</td>\n",
              "      <td>0</td>\n",
              "      <td>0</td>\n",
              "      <td>1936.0</td>\n",
              "      <td>110.0</td>\n",
              "      <td>5</td>\n",
              "      <td>7.2</td>\n",
              "      <td>3814</td>\n",
              "    </tr>\n",
              "    <tr>\n",
              "      <th>4</th>\n",
              "      <td>440731</td>\n",
              "      <td>1</td>\n",
              "      <td>0</td>\n",
              "      <td>0</td>\n",
              "      <td>0</td>\n",
              "      <td>1936.0</td>\n",
              "      <td>103.0</td>\n",
              "      <td>5</td>\n",
              "      <td>7.6</td>\n",
              "      <td>11703</td>\n",
              "    </tr>\n",
              "  </tbody>\n",
              "</table>\n",
              "</div>"
            ],
            "text/plain": [
              "   primaryName  ordering  category  ...  genres  averageRating  numVotes\n",
              "0       440731         1         0  ...       5            7.5      6569\n",
              "1       440731         2         0  ...       5            7.1      2799\n",
              "2       440731         1         0  ...       5            7.8     16492\n",
              "3       440731         1         0  ...       5            7.2      3814\n",
              "4       440731         1         0  ...       5            7.6     11703\n",
              "\n",
              "[5 rows x 10 columns]"
            ]
          },
          "metadata": {
            "tags": []
          },
          "execution_count": 55
        }
      ]
    },
    {
      "cell_type": "code",
      "metadata": {
        "id": "0yeVzgEm03rz",
        "colab_type": "code",
        "colab": {
          "base_uri": "https://localhost:8080/",
          "height": 206
        },
        "outputId": "d2516507-9ea0-4029-b003-fe1f900be7b4"
      },
      "source": [
        "final_data2 = pd.read_csv('/content/drive/My Drive/encode_data.csv')\n",
        "final_data2.head()"
      ],
      "execution_count": 4,
      "outputs": [
        {
          "output_type": "execute_result",
          "data": {
            "text/html": [
              "<div>\n",
              "<style scoped>\n",
              "    .dataframe tbody tr th:only-of-type {\n",
              "        vertical-align: middle;\n",
              "    }\n",
              "\n",
              "    .dataframe tbody tr th {\n",
              "        vertical-align: top;\n",
              "    }\n",
              "\n",
              "    .dataframe thead th {\n",
              "        text-align: right;\n",
              "    }\n",
              "</style>\n",
              "<table border=\"1\" class=\"dataframe\">\n",
              "  <thead>\n",
              "    <tr style=\"text-align: right;\">\n",
              "      <th></th>\n",
              "      <th>Unnamed: 0</th>\n",
              "      <th>primaryName</th>\n",
              "      <th>ordering</th>\n",
              "      <th>category</th>\n",
              "      <th>titleType</th>\n",
              "      <th>isAdult</th>\n",
              "      <th>startYear</th>\n",
              "      <th>runtimeMinutes</th>\n",
              "      <th>genres</th>\n",
              "      <th>averageRating</th>\n",
              "      <th>numVotes</th>\n",
              "    </tr>\n",
              "  </thead>\n",
              "  <tbody>\n",
              "    <tr>\n",
              "      <th>0</th>\n",
              "      <td>0</td>\n",
              "      <td>440731</td>\n",
              "      <td>1</td>\n",
              "      <td>0</td>\n",
              "      <td>0</td>\n",
              "      <td>0</td>\n",
              "      <td>1934.0</td>\n",
              "      <td>107.0</td>\n",
              "      <td>5</td>\n",
              "      <td>7.5</td>\n",
              "      <td>6569</td>\n",
              "    </tr>\n",
              "    <tr>\n",
              "      <th>1</th>\n",
              "      <td>1</td>\n",
              "      <td>440731</td>\n",
              "      <td>2</td>\n",
              "      <td>0</td>\n",
              "      <td>0</td>\n",
              "      <td>0</td>\n",
              "      <td>1935.0</td>\n",
              "      <td>106.0</td>\n",
              "      <td>5</td>\n",
              "      <td>7.1</td>\n",
              "      <td>2799</td>\n",
              "    </tr>\n",
              "    <tr>\n",
              "      <th>2</th>\n",
              "      <td>2</td>\n",
              "      <td>440731</td>\n",
              "      <td>1</td>\n",
              "      <td>0</td>\n",
              "      <td>0</td>\n",
              "      <td>0</td>\n",
              "      <td>1935.0</td>\n",
              "      <td>101.0</td>\n",
              "      <td>5</td>\n",
              "      <td>7.8</td>\n",
              "      <td>16492</td>\n",
              "    </tr>\n",
              "    <tr>\n",
              "      <th>3</th>\n",
              "      <td>3</td>\n",
              "      <td>440731</td>\n",
              "      <td>1</td>\n",
              "      <td>0</td>\n",
              "      <td>0</td>\n",
              "      <td>0</td>\n",
              "      <td>1936.0</td>\n",
              "      <td>110.0</td>\n",
              "      <td>5</td>\n",
              "      <td>7.2</td>\n",
              "      <td>3814</td>\n",
              "    </tr>\n",
              "    <tr>\n",
              "      <th>4</th>\n",
              "      <td>4</td>\n",
              "      <td>440731</td>\n",
              "      <td>1</td>\n",
              "      <td>0</td>\n",
              "      <td>0</td>\n",
              "      <td>0</td>\n",
              "      <td>1936.0</td>\n",
              "      <td>103.0</td>\n",
              "      <td>5</td>\n",
              "      <td>7.6</td>\n",
              "      <td>11703</td>\n",
              "    </tr>\n",
              "  </tbody>\n",
              "</table>\n",
              "</div>"
            ],
            "text/plain": [
              "   Unnamed: 0  primaryName  ordering  ...  genres  averageRating  numVotes\n",
              "0           0       440731         1  ...       5            7.5      6569\n",
              "1           1       440731         2  ...       5            7.1      2799\n",
              "2           2       440731         1  ...       5            7.8     16492\n",
              "3           3       440731         1  ...       5            7.2      3814\n",
              "4           4       440731         1  ...       5            7.6     11703\n",
              "\n",
              "[5 rows x 11 columns]"
            ]
          },
          "metadata": {
            "tags": []
          },
          "execution_count": 4
        }
      ]
    },
    {
      "cell_type": "code",
      "metadata": {
        "id": "lavo5suQ6a8L",
        "colab_type": "code",
        "colab": {
          "base_uri": "https://localhost:8080/",
          "height": 206
        },
        "outputId": "60f7a75a-cbd4-4904-8092-b0cb53e4662d"
      },
      "source": [
        "final_data2.drop(final_data2.columns[0],axis=1 , inplace= True)\n",
        "final_data2.head()"
      ],
      "execution_count": 6,
      "outputs": [
        {
          "output_type": "execute_result",
          "data": {
            "text/html": [
              "<div>\n",
              "<style scoped>\n",
              "    .dataframe tbody tr th:only-of-type {\n",
              "        vertical-align: middle;\n",
              "    }\n",
              "\n",
              "    .dataframe tbody tr th {\n",
              "        vertical-align: top;\n",
              "    }\n",
              "\n",
              "    .dataframe thead th {\n",
              "        text-align: right;\n",
              "    }\n",
              "</style>\n",
              "<table border=\"1\" class=\"dataframe\">\n",
              "  <thead>\n",
              "    <tr style=\"text-align: right;\">\n",
              "      <th></th>\n",
              "      <th>primaryName</th>\n",
              "      <th>ordering</th>\n",
              "      <th>category</th>\n",
              "      <th>titleType</th>\n",
              "      <th>isAdult</th>\n",
              "      <th>startYear</th>\n",
              "      <th>runtimeMinutes</th>\n",
              "      <th>genres</th>\n",
              "      <th>averageRating</th>\n",
              "      <th>numVotes</th>\n",
              "    </tr>\n",
              "  </thead>\n",
              "  <tbody>\n",
              "    <tr>\n",
              "      <th>0</th>\n",
              "      <td>440731</td>\n",
              "      <td>1</td>\n",
              "      <td>0</td>\n",
              "      <td>0</td>\n",
              "      <td>0</td>\n",
              "      <td>1934.0</td>\n",
              "      <td>107.0</td>\n",
              "      <td>5</td>\n",
              "      <td>7.5</td>\n",
              "      <td>6569</td>\n",
              "    </tr>\n",
              "    <tr>\n",
              "      <th>1</th>\n",
              "      <td>440731</td>\n",
              "      <td>2</td>\n",
              "      <td>0</td>\n",
              "      <td>0</td>\n",
              "      <td>0</td>\n",
              "      <td>1935.0</td>\n",
              "      <td>106.0</td>\n",
              "      <td>5</td>\n",
              "      <td>7.1</td>\n",
              "      <td>2799</td>\n",
              "    </tr>\n",
              "    <tr>\n",
              "      <th>2</th>\n",
              "      <td>440731</td>\n",
              "      <td>1</td>\n",
              "      <td>0</td>\n",
              "      <td>0</td>\n",
              "      <td>0</td>\n",
              "      <td>1935.0</td>\n",
              "      <td>101.0</td>\n",
              "      <td>5</td>\n",
              "      <td>7.8</td>\n",
              "      <td>16492</td>\n",
              "    </tr>\n",
              "    <tr>\n",
              "      <th>3</th>\n",
              "      <td>440731</td>\n",
              "      <td>1</td>\n",
              "      <td>0</td>\n",
              "      <td>0</td>\n",
              "      <td>0</td>\n",
              "      <td>1936.0</td>\n",
              "      <td>110.0</td>\n",
              "      <td>5</td>\n",
              "      <td>7.2</td>\n",
              "      <td>3814</td>\n",
              "    </tr>\n",
              "    <tr>\n",
              "      <th>4</th>\n",
              "      <td>440731</td>\n",
              "      <td>1</td>\n",
              "      <td>0</td>\n",
              "      <td>0</td>\n",
              "      <td>0</td>\n",
              "      <td>1936.0</td>\n",
              "      <td>103.0</td>\n",
              "      <td>5</td>\n",
              "      <td>7.6</td>\n",
              "      <td>11703</td>\n",
              "    </tr>\n",
              "  </tbody>\n",
              "</table>\n",
              "</div>"
            ],
            "text/plain": [
              "   primaryName  ordering  category  ...  genres  averageRating  numVotes\n",
              "0       440731         1         0  ...       5            7.5      6569\n",
              "1       440731         2         0  ...       5            7.1      2799\n",
              "2       440731         1         0  ...       5            7.8     16492\n",
              "3       440731         1         0  ...       5            7.2      3814\n",
              "4       440731         1         0  ...       5            7.6     11703\n",
              "\n",
              "[5 rows x 10 columns]"
            ]
          },
          "metadata": {
            "tags": []
          },
          "execution_count": 6
        }
      ]
    },
    {
      "cell_type": "code",
      "metadata": {
        "id": "A2fPYj8y0YfQ",
        "colab_type": "code",
        "colab": {
          "base_uri": "https://localhost:8080/",
          "height": 74
        },
        "outputId": "9f503663-eb8b-46a6-e8b2-bee3345cc9a9"
      },
      "source": [
        "import statsmodels.api as sm\n",
        "import statsmodels.formula.api as smf\n",
        "import numpy as np\n",
        "import pandas as pd"
      ],
      "execution_count": 2,
      "outputs": [
        {
          "output_type": "stream",
          "text": [
            "/usr/local/lib/python3.6/dist-packages/statsmodels/tools/_testing.py:19: FutureWarning: pandas.util.testing is deprecated. Use the functions in the public API at pandas.testing instead.\n",
            "  import pandas.util.testing as tm\n"
          ],
          "name": "stderr"
        }
      ]
    },
    {
      "cell_type": "code",
      "metadata": {
        "id": "sAjniErI0q1l",
        "colab_type": "code",
        "colab": {
          "base_uri": "https://localhost:8080/",
          "height": 635
        },
        "outputId": "2873c4f1-81db-412b-e89d-fb9770eb712b"
      },
      "source": [
        "mod = smf.ols(formula='averageRating ~primaryName+category +titleType+isAdult+runtimeMinutes +genres+numVotes', data=final_data2)\n",
        "res = mod.fit()\n",
        "print(res.summary())"
      ],
      "execution_count": 7,
      "outputs": [
        {
          "output_type": "stream",
          "text": [
            "                            OLS Regression Results                            \n",
            "==============================================================================\n",
            "Dep. Variable:          averageRating   R-squared:                       0.035\n",
            "Model:                            OLS   Adj. R-squared:                  0.035\n",
            "Method:                 Least Squares   F-statistic:                 5.373e+04\n",
            "Date:                Tue, 28 Apr 2020   Prob (F-statistic):               0.00\n",
            "Time:                        19:25:04   Log-Likelihood:            -1.7608e+07\n",
            "No. Observations:            10322472   AIC:                         3.522e+07\n",
            "Df Residuals:                10322464   BIC:                         3.522e+07\n",
            "Df Model:                           7                                         \n",
            "Covariance Type:            nonrobust                                         \n",
            "==================================================================================\n",
            "                     coef    std err          t      P>|t|      [0.025      0.975]\n",
            "----------------------------------------------------------------------------------\n",
            "Intercept          7.0740      0.001   5696.949      0.000       7.072       7.076\n",
            "primaryName    -1.396e-08   1.02e-09    -13.735      0.000    -1.6e-08    -1.2e-08\n",
            "category           0.0089   9.77e-05     91.022      0.000       0.009       0.009\n",
            "titleType          0.0519      0.000    254.128      0.000       0.051       0.052\n",
            "isAdult           -0.0047      0.000    -18.987      0.000      -0.005      -0.004\n",
            "runtimeMinutes    -0.0037   8.16e-06   -452.108      0.000      -0.004      -0.004\n",
            "genres            -0.0178   6.78e-05   -262.565      0.000      -0.018      -0.018\n",
            "numVotes        1.992e-06   2.31e-08     86.323      0.000    1.95e-06    2.04e-06\n",
            "==============================================================================\n",
            "Omnibus:                  4167923.502   Durbin-Watson:                   1.155\n",
            "Prob(Omnibus):                  0.000   Jarque-Bera (JB):       6079389175.304\n",
            "Skew:                           0.088   Prob(JB):                         0.00\n",
            "Kurtosis:                     121.889   Cond. No.                     2.47e+06\n",
            "==============================================================================\n",
            "\n",
            "Warnings:\n",
            "[1] Standard Errors assume that the covariance matrix of the errors is correctly specified.\n",
            "[2] The condition number is large, 2.47e+06. This might indicate that there are\n",
            "strong multicollinearity or other numerical problems.\n"
          ],
          "name": "stdout"
        }
      ]
    },
    {
      "cell_type": "code",
      "metadata": {
        "id": "lfAnUgo92JRq",
        "colab_type": "code",
        "colab": {}
      },
      "source": [
        "res = mod.fit()"
      ],
      "execution_count": 0,
      "outputs": []
    },
    {
      "cell_type": "code",
      "metadata": {
        "id": "IMIi7yEv2QYJ",
        "colab_type": "code",
        "colab": {
          "base_uri": "https://localhost:8080/",
          "height": 673
        },
        "outputId": "c912659a-b335-4d28-cbfc-86a13c4dd158"
      },
      "source": [
        "print(res.summary())"
      ],
      "execution_count": 65,
      "outputs": [
        {
          "output_type": "stream",
          "text": [
            "                            OLS Regression Results                            \n",
            "==============================================================================\n",
            "Dep. Variable:          averageRating   R-squared:                       0.049\n",
            "Model:                            OLS   Adj. R-squared:                  0.049\n",
            "Method:                 Least Squares   F-statistic:                 5.883e+04\n",
            "Date:                Tue, 28 Apr 2020   Prob (F-statistic):               0.00\n",
            "Time:                        19:06:38   Log-Likelihood:            -1.7532e+07\n",
            "No. Observations:            10321133   AIC:                         3.506e+07\n",
            "Df Residuals:                10321123   BIC:                         3.506e+07\n",
            "Df Model:                           9                                         \n",
            "Covariance Type:            nonrobust                                         \n",
            "==================================================================================\n",
            "                     coef    std err          t      P>|t|      [0.025      0.975]\n",
            "----------------------------------------------------------------------------------\n",
            "Intercept         -3.7926      0.040    -95.276      0.000      -3.871      -3.715\n",
            "primaryName    -1.649e-08   1.01e-09    -16.339      0.000   -1.85e-08   -1.45e-08\n",
            "ordering          -0.0014      0.000     -8.923      0.000      -0.002      -0.001\n",
            "category           0.0062      0.000     57.485      0.000       0.006       0.006\n",
            "titleType          0.0590      0.000    272.524      0.000       0.059       0.059\n",
            "isAdult           -0.8099      0.003   -256.101      0.000      -0.816      -0.804\n",
            "startYear          0.0054   1.99e-05    273.237      0.000       0.005       0.005\n",
            "runtimeMinutes    -0.0033   8.19e-06   -399.718      0.000      -0.003      -0.003\n",
            "genres            -0.0195   6.82e-05   -286.652      0.000      -0.020      -0.019\n",
            "numVotes        1.798e-06   2.29e-08     78.427      0.000    1.75e-06    1.84e-06\n",
            "==============================================================================\n",
            "Omnibus:                  3864336.982   Durbin-Watson:                   1.169\n",
            "Prob(Omnibus):                  0.000   Jarque-Bera (JB):       2480044715.147\n",
            "Skew:                          -0.218   Prob(JB):                         0.00\n",
            "Kurtosis:                      78.939   Cond. No.                     7.95e+07\n",
            "==============================================================================\n",
            "\n",
            "Warnings:\n",
            "[1] Standard Errors assume that the covariance matrix of the errors is correctly specified.\n",
            "[2] The condition number is large, 7.95e+07. This might indicate that there are\n",
            "strong multicollinearity or other numerical problems.\n"
          ],
          "name": "stdout"
        }
      ]
    },
    {
      "cell_type": "code",
      "metadata": {
        "id": "7xr0OSUwsGnL",
        "colab_type": "code",
        "colab": {}
      },
      "source": [
        "final_data2.to_csv('/content/drive/My Drive/encode_data.csv')"
      ],
      "execution_count": 0,
      "outputs": []
    },
    {
      "cell_type": "code",
      "metadata": {
        "id": "QNjkG3XAwIQN",
        "colab_type": "code",
        "colab": {
          "base_uri": "https://localhost:8080/",
          "height": 349
        },
        "outputId": "e2c7ecdb-c143-4269-8846-bd9833c5032a"
      },
      "source": [
        "expo = final_data1['genres'].str.split(\",\",expand=True)\n",
        "expo.hea"
      ],
      "execution_count": 64,
      "outputs": [
        {
          "output_type": "error",
          "ename": "KeyboardInterrupt",
          "evalue": "ignored",
          "traceback": [
            "\u001b[0;31m---------------------------------------------------------------------------\u001b[0m",
            "\u001b[0;31mKeyboardInterrupt\u001b[0m                         Traceback (most recent call last)",
            "\u001b[0;32m<ipython-input-64-72bf7d397ae8>\u001b[0m in \u001b[0;36m<module>\u001b[0;34m()\u001b[0m\n\u001b[0;32m----> 1\u001b[0;31m \u001b[0mexpo\u001b[0m \u001b[0;34m=\u001b[0m \u001b[0mfinal_data1\u001b[0m\u001b[0;34m[\u001b[0m\u001b[0;34m'genres'\u001b[0m\u001b[0;34m]\u001b[0m\u001b[0;34m.\u001b[0m\u001b[0mstr\u001b[0m\u001b[0;34m.\u001b[0m\u001b[0msplit\u001b[0m\u001b[0;34m(\u001b[0m\u001b[0;34m\",\"\u001b[0m\u001b[0;34m,\u001b[0m\u001b[0mexpand\u001b[0m\u001b[0;34m=\u001b[0m\u001b[0;32mTrue\u001b[0m\u001b[0;34m)\u001b[0m\u001b[0;34m\u001b[0m\u001b[0;34m\u001b[0m\u001b[0m\n\u001b[0m\u001b[1;32m      2\u001b[0m \u001b[0mexpo\u001b[0m\u001b[0;34m.\u001b[0m\u001b[0mhea\u001b[0m\u001b[0;34m\u001b[0m\u001b[0;34m\u001b[0m\u001b[0m\n",
            "\u001b[0;32m/usr/local/lib/python3.6/dist-packages/pandas/core/strings.py\u001b[0m in \u001b[0;36mwrapper\u001b[0;34m(self, *args, **kwargs)\u001b[0m\n\u001b[1;32m   1952\u001b[0m                 )\n\u001b[1;32m   1953\u001b[0m                 \u001b[0;32mraise\u001b[0m \u001b[0mTypeError\u001b[0m\u001b[0;34m(\u001b[0m\u001b[0mmsg\u001b[0m\u001b[0;34m)\u001b[0m\u001b[0;34m\u001b[0m\u001b[0;34m\u001b[0m\u001b[0m\n\u001b[0;32m-> 1954\u001b[0;31m             \u001b[0;32mreturn\u001b[0m \u001b[0mfunc\u001b[0m\u001b[0;34m(\u001b[0m\u001b[0mself\u001b[0m\u001b[0;34m,\u001b[0m \u001b[0;34m*\u001b[0m\u001b[0margs\u001b[0m\u001b[0;34m,\u001b[0m \u001b[0;34m**\u001b[0m\u001b[0mkwargs\u001b[0m\u001b[0;34m)\u001b[0m\u001b[0;34m\u001b[0m\u001b[0;34m\u001b[0m\u001b[0m\n\u001b[0m\u001b[1;32m   1955\u001b[0m \u001b[0;34m\u001b[0m\u001b[0m\n\u001b[1;32m   1956\u001b[0m         \u001b[0mwrapper\u001b[0m\u001b[0;34m.\u001b[0m\u001b[0m__name__\u001b[0m \u001b[0;34m=\u001b[0m \u001b[0mfunc_name\u001b[0m\u001b[0;34m\u001b[0m\u001b[0;34m\u001b[0m\u001b[0m\n",
            "\u001b[0;32m/usr/local/lib/python3.6/dist-packages/pandas/core/strings.py\u001b[0m in \u001b[0;36msplit\u001b[0;34m(self, pat, n, expand)\u001b[0m\n\u001b[1;32m   2626\u001b[0m     \u001b[0;32mdef\u001b[0m \u001b[0msplit\u001b[0m\u001b[0;34m(\u001b[0m\u001b[0mself\u001b[0m\u001b[0;34m,\u001b[0m \u001b[0mpat\u001b[0m\u001b[0;34m=\u001b[0m\u001b[0;32mNone\u001b[0m\u001b[0;34m,\u001b[0m \u001b[0mn\u001b[0m\u001b[0;34m=\u001b[0m\u001b[0;34m-\u001b[0m\u001b[0;36m1\u001b[0m\u001b[0;34m,\u001b[0m \u001b[0mexpand\u001b[0m\u001b[0;34m=\u001b[0m\u001b[0;32mFalse\u001b[0m\u001b[0;34m)\u001b[0m\u001b[0;34m:\u001b[0m\u001b[0;34m\u001b[0m\u001b[0;34m\u001b[0m\u001b[0m\n\u001b[1;32m   2627\u001b[0m         \u001b[0mresult\u001b[0m \u001b[0;34m=\u001b[0m \u001b[0mstr_split\u001b[0m\u001b[0;34m(\u001b[0m\u001b[0mself\u001b[0m\u001b[0;34m.\u001b[0m\u001b[0m_parent\u001b[0m\u001b[0;34m,\u001b[0m \u001b[0mpat\u001b[0m\u001b[0;34m,\u001b[0m \u001b[0mn\u001b[0m\u001b[0;34m=\u001b[0m\u001b[0mn\u001b[0m\u001b[0;34m)\u001b[0m\u001b[0;34m\u001b[0m\u001b[0;34m\u001b[0m\u001b[0m\n\u001b[0;32m-> 2628\u001b[0;31m         \u001b[0;32mreturn\u001b[0m \u001b[0mself\u001b[0m\u001b[0;34m.\u001b[0m\u001b[0m_wrap_result\u001b[0m\u001b[0;34m(\u001b[0m\u001b[0mresult\u001b[0m\u001b[0;34m,\u001b[0m \u001b[0mexpand\u001b[0m\u001b[0;34m=\u001b[0m\u001b[0mexpand\u001b[0m\u001b[0;34m,\u001b[0m \u001b[0mreturns_string\u001b[0m\u001b[0;34m=\u001b[0m\u001b[0mexpand\u001b[0m\u001b[0;34m)\u001b[0m\u001b[0;34m\u001b[0m\u001b[0;34m\u001b[0m\u001b[0m\n\u001b[0m\u001b[1;32m   2629\u001b[0m \u001b[0;34m\u001b[0m\u001b[0m\n\u001b[1;32m   2630\u001b[0m     \u001b[0;34m@\u001b[0m\u001b[0mAppender\u001b[0m\u001b[0;34m(\u001b[0m\u001b[0m_shared_docs\u001b[0m\u001b[0;34m[\u001b[0m\u001b[0;34m\"str_split\"\u001b[0m\u001b[0;34m]\u001b[0m \u001b[0;34m%\u001b[0m \u001b[0;34m{\u001b[0m\u001b[0;34m\"side\"\u001b[0m\u001b[0;34m:\u001b[0m \u001b[0;34m\"end\"\u001b[0m\u001b[0;34m,\u001b[0m \u001b[0;34m\"method\"\u001b[0m\u001b[0;34m:\u001b[0m \u001b[0;34m\"rsplit\"\u001b[0m\u001b[0;34m}\u001b[0m\u001b[0;34m)\u001b[0m\u001b[0;34m\u001b[0m\u001b[0;34m\u001b[0m\u001b[0m\n",
            "\u001b[0;32m/usr/local/lib/python3.6/dist-packages/pandas/core/strings.py\u001b[0m in \u001b[0;36m_wrap_result\u001b[0;34m(self, result, use_codes, name, expand, fill_value, returns_string)\u001b[0m\n\u001b[1;32m   2211\u001b[0m             \u001b[0;32mif\u001b[0m \u001b[0mexpand\u001b[0m\u001b[0;34m:\u001b[0m\u001b[0;34m\u001b[0m\u001b[0;34m\u001b[0m\u001b[0m\n\u001b[1;32m   2212\u001b[0m                 \u001b[0mcons\u001b[0m \u001b[0;34m=\u001b[0m \u001b[0mself\u001b[0m\u001b[0;34m.\u001b[0m\u001b[0m_orig\u001b[0m\u001b[0;34m.\u001b[0m\u001b[0m_constructor_expanddim\u001b[0m\u001b[0;34m\u001b[0m\u001b[0;34m\u001b[0m\u001b[0m\n\u001b[0;32m-> 2213\u001b[0;31m                 \u001b[0mresult\u001b[0m \u001b[0;34m=\u001b[0m \u001b[0mcons\u001b[0m\u001b[0;34m(\u001b[0m\u001b[0mresult\u001b[0m\u001b[0;34m,\u001b[0m \u001b[0mcolumns\u001b[0m\u001b[0;34m=\u001b[0m\u001b[0mname\u001b[0m\u001b[0;34m,\u001b[0m \u001b[0mindex\u001b[0m\u001b[0;34m=\u001b[0m\u001b[0mindex\u001b[0m\u001b[0;34m,\u001b[0m \u001b[0mdtype\u001b[0m\u001b[0;34m=\u001b[0m\u001b[0mdtype\u001b[0m\u001b[0;34m)\u001b[0m\u001b[0;34m\u001b[0m\u001b[0;34m\u001b[0m\u001b[0m\n\u001b[0m\u001b[1;32m   2214\u001b[0m             \u001b[0;32melse\u001b[0m\u001b[0;34m:\u001b[0m\u001b[0;34m\u001b[0m\u001b[0;34m\u001b[0m\u001b[0m\n\u001b[1;32m   2215\u001b[0m                 \u001b[0;31m# Must be a Series\u001b[0m\u001b[0;34m\u001b[0m\u001b[0;34m\u001b[0m\u001b[0;34m\u001b[0m\u001b[0m\n",
            "\u001b[0;32m/usr/local/lib/python3.6/dist-packages/pandas/core/frame.py\u001b[0m in \u001b[0;36m__init__\u001b[0;34m(self, data, index, columns, dtype, copy)\u001b[0m\n\u001b[1;32m    484\u001b[0m                             \u001b[0mindex\u001b[0m \u001b[0;34m=\u001b[0m \u001b[0mibase\u001b[0m\u001b[0;34m.\u001b[0m\u001b[0mdefault_index\u001b[0m\u001b[0;34m(\u001b[0m\u001b[0mlen\u001b[0m\u001b[0;34m(\u001b[0m\u001b[0mdata\u001b[0m\u001b[0;34m)\u001b[0m\u001b[0;34m)\u001b[0m\u001b[0;34m\u001b[0m\u001b[0;34m\u001b[0m\u001b[0m\n\u001b[1;32m    485\u001b[0m \u001b[0;34m\u001b[0m\u001b[0m\n\u001b[0;32m--> 486\u001b[0;31m                     \u001b[0mmgr\u001b[0m \u001b[0;34m=\u001b[0m \u001b[0marrays_to_mgr\u001b[0m\u001b[0;34m(\u001b[0m\u001b[0marrays\u001b[0m\u001b[0;34m,\u001b[0m \u001b[0mcolumns\u001b[0m\u001b[0;34m,\u001b[0m \u001b[0mindex\u001b[0m\u001b[0;34m,\u001b[0m \u001b[0mcolumns\u001b[0m\u001b[0;34m,\u001b[0m \u001b[0mdtype\u001b[0m\u001b[0;34m=\u001b[0m\u001b[0mdtype\u001b[0m\u001b[0;34m)\u001b[0m\u001b[0;34m\u001b[0m\u001b[0;34m\u001b[0m\u001b[0m\n\u001b[0m\u001b[1;32m    487\u001b[0m                 \u001b[0;32melse\u001b[0m\u001b[0;34m:\u001b[0m\u001b[0;34m\u001b[0m\u001b[0;34m\u001b[0m\u001b[0m\n\u001b[1;32m    488\u001b[0m                     \u001b[0mmgr\u001b[0m \u001b[0;34m=\u001b[0m \u001b[0minit_ndarray\u001b[0m\u001b[0;34m(\u001b[0m\u001b[0mdata\u001b[0m\u001b[0;34m,\u001b[0m \u001b[0mindex\u001b[0m\u001b[0;34m,\u001b[0m \u001b[0mcolumns\u001b[0m\u001b[0;34m,\u001b[0m \u001b[0mdtype\u001b[0m\u001b[0;34m=\u001b[0m\u001b[0mdtype\u001b[0m\u001b[0;34m,\u001b[0m \u001b[0mcopy\u001b[0m\u001b[0;34m=\u001b[0m\u001b[0mcopy\u001b[0m\u001b[0;34m)\u001b[0m\u001b[0;34m\u001b[0m\u001b[0;34m\u001b[0m\u001b[0m\n",
            "\u001b[0;32m/usr/local/lib/python3.6/dist-packages/pandas/core/internals/construction.py\u001b[0m in \u001b[0;36marrays_to_mgr\u001b[0;34m(arrays, arr_names, index, columns, dtype)\u001b[0m\n\u001b[1;32m     67\u001b[0m \u001b[0;34m\u001b[0m\u001b[0m\n\u001b[1;32m     68\u001b[0m     \u001b[0;31m# don't force copy because getting jammed in an ndarray anyway\u001b[0m\u001b[0;34m\u001b[0m\u001b[0;34m\u001b[0m\u001b[0;34m\u001b[0m\u001b[0m\n\u001b[0;32m---> 69\u001b[0;31m     \u001b[0marrays\u001b[0m \u001b[0;34m=\u001b[0m \u001b[0m_homogenize\u001b[0m\u001b[0;34m(\u001b[0m\u001b[0marrays\u001b[0m\u001b[0;34m,\u001b[0m \u001b[0mindex\u001b[0m\u001b[0;34m,\u001b[0m \u001b[0mdtype\u001b[0m\u001b[0;34m)\u001b[0m\u001b[0;34m\u001b[0m\u001b[0;34m\u001b[0m\u001b[0m\n\u001b[0m\u001b[1;32m     70\u001b[0m \u001b[0;34m\u001b[0m\u001b[0m\n\u001b[1;32m     71\u001b[0m     \u001b[0;31m# from BlockManager perspective\u001b[0m\u001b[0;34m\u001b[0m\u001b[0;34m\u001b[0m\u001b[0;34m\u001b[0m\u001b[0m\n",
            "\u001b[0;32m/usr/local/lib/python3.6/dist-packages/pandas/core/internals/construction.py\u001b[0m in \u001b[0;36m_homogenize\u001b[0;34m(data, index, dtype)\u001b[0m\n\u001b[1;32m    321\u001b[0m                 \u001b[0mval\u001b[0m \u001b[0;34m=\u001b[0m \u001b[0mlib\u001b[0m\u001b[0;34m.\u001b[0m\u001b[0mfast_multiget\u001b[0m\u001b[0;34m(\u001b[0m\u001b[0mval\u001b[0m\u001b[0;34m,\u001b[0m \u001b[0moindex\u001b[0m\u001b[0;34m.\u001b[0m\u001b[0mvalues\u001b[0m\u001b[0;34m,\u001b[0m \u001b[0mdefault\u001b[0m\u001b[0;34m=\u001b[0m\u001b[0mnp\u001b[0m\u001b[0;34m.\u001b[0m\u001b[0mnan\u001b[0m\u001b[0;34m)\u001b[0m\u001b[0;34m\u001b[0m\u001b[0;34m\u001b[0m\u001b[0m\n\u001b[1;32m    322\u001b[0m             val = sanitize_array(\n\u001b[0;32m--> 323\u001b[0;31m                 \u001b[0mval\u001b[0m\u001b[0;34m,\u001b[0m \u001b[0mindex\u001b[0m\u001b[0;34m,\u001b[0m \u001b[0mdtype\u001b[0m\u001b[0;34m=\u001b[0m\u001b[0mdtype\u001b[0m\u001b[0;34m,\u001b[0m \u001b[0mcopy\u001b[0m\u001b[0;34m=\u001b[0m\u001b[0;32mFalse\u001b[0m\u001b[0;34m,\u001b[0m \u001b[0mraise_cast_failure\u001b[0m\u001b[0;34m=\u001b[0m\u001b[0;32mFalse\u001b[0m\u001b[0;34m\u001b[0m\u001b[0;34m\u001b[0m\u001b[0m\n\u001b[0m\u001b[1;32m    324\u001b[0m             )\n\u001b[1;32m    325\u001b[0m \u001b[0;34m\u001b[0m\u001b[0m\n",
            "\u001b[0;32m/usr/local/lib/python3.6/dist-packages/pandas/core/construction.py\u001b[0m in \u001b[0;36msanitize_array\u001b[0;34m(data, index, dtype, copy, raise_cast_failure)\u001b[0m\n\u001b[1;32m    497\u001b[0m \u001b[0;34m\u001b[0m\u001b[0m\n\u001b[1;32m    498\u001b[0m         \u001b[0;32mif\u001b[0m \u001b[0mis_object_dtype\u001b[0m\u001b[0;34m(\u001b[0m\u001b[0msubarr\u001b[0m\u001b[0;34m.\u001b[0m\u001b[0mdtype\u001b[0m\u001b[0;34m)\u001b[0m \u001b[0;32mand\u001b[0m \u001b[0;32mnot\u001b[0m \u001b[0mis_object_dtype\u001b[0m\u001b[0;34m(\u001b[0m\u001b[0mdtype\u001b[0m\u001b[0;34m)\u001b[0m\u001b[0;34m:\u001b[0m\u001b[0;34m\u001b[0m\u001b[0;34m\u001b[0m\u001b[0m\n\u001b[0;32m--> 499\u001b[0;31m             \u001b[0minferred\u001b[0m \u001b[0;34m=\u001b[0m \u001b[0mlib\u001b[0m\u001b[0;34m.\u001b[0m\u001b[0minfer_dtype\u001b[0m\u001b[0;34m(\u001b[0m\u001b[0msubarr\u001b[0m\u001b[0;34m,\u001b[0m \u001b[0mskipna\u001b[0m\u001b[0;34m=\u001b[0m\u001b[0;32mFalse\u001b[0m\u001b[0;34m)\u001b[0m\u001b[0;34m\u001b[0m\u001b[0;34m\u001b[0m\u001b[0m\n\u001b[0m\u001b[1;32m    500\u001b[0m             \u001b[0;32mif\u001b[0m \u001b[0minferred\u001b[0m \u001b[0;32min\u001b[0m \u001b[0;34m{\u001b[0m\u001b[0;34m\"interval\"\u001b[0m\u001b[0;34m,\u001b[0m \u001b[0;34m\"period\"\u001b[0m\u001b[0;34m}\u001b[0m\u001b[0;34m:\u001b[0m\u001b[0;34m\u001b[0m\u001b[0;34m\u001b[0m\u001b[0m\n\u001b[1;32m    501\u001b[0m                 \u001b[0msubarr\u001b[0m \u001b[0;34m=\u001b[0m \u001b[0marray\u001b[0m\u001b[0;34m(\u001b[0m\u001b[0msubarr\u001b[0m\u001b[0;34m)\u001b[0m\u001b[0;34m\u001b[0m\u001b[0;34m\u001b[0m\u001b[0m\n",
            "\u001b[0;31mKeyboardInterrupt\u001b[0m: "
          ]
        }
      ]
    },
    {
      "cell_type": "code",
      "metadata": {
        "id": "EmvY6-8cwelb",
        "colab_type": "code",
        "colab": {
          "base_uri": "https://localhost:8080/",
          "height": 206
        },
        "outputId": "91da7fbe-9d3f-4844-acbd-bd4cf8732430"
      },
      "source": [
        "expo.columns = ['genre1','genre2','genre3']\n",
        "expo.head()"
      ],
      "execution_count": 51,
      "outputs": [
        {
          "output_type": "execute_result",
          "data": {
            "text/html": [
              "<div>\n",
              "<style scoped>\n",
              "    .dataframe tbody tr th:only-of-type {\n",
              "        vertical-align: middle;\n",
              "    }\n",
              "\n",
              "    .dataframe tbody tr th {\n",
              "        vertical-align: top;\n",
              "    }\n",
              "\n",
              "    .dataframe thead th {\n",
              "        text-align: right;\n",
              "    }\n",
              "</style>\n",
              "<table border=\"1\" class=\"dataframe\">\n",
              "  <thead>\n",
              "    <tr style=\"text-align: right;\">\n",
              "      <th></th>\n",
              "      <th>genre1</th>\n",
              "      <th>genre2</th>\n",
              "      <th>genre3</th>\n",
              "    </tr>\n",
              "  </thead>\n",
              "  <tbody>\n",
              "    <tr>\n",
              "      <th>0</th>\n",
              "      <td>Comedy</td>\n",
              "      <td>Musical</td>\n",
              "      <td>Romance</td>\n",
              "    </tr>\n",
              "    <tr>\n",
              "      <th>1</th>\n",
              "      <td>Comedy</td>\n",
              "      <td>Musical</td>\n",
              "      <td>Romance</td>\n",
              "    </tr>\n",
              "    <tr>\n",
              "      <th>2</th>\n",
              "      <td>Comedy</td>\n",
              "      <td>Musical</td>\n",
              "      <td>Romance</td>\n",
              "    </tr>\n",
              "    <tr>\n",
              "      <th>3</th>\n",
              "      <td>Comedy</td>\n",
              "      <td>Musical</td>\n",
              "      <td>Romance</td>\n",
              "    </tr>\n",
              "    <tr>\n",
              "      <th>4</th>\n",
              "      <td>Comedy</td>\n",
              "      <td>Musical</td>\n",
              "      <td>Romance</td>\n",
              "    </tr>\n",
              "  </tbody>\n",
              "</table>\n",
              "</div>"
            ],
            "text/plain": [
              "   genre1   genre2   genre3\n",
              "0  Comedy  Musical  Romance\n",
              "1  Comedy  Musical  Romance\n",
              "2  Comedy  Musical  Romance\n",
              "3  Comedy  Musical  Romance\n",
              "4  Comedy  Musical  Romance"
            ]
          },
          "metadata": {
            "tags": []
          },
          "execution_count": 51
        }
      ]
    },
    {
      "cell_type": "code",
      "metadata": {
        "id": "yQHKMg6fx6BQ",
        "colab_type": "code",
        "colab": {}
      },
      "source": [
        "\n",
        "df[cat] = le.fit_transform(df[cat].astype(str))\n"
      ],
      "execution_count": 0,
      "outputs": []
    },
    {
      "cell_type": "code",
      "metadata": {
        "id": "BIirf-ftvisu",
        "colab_type": "code",
        "colab": {}
      },
      "source": [
        "expo['genre3']= label_encoder.fit_transform(expo['genre3'].astype(str)) "
      ],
      "execution_count": 0,
      "outputs": []
    },
    {
      "cell_type": "code",
      "metadata": {
        "id": "JS_UBKGrpNt3",
        "colab_type": "code",
        "colab": {}
      },
      "source": [
        "final_data1['category'].nunique()\n",
        "final_data1['primaryName'].nunique()\n",
        "print(final_data1['category'].nunique())"
      ],
      "execution_count": 0,
      "outputs": []
    },
    {
      "cell_type": "markdown",
      "metadata": {
        "id": "oXO2Wd9wlNha",
        "colab_type": "text"
      },
      "source": [
        "**xtra work ends herea**"
      ]
    },
    {
      "cell_type": "code",
      "metadata": {
        "id": "qNdatQBZrx9L",
        "colab_type": "code",
        "outputId": "c7745484-fc7c-4ab3-e683-786c1ef85b1e",
        "colab": {
          "base_uri": "https://localhost:8080/",
          "height": 127
        }
      },
      "source": [
        "genre_votes_data = pd.merge(genre_data,ratings_data,on = 'tconst')\n",
        "sorted_data=genre_votes_data.sort_values(by='numVotes',ascending=False)\n",
        "sorted_data1=sorted_data.copy()\n",
        "sorted_data1=sorted_data1.set_index(sorted_data1.columns.drop('genres',1).tolist()).genres.str.split(',',expand=True).stack().reset_index().rename(columns={0:'genres'}).loc[:, sorted_data1.columns]\n",
        "sorted_data1['genres']=sorted_data1['genres'].astype(str)\n",
        "sorted_data1['genres'].value_counts().head()"
      ],
      "execution_count": 0,
      "outputs": [
        {
          "output_type": "execute_result",
          "data": {
            "text/plain": [
              "Drama          338538\n",
              "Comedy         326305\n",
              "Short          135349\n",
              "Documentary    120290\n",
              "Action         120181\n",
              "Name: genres, dtype: int64"
            ]
          },
          "metadata": {
            "tags": []
          },
          "execution_count": 38
        }
      ]
    },
    {
      "cell_type": "code",
      "metadata": {
        "id": "ZypvD-k9zI7F",
        "colab_type": "code",
        "outputId": "93a10cd5-cbfb-49e2-c6ef-760e036ffa1a",
        "colab": {
          "base_uri": "https://localhost:8080/",
          "height": 55
        }
      },
      "source": [
        "genress=['Drama','Comedy','Short','Action','Documentary','Animation','Adventure','Crime','Family','Romance', 'Music','Reality-TV','Mystery','Horror','Thriller','Fantasy','Talk-Show','Sci-Fi','History','Game-Show','Biography','Adult','Sport','News',\n",
        "     'Western','War','Musical','Film-Noir']\n",
        "genre_list=[]\n",
        "for genre in genress:\n",
        "    s=sorted_data1[sorted_data1['genres']==genre]['numVotes'].sum()\n",
        "    genre_list.append(s)\n",
        "print(genre_list)"
      ],
      "execution_count": 0,
      "outputs": [
        {
          "output_type": "stream",
          "text": [
            "[506927658, 301497055, 6388095, 297835702, 16131503, 70005145, 256328805, 191203662, 54090785, 118861839, 19612110, 2375207, 100496344, 85095879, 150762702, 95882642, 1719565, 117465439, 29734729, 1032913, 56291218, 385431, 16294726, 1094726, 8940903, 18705323, 8579672, 2944442]\n"
          ],
          "name": "stdout"
        }
      ]
    },
    {
      "cell_type": "code",
      "metadata": {
        "id": "hlplxG-qryJz",
        "colab_type": "code",
        "outputId": "18ce5551-0b55-4418-a1a6-dac0197bcef9",
        "colab": {
          "base_uri": "https://localhost:8080/",
          "height": 206
        }
      },
      "source": [
        "num_votes_data=pd.DataFrame({'genres':genress,'numVotes':genre_list})\n",
        "num_votes_data.head()"
      ],
      "execution_count": 0,
      "outputs": [
        {
          "output_type": "execute_result",
          "data": {
            "text/html": [
              "<div>\n",
              "<style scoped>\n",
              "    .dataframe tbody tr th:only-of-type {\n",
              "        vertical-align: middle;\n",
              "    }\n",
              "\n",
              "    .dataframe tbody tr th {\n",
              "        vertical-align: top;\n",
              "    }\n",
              "\n",
              "    .dataframe thead th {\n",
              "        text-align: right;\n",
              "    }\n",
              "</style>\n",
              "<table border=\"1\" class=\"dataframe\">\n",
              "  <thead>\n",
              "    <tr style=\"text-align: right;\">\n",
              "      <th></th>\n",
              "      <th>genres</th>\n",
              "      <th>numVotes</th>\n",
              "    </tr>\n",
              "  </thead>\n",
              "  <tbody>\n",
              "    <tr>\n",
              "      <th>0</th>\n",
              "      <td>Drama</td>\n",
              "      <td>506927658</td>\n",
              "    </tr>\n",
              "    <tr>\n",
              "      <th>1</th>\n",
              "      <td>Comedy</td>\n",
              "      <td>301497055</td>\n",
              "    </tr>\n",
              "    <tr>\n",
              "      <th>2</th>\n",
              "      <td>Short</td>\n",
              "      <td>6388095</td>\n",
              "    </tr>\n",
              "    <tr>\n",
              "      <th>3</th>\n",
              "      <td>Action</td>\n",
              "      <td>297835702</td>\n",
              "    </tr>\n",
              "    <tr>\n",
              "      <th>4</th>\n",
              "      <td>Documentary</td>\n",
              "      <td>16131503</td>\n",
              "    </tr>\n",
              "  </tbody>\n",
              "</table>\n",
              "</div>"
            ],
            "text/plain": [
              "        genres   numVotes\n",
              "0        Drama  506927658\n",
              "1       Comedy  301497055\n",
              "2        Short    6388095\n",
              "3       Action  297835702\n",
              "4  Documentary   16131503"
            ]
          },
          "metadata": {
            "tags": []
          },
          "execution_count": 44
        }
      ]
    },
    {
      "cell_type": "markdown",
      "metadata": {
        "id": "2P375C0nVL32",
        "colab_type": "text"
      },
      "source": [
        "Ques 2 \n",
        "\n"
      ]
    },
    {
      "cell_type": "code",
      "metadata": {
        "id": "JxDhFSAZrxzh",
        "colab_type": "code",
        "colab": {}
      },
      "source": [
        "data_principals = pd.read_csv(fp6)"
      ],
      "execution_count": 0,
      "outputs": []
    },
    {
      "cell_type": "code",
      "metadata": {
        "id": "9Z22JPi5XwaZ",
        "colab_type": "code",
        "colab": {}
      },
      "source": [
        "data_principals=data_principals[['tconst','ordering','nconst','category']]"
      ],
      "execution_count": 0,
      "outputs": []
    },
    {
      "cell_type": "code",
      "metadata": {
        "id": "2qMWFNe1X7gF",
        "colab_type": "code",
        "colab": {}
      },
      "source": [
        "actor_dir_data =data_principals[data_principals['category'].isin(['actor','director'])]"
      ],
      "execution_count": 0,
      "outputs": []
    },
    {
      "cell_type": "code",
      "metadata": {
        "id": "hj9uOe9iYoNt",
        "colab_type": "code",
        "outputId": "714ac148-9cb4-4138-e62e-69a29e336f49",
        "colab": {
          "base_uri": "https://localhost:8080/",
          "height": 206
        }
      },
      "source": [
        "name_basics_data = pd.read_csv(fp1)\n",
        "names_data = name_basics_data[['nconst', 'primaryName']]\n",
        "names_act_dir = pd.merge(names_data,actor_dir_data,on='nconst')\n",
        "ratings_data = pd.read_csv(fp7)\n",
        "actor_dir_ratings=pd.merge(ratings_data,names_act_dir,on='tconst')\n",
        "actor_data=actor_dir_ratings[actor_dir_ratings['category']=='actor']\n",
        "dir_data=actor_dir_ratings[(actor_dir_ratings['category']=='director')]\n",
        "final_act_dir = pd.merge(actor_data,dir_data,on='tconst')\n",
        "final_act_dir=final_act_dir[['tconst','category_x','primaryName_x','category_y', 'primaryName_y','averageRating_y']]\n",
        "final_act_dir.columns=['tconst','category_x','primaryName_x','category_y', 'primaryName_y','averageRating']\n",
        "final_sorted_data=final_act_dir.sort_values(by='averageRating',ascending=False)\n",
        "final_sorted_data.head()"
      ],
      "execution_count": 0,
      "outputs": [
        {
          "output_type": "execute_result",
          "data": {
            "text/html": [
              "<div>\n",
              "<style scoped>\n",
              "    .dataframe tbody tr th:only-of-type {\n",
              "        vertical-align: middle;\n",
              "    }\n",
              "\n",
              "    .dataframe tbody tr th {\n",
              "        vertical-align: top;\n",
              "    }\n",
              "\n",
              "    .dataframe thead th {\n",
              "        text-align: right;\n",
              "    }\n",
              "</style>\n",
              "<table border=\"1\" class=\"dataframe\">\n",
              "  <thead>\n",
              "    <tr style=\"text-align: right;\">\n",
              "      <th></th>\n",
              "      <th>tconst</th>\n",
              "      <th>category_x</th>\n",
              "      <th>primaryName_x</th>\n",
              "      <th>category_y</th>\n",
              "      <th>primaryName_y</th>\n",
              "      <th>averageRating</th>\n",
              "    </tr>\n",
              "  </thead>\n",
              "  <tbody>\n",
              "    <tr>\n",
              "      <th>1553041</th>\n",
              "      <td>tt10471404</td>\n",
              "      <td>actor</td>\n",
              "      <td>Tony Hawk</td>\n",
              "      <td>director</td>\n",
              "      <td>Smileybs</td>\n",
              "      <td>10.0</td>\n",
              "    </tr>\n",
              "    <tr>\n",
              "      <th>2620640</th>\n",
              "      <td>tt6525542</td>\n",
              "      <td>actor</td>\n",
              "      <td>Pragyaj Jain</td>\n",
              "      <td>director</td>\n",
              "      <td>Noel Smith</td>\n",
              "      <td>10.0</td>\n",
              "    </tr>\n",
              "    <tr>\n",
              "      <th>1572259</th>\n",
              "      <td>tt1069840</td>\n",
              "      <td>actor</td>\n",
              "      <td>Max Elliott Slade</td>\n",
              "      <td>director</td>\n",
              "      <td>Allan Arkush</td>\n",
              "      <td>10.0</td>\n",
              "    </tr>\n",
              "    <tr>\n",
              "      <th>2696618</th>\n",
              "      <td>tt7464942</td>\n",
              "      <td>actor</td>\n",
              "      <td>Thomas Ababio</td>\n",
              "      <td>director</td>\n",
              "      <td>Will Carne</td>\n",
              "      <td>10.0</td>\n",
              "    </tr>\n",
              "    <tr>\n",
              "      <th>2696619</th>\n",
              "      <td>tt7464944</td>\n",
              "      <td>actor</td>\n",
              "      <td>Anastasios Xatzopoulos</td>\n",
              "      <td>director</td>\n",
              "      <td>Apostolos Karoulas</td>\n",
              "      <td>10.0</td>\n",
              "    </tr>\n",
              "  </tbody>\n",
              "</table>\n",
              "</div>"
            ],
            "text/plain": [
              "             tconst category_x  ...       primaryName_y averageRating\n",
              "1553041  tt10471404      actor  ...            Smileybs          10.0\n",
              "2620640   tt6525542      actor  ...          Noel Smith          10.0\n",
              "1572259   tt1069840      actor  ...        Allan Arkush          10.0\n",
              "2696618   tt7464942      actor  ...          Will Carne          10.0\n",
              "2696619   tt7464944      actor  ...  Apostolos Karoulas          10.0\n",
              "\n",
              "[5 rows x 6 columns]"
            ]
          },
          "metadata": {
            "tags": []
          },
          "execution_count": 8
        }
      ]
    },
    {
      "cell_type": "markdown",
      "metadata": {
        "id": "kQFDNzLZeP4t",
        "colab_type": "text"
      },
      "source": [
        "These are famous actor director pair"
      ]
    },
    {
      "cell_type": "markdown",
      "metadata": {
        "id": "kBI61b-c1DEb",
        "colab_type": "text"
      },
      "source": [
        "ques 3"
      ]
    },
    {
      "cell_type": "code",
      "metadata": {
        "id": "cbfShYshIO9e",
        "colab_type": "code",
        "outputId": "a1530f5b-1170-4311-fe56-27a450823505",
        "colab": {
          "base_uri": "https://localhost:8080/",
          "height": 206
        }
      },
      "source": [
        "name_basics= pd.read_csv(fp1)\n",
        "name_basics.head()"
      ],
      "execution_count": 0,
      "outputs": [
        {
          "output_type": "execute_result",
          "data": {
            "text/html": [
              "<div>\n",
              "<style scoped>\n",
              "    .dataframe tbody tr th:only-of-type {\n",
              "        vertical-align: middle;\n",
              "    }\n",
              "\n",
              "    .dataframe tbody tr th {\n",
              "        vertical-align: top;\n",
              "    }\n",
              "\n",
              "    .dataframe thead th {\n",
              "        text-align: right;\n",
              "    }\n",
              "</style>\n",
              "<table border=\"1\" class=\"dataframe\">\n",
              "  <thead>\n",
              "    <tr style=\"text-align: right;\">\n",
              "      <th></th>\n",
              "      <th>Unnamed: 0</th>\n",
              "      <th>nconst</th>\n",
              "      <th>primaryName</th>\n",
              "      <th>birthYear</th>\n",
              "      <th>deathYear</th>\n",
              "      <th>primaryProfession</th>\n",
              "      <th>knownForTitles</th>\n",
              "    </tr>\n",
              "  </thead>\n",
              "  <tbody>\n",
              "    <tr>\n",
              "      <th>0</th>\n",
              "      <td>0</td>\n",
              "      <td>nm0000001</td>\n",
              "      <td>Fred Astaire</td>\n",
              "      <td>1899</td>\n",
              "      <td>1987</td>\n",
              "      <td>soundtrack,actor,miscellaneous</td>\n",
              "      <td>tt0053137,tt0043044,tt0050419,tt0072308</td>\n",
              "    </tr>\n",
              "    <tr>\n",
              "      <th>1</th>\n",
              "      <td>1</td>\n",
              "      <td>nm0000002</td>\n",
              "      <td>Lauren Bacall</td>\n",
              "      <td>1924</td>\n",
              "      <td>2014</td>\n",
              "      <td>actress,soundtrack</td>\n",
              "      <td>tt0038355,tt0071877,tt0037382,tt0117057</td>\n",
              "    </tr>\n",
              "    <tr>\n",
              "      <th>2</th>\n",
              "      <td>2</td>\n",
              "      <td>nm0000003</td>\n",
              "      <td>Brigitte Bardot</td>\n",
              "      <td>1934</td>\n",
              "      <td>\\N</td>\n",
              "      <td>actress,soundtrack,producer</td>\n",
              "      <td>tt0054452,tt0049189,tt0059956,tt0057345</td>\n",
              "    </tr>\n",
              "    <tr>\n",
              "      <th>3</th>\n",
              "      <td>3</td>\n",
              "      <td>nm0000003</td>\n",
              "      <td>Brigitte Bardot</td>\n",
              "      <td>1934</td>\n",
              "      <td>\\N</td>\n",
              "      <td>actress,soundtrack,producer</td>\n",
              "      <td>tt0054452,tt0049189,tt0059956,tt0057345</td>\n",
              "    </tr>\n",
              "    <tr>\n",
              "      <th>4</th>\n",
              "      <td>4</td>\n",
              "      <td>nm0000004</td>\n",
              "      <td>John Belushi</td>\n",
              "      <td>1949</td>\n",
              "      <td>1982</td>\n",
              "      <td>actor,soundtrack,writer</td>\n",
              "      <td>tt0080455,tt0072562,tt0077975,tt0078723</td>\n",
              "    </tr>\n",
              "  </tbody>\n",
              "</table>\n",
              "</div>"
            ],
            "text/plain": [
              "   Unnamed: 0  ...                           knownForTitles\n",
              "0           0  ...  tt0053137,tt0043044,tt0050419,tt0072308\n",
              "1           1  ...  tt0038355,tt0071877,tt0037382,tt0117057\n",
              "2           2  ...  tt0054452,tt0049189,tt0059956,tt0057345\n",
              "3           3  ...  tt0054452,tt0049189,tt0059956,tt0057345\n",
              "4           4  ...  tt0080455,tt0072562,tt0077975,tt0078723\n",
              "\n",
              "[5 rows x 7 columns]"
            ]
          },
          "metadata": {
            "tags": []
          },
          "execution_count": 3
        }
      ]
    },
    {
      "cell_type": "code",
      "metadata": {
        "id": "jiZaFL_mjakM",
        "colab_type": "code",
        "outputId": "19cff85e-a90b-4197-9d91-21294662ae67",
        "colab": {
          "base_uri": "https://localhost:8080/",
          "height": 206
        }
      },
      "source": [
        "name_basics=name_basics[['nconst','primaryName','birthYear']]\n",
        "name_basics.head()"
      ],
      "execution_count": 0,
      "outputs": [
        {
          "output_type": "execute_result",
          "data": {
            "text/html": [
              "<div>\n",
              "<style scoped>\n",
              "    .dataframe tbody tr th:only-of-type {\n",
              "        vertical-align: middle;\n",
              "    }\n",
              "\n",
              "    .dataframe tbody tr th {\n",
              "        vertical-align: top;\n",
              "    }\n",
              "\n",
              "    .dataframe thead th {\n",
              "        text-align: right;\n",
              "    }\n",
              "</style>\n",
              "<table border=\"1\" class=\"dataframe\">\n",
              "  <thead>\n",
              "    <tr style=\"text-align: right;\">\n",
              "      <th></th>\n",
              "      <th>nconst</th>\n",
              "      <th>primaryName</th>\n",
              "      <th>birthYear</th>\n",
              "    </tr>\n",
              "  </thead>\n",
              "  <tbody>\n",
              "    <tr>\n",
              "      <th>0</th>\n",
              "      <td>nm0000001</td>\n",
              "      <td>Fred Astaire</td>\n",
              "      <td>1899</td>\n",
              "    </tr>\n",
              "    <tr>\n",
              "      <th>1</th>\n",
              "      <td>nm0000002</td>\n",
              "      <td>Lauren Bacall</td>\n",
              "      <td>1924</td>\n",
              "    </tr>\n",
              "    <tr>\n",
              "      <th>2</th>\n",
              "      <td>nm0000003</td>\n",
              "      <td>Brigitte Bardot</td>\n",
              "      <td>1934</td>\n",
              "    </tr>\n",
              "    <tr>\n",
              "      <th>3</th>\n",
              "      <td>nm0000003</td>\n",
              "      <td>Brigitte Bardot</td>\n",
              "      <td>1934</td>\n",
              "    </tr>\n",
              "    <tr>\n",
              "      <th>4</th>\n",
              "      <td>nm0000004</td>\n",
              "      <td>John Belushi</td>\n",
              "      <td>1949</td>\n",
              "    </tr>\n",
              "  </tbody>\n",
              "</table>\n",
              "</div>"
            ],
            "text/plain": [
              "      nconst      primaryName birthYear\n",
              "0  nm0000001     Fred Astaire      1899\n",
              "1  nm0000002    Lauren Bacall      1924\n",
              "2  nm0000003  Brigitte Bardot      1934\n",
              "3  nm0000003  Brigitte Bardot      1934\n",
              "4  nm0000004     John Belushi      1949"
            ]
          },
          "metadata": {
            "tags": []
          },
          "execution_count": 4
        }
      ]
    },
    {
      "cell_type": "code",
      "metadata": {
        "id": "GVnAYvtrJYf6",
        "colab_type": "code",
        "colab": {}
      },
      "source": [
        "principal = pd.read_csv(fp6)\n"
      ],
      "execution_count": 0,
      "outputs": []
    },
    {
      "cell_type": "code",
      "metadata": {
        "id": "FmvgFVG6ihT6",
        "colab_type": "code",
        "outputId": "90c60aa9-2e8d-4399-cdfa-0a9ef6fa6715",
        "colab": {
          "base_uri": "https://localhost:8080/",
          "height": 206
        }
      },
      "source": [
        "principal=principal[['tconst','ordering','nconst','category']]\n",
        "principal.head()"
      ],
      "execution_count": 0,
      "outputs": [
        {
          "output_type": "execute_result",
          "data": {
            "text/html": [
              "<div>\n",
              "<style scoped>\n",
              "    .dataframe tbody tr th:only-of-type {\n",
              "        vertical-align: middle;\n",
              "    }\n",
              "\n",
              "    .dataframe tbody tr th {\n",
              "        vertical-align: top;\n",
              "    }\n",
              "\n",
              "    .dataframe thead th {\n",
              "        text-align: right;\n",
              "    }\n",
              "</style>\n",
              "<table border=\"1\" class=\"dataframe\">\n",
              "  <thead>\n",
              "    <tr style=\"text-align: right;\">\n",
              "      <th></th>\n",
              "      <th>tconst</th>\n",
              "      <th>ordering</th>\n",
              "      <th>nconst</th>\n",
              "      <th>category</th>\n",
              "    </tr>\n",
              "  </thead>\n",
              "  <tbody>\n",
              "    <tr>\n",
              "      <th>0</th>\n",
              "      <td>tt0000001</td>\n",
              "      <td>1</td>\n",
              "      <td>nm1588970</td>\n",
              "      <td>self</td>\n",
              "    </tr>\n",
              "    <tr>\n",
              "      <th>1</th>\n",
              "      <td>tt0000001</td>\n",
              "      <td>2</td>\n",
              "      <td>nm0005690</td>\n",
              "      <td>director</td>\n",
              "    </tr>\n",
              "    <tr>\n",
              "      <th>2</th>\n",
              "      <td>tt0000001</td>\n",
              "      <td>3</td>\n",
              "      <td>nm0374658</td>\n",
              "      <td>cinematographer</td>\n",
              "    </tr>\n",
              "    <tr>\n",
              "      <th>3</th>\n",
              "      <td>tt0000002</td>\n",
              "      <td>1</td>\n",
              "      <td>nm0721526</td>\n",
              "      <td>director</td>\n",
              "    </tr>\n",
              "    <tr>\n",
              "      <th>4</th>\n",
              "      <td>tt0000002</td>\n",
              "      <td>2</td>\n",
              "      <td>nm1335271</td>\n",
              "      <td>composer</td>\n",
              "    </tr>\n",
              "  </tbody>\n",
              "</table>\n",
              "</div>"
            ],
            "text/plain": [
              "      tconst  ordering     nconst         category\n",
              "0  tt0000001         1  nm1588970             self\n",
              "1  tt0000001         2  nm0005690         director\n",
              "2  tt0000001         3  nm0374658  cinematographer\n",
              "3  tt0000002         1  nm0721526         director\n",
              "4  tt0000002         2  nm1335271         composer"
            ]
          },
          "metadata": {
            "tags": []
          },
          "execution_count": 6
        }
      ]
    },
    {
      "cell_type": "code",
      "metadata": {
        "id": "7utY8WpfkOT8",
        "colab_type": "code",
        "outputId": "691ff4ce-4a49-4627-b986-4037780c6f12",
        "colab": {
          "base_uri": "https://localhost:8080/",
          "height": 206
        }
      },
      "source": [
        "principal=principal[principal['category']=='actor']\n",
        "principal=principal[principal['ordering'] == 1]\n",
        "principal.head()"
      ],
      "execution_count": 0,
      "outputs": [
        {
          "output_type": "execute_result",
          "data": {
            "text/html": [
              "<div>\n",
              "<style scoped>\n",
              "    .dataframe tbody tr th:only-of-type {\n",
              "        vertical-align: middle;\n",
              "    }\n",
              "\n",
              "    .dataframe tbody tr th {\n",
              "        vertical-align: top;\n",
              "    }\n",
              "\n",
              "    .dataframe thead th {\n",
              "        text-align: right;\n",
              "    }\n",
              "</style>\n",
              "<table border=\"1\" class=\"dataframe\">\n",
              "  <thead>\n",
              "    <tr style=\"text-align: right;\">\n",
              "      <th></th>\n",
              "      <th>tconst</th>\n",
              "      <th>ordering</th>\n",
              "      <th>nconst</th>\n",
              "      <th>category</th>\n",
              "    </tr>\n",
              "  </thead>\n",
              "  <tbody>\n",
              "    <tr>\n",
              "      <th>11</th>\n",
              "      <td>tt0000005</td>\n",
              "      <td>1</td>\n",
              "      <td>nm0443482</td>\n",
              "      <td>actor</td>\n",
              "    </tr>\n",
              "    <tr>\n",
              "      <th>16</th>\n",
              "      <td>tt0000007</td>\n",
              "      <td>1</td>\n",
              "      <td>nm0179163</td>\n",
              "      <td>actor</td>\n",
              "    </tr>\n",
              "    <tr>\n",
              "      <th>21</th>\n",
              "      <td>tt0000008</td>\n",
              "      <td>1</td>\n",
              "      <td>nm0653028</td>\n",
              "      <td>actor</td>\n",
              "    </tr>\n",
              "    <tr>\n",
              "      <th>29</th>\n",
              "      <td>tt0000011</td>\n",
              "      <td>1</td>\n",
              "      <td>nm3692297</td>\n",
              "      <td>actor</td>\n",
              "    </tr>\n",
              "    <tr>\n",
              "      <th>42</th>\n",
              "      <td>tt0000014</td>\n",
              "      <td>1</td>\n",
              "      <td>nm0166380</td>\n",
              "      <td>actor</td>\n",
              "    </tr>\n",
              "  </tbody>\n",
              "</table>\n",
              "</div>"
            ],
            "text/plain": [
              "       tconst  ordering     nconst category\n",
              "11  tt0000005         1  nm0443482    actor\n",
              "16  tt0000007         1  nm0179163    actor\n",
              "21  tt0000008         1  nm0653028    actor\n",
              "29  tt0000011         1  nm3692297    actor\n",
              "42  tt0000014         1  nm0166380    actor"
            ]
          },
          "metadata": {
            "tags": []
          },
          "execution_count": 7
        }
      ]
    },
    {
      "cell_type": "code",
      "metadata": {
        "id": "8QzrmCR3J-n5",
        "colab_type": "code",
        "outputId": "d7e08a02-5c1c-4230-caec-dfdf6b11f079",
        "colab": {
          "base_uri": "https://localhost:8080/",
          "height": 206
        }
      },
      "source": [
        "data_name= pd.merge(name_basics,principal,on='nconst')\n",
        "data_name.head()"
      ],
      "execution_count": 0,
      "outputs": [
        {
          "output_type": "execute_result",
          "data": {
            "text/html": [
              "<div>\n",
              "<style scoped>\n",
              "    .dataframe tbody tr th:only-of-type {\n",
              "        vertical-align: middle;\n",
              "    }\n",
              "\n",
              "    .dataframe tbody tr th {\n",
              "        vertical-align: top;\n",
              "    }\n",
              "\n",
              "    .dataframe thead th {\n",
              "        text-align: right;\n",
              "    }\n",
              "</style>\n",
              "<table border=\"1\" class=\"dataframe\">\n",
              "  <thead>\n",
              "    <tr style=\"text-align: right;\">\n",
              "      <th></th>\n",
              "      <th>nconst</th>\n",
              "      <th>primaryName</th>\n",
              "      <th>birthYear</th>\n",
              "      <th>tconst</th>\n",
              "      <th>ordering</th>\n",
              "      <th>category</th>\n",
              "    </tr>\n",
              "  </thead>\n",
              "  <tbody>\n",
              "    <tr>\n",
              "      <th>0</th>\n",
              "      <td>nm0000001</td>\n",
              "      <td>Fred Astaire</td>\n",
              "      <td>1899</td>\n",
              "      <td>tt0025164</td>\n",
              "      <td>1</td>\n",
              "      <td>actor</td>\n",
              "    </tr>\n",
              "    <tr>\n",
              "      <th>1</th>\n",
              "      <td>nm0000001</td>\n",
              "      <td>Fred Astaire</td>\n",
              "      <td>1899</td>\n",
              "      <td>tt0027125</td>\n",
              "      <td>1</td>\n",
              "      <td>actor</td>\n",
              "    </tr>\n",
              "    <tr>\n",
              "      <th>2</th>\n",
              "      <td>nm0000001</td>\n",
              "      <td>Fred Astaire</td>\n",
              "      <td>1899</td>\n",
              "      <td>tt0027630</td>\n",
              "      <td>1</td>\n",
              "      <td>actor</td>\n",
              "    </tr>\n",
              "    <tr>\n",
              "      <th>3</th>\n",
              "      <td>nm0000001</td>\n",
              "      <td>Fred Astaire</td>\n",
              "      <td>1899</td>\n",
              "      <td>tt0028333</td>\n",
              "      <td>1</td>\n",
              "      <td>actor</td>\n",
              "    </tr>\n",
              "    <tr>\n",
              "      <th>4</th>\n",
              "      <td>nm0000001</td>\n",
              "      <td>Fred Astaire</td>\n",
              "      <td>1899</td>\n",
              "      <td>tt0028757</td>\n",
              "      <td>1</td>\n",
              "      <td>actor</td>\n",
              "    </tr>\n",
              "  </tbody>\n",
              "</table>\n",
              "</div>"
            ],
            "text/plain": [
              "      nconst   primaryName birthYear     tconst  ordering category\n",
              "0  nm0000001  Fred Astaire      1899  tt0025164         1    actor\n",
              "1  nm0000001  Fred Astaire      1899  tt0027125         1    actor\n",
              "2  nm0000001  Fred Astaire      1899  tt0027630         1    actor\n",
              "3  nm0000001  Fred Astaire      1899  tt0028333         1    actor\n",
              "4  nm0000001  Fred Astaire      1899  tt0028757         1    actor"
            ]
          },
          "metadata": {
            "tags": []
          },
          "execution_count": 9
        }
      ]
    },
    {
      "cell_type": "code",
      "metadata": {
        "id": "zdBUdShPMOlC",
        "colab_type": "code",
        "outputId": "b70bf6cf-7c70-41e5-d768-3fd7516e4424",
        "colab": {
          "base_uri": "https://localhost:8080/",
          "height": 72
        }
      },
      "source": [
        "print(data_name.shape)\n",
        "print(principal.shape)\n",
        "print(name_basics.shape)"
      ],
      "execution_count": 0,
      "outputs": [
        {
          "output_type": "stream",
          "text": [
            "(2602013, 6)\n",
            "(2129420, 4)\n",
            "(10275124, 3)\n"
          ],
          "name": "stdout"
        }
      ]
    },
    {
      "cell_type": "code",
      "metadata": {
        "id": "fbfnbGVNmUS1",
        "colab_type": "code",
        "colab": {}
      },
      "source": [
        "ratings_data=pd.read_csv(fp7)"
      ],
      "execution_count": 0,
      "outputs": []
    },
    {
      "cell_type": "code",
      "metadata": {
        "id": "OBg2VC4InbNV",
        "colab_type": "code",
        "colab": {}
      },
      "source": [
        "name_ratings_data= pd.merge(data_name,ratings_data,on='tconst')"
      ],
      "execution_count": 0,
      "outputs": []
    },
    {
      "cell_type": "code",
      "metadata": {
        "id": "faebH6RHoGmV",
        "colab_type": "code",
        "outputId": "7764b7ea-1848-4a03-a715-8236ecde91bc",
        "colab": {
          "base_uri": "https://localhost:8080/",
          "height": 206
        }
      },
      "source": [
        "name_ratings_data.head()"
      ],
      "execution_count": 0,
      "outputs": [
        {
          "output_type": "execute_result",
          "data": {
            "text/html": [
              "<div>\n",
              "<style scoped>\n",
              "    .dataframe tbody tr th:only-of-type {\n",
              "        vertical-align: middle;\n",
              "    }\n",
              "\n",
              "    .dataframe tbody tr th {\n",
              "        vertical-align: top;\n",
              "    }\n",
              "\n",
              "    .dataframe thead th {\n",
              "        text-align: right;\n",
              "    }\n",
              "</style>\n",
              "<table border=\"1\" class=\"dataframe\">\n",
              "  <thead>\n",
              "    <tr style=\"text-align: right;\">\n",
              "      <th></th>\n",
              "      <th>nconst</th>\n",
              "      <th>primaryName</th>\n",
              "      <th>birthYear</th>\n",
              "      <th>tconst</th>\n",
              "      <th>ordering</th>\n",
              "      <th>category</th>\n",
              "      <th>Unnamed: 0</th>\n",
              "      <th>averageRating</th>\n",
              "      <th>numVotes</th>\n",
              "    </tr>\n",
              "  </thead>\n",
              "  <tbody>\n",
              "    <tr>\n",
              "      <th>0</th>\n",
              "      <td>nm0000001</td>\n",
              "      <td>Fred Astaire</td>\n",
              "      <td>1899</td>\n",
              "      <td>tt0025164</td>\n",
              "      <td>1</td>\n",
              "      <td>actor</td>\n",
              "      <td>9173</td>\n",
              "      <td>7.5</td>\n",
              "      <td>6569</td>\n",
              "    </tr>\n",
              "    <tr>\n",
              "      <th>1</th>\n",
              "      <td>nm0000001</td>\n",
              "      <td>Fred Astaire</td>\n",
              "      <td>1899</td>\n",
              "      <td>tt0027125</td>\n",
              "      <td>1</td>\n",
              "      <td>actor</td>\n",
              "      <td>10639</td>\n",
              "      <td>7.8</td>\n",
              "      <td>16492</td>\n",
              "    </tr>\n",
              "    <tr>\n",
              "      <th>2</th>\n",
              "      <td>nm0000001</td>\n",
              "      <td>Fred Astaire</td>\n",
              "      <td>1899</td>\n",
              "      <td>tt0027630</td>\n",
              "      <td>1</td>\n",
              "      <td>actor</td>\n",
              "      <td>11020</td>\n",
              "      <td>7.2</td>\n",
              "      <td>3814</td>\n",
              "    </tr>\n",
              "    <tr>\n",
              "      <th>3</th>\n",
              "      <td>nm0000001</td>\n",
              "      <td>Fred Astaire</td>\n",
              "      <td>1899</td>\n",
              "      <td>tt0028333</td>\n",
              "      <td>1</td>\n",
              "      <td>actor</td>\n",
              "      <td>11570</td>\n",
              "      <td>7.6</td>\n",
              "      <td>11703</td>\n",
              "    </tr>\n",
              "    <tr>\n",
              "      <th>4</th>\n",
              "      <td>nm0000001</td>\n",
              "      <td>Fred Astaire</td>\n",
              "      <td>1899</td>\n",
              "      <td>tt0028757</td>\n",
              "      <td>1</td>\n",
              "      <td>actor</td>\n",
              "      <td>11889</td>\n",
              "      <td>6.8</td>\n",
              "      <td>1699</td>\n",
              "    </tr>\n",
              "  </tbody>\n",
              "</table>\n",
              "</div>"
            ],
            "text/plain": [
              "      nconst   primaryName birthYear  ... Unnamed: 0  averageRating numVotes\n",
              "0  nm0000001  Fred Astaire      1899  ...       9173            7.5     6569\n",
              "1  nm0000001  Fred Astaire      1899  ...      10639            7.8    16492\n",
              "2  nm0000001  Fred Astaire      1899  ...      11020            7.2     3814\n",
              "3  nm0000001  Fred Astaire      1899  ...      11570            7.6    11703\n",
              "4  nm0000001  Fred Astaire      1899  ...      11889            6.8     1699\n",
              "\n",
              "[5 rows x 9 columns]"
            ]
          },
          "metadata": {
            "tags": []
          },
          "execution_count": 15
        }
      ]
    },
    {
      "cell_type": "code",
      "metadata": {
        "id": "G9rc8909l5ao",
        "colab_type": "code",
        "outputId": "c4e0c871-279a-4b64-c903-dc716b2b21fc",
        "colab": {
          "base_uri": "https://localhost:8080/",
          "height": 263
        }
      },
      "source": [
        "title_basics = pd.read_csv(fp3)\n",
        "title_basics=title_basics[['tconst','titleType','originalTitle','startYear']]\n",
        "title_basics.head()"
      ],
      "execution_count": 0,
      "outputs": [
        {
          "output_type": "stream",
          "text": [
            "/usr/local/lib/python3.6/dist-packages/IPython/core/interactiveshell.py:2718: DtypeWarning: Columns (6) have mixed types.Specify dtype option on import or set low_memory=False.\n",
            "  interactivity=interactivity, compiler=compiler, result=result)\n"
          ],
          "name": "stderr"
        },
        {
          "output_type": "execute_result",
          "data": {
            "text/html": [
              "<div>\n",
              "<style scoped>\n",
              "    .dataframe tbody tr th:only-of-type {\n",
              "        vertical-align: middle;\n",
              "    }\n",
              "\n",
              "    .dataframe tbody tr th {\n",
              "        vertical-align: top;\n",
              "    }\n",
              "\n",
              "    .dataframe thead th {\n",
              "        text-align: right;\n",
              "    }\n",
              "</style>\n",
              "<table border=\"1\" class=\"dataframe\">\n",
              "  <thead>\n",
              "    <tr style=\"text-align: right;\">\n",
              "      <th></th>\n",
              "      <th>tconst</th>\n",
              "      <th>titleType</th>\n",
              "      <th>originalTitle</th>\n",
              "      <th>startYear</th>\n",
              "    </tr>\n",
              "  </thead>\n",
              "  <tbody>\n",
              "    <tr>\n",
              "      <th>0</th>\n",
              "      <td>tt0000001</td>\n",
              "      <td>short</td>\n",
              "      <td>Carmencita</td>\n",
              "      <td>1894</td>\n",
              "    </tr>\n",
              "    <tr>\n",
              "      <th>1</th>\n",
              "      <td>tt0000002</td>\n",
              "      <td>short</td>\n",
              "      <td>Le clown et ses chiens</td>\n",
              "      <td>1892</td>\n",
              "    </tr>\n",
              "    <tr>\n",
              "      <th>2</th>\n",
              "      <td>tt0000003</td>\n",
              "      <td>short</td>\n",
              "      <td>Pauvre Pierrot</td>\n",
              "      <td>1892</td>\n",
              "    </tr>\n",
              "    <tr>\n",
              "      <th>3</th>\n",
              "      <td>tt0000004</td>\n",
              "      <td>short</td>\n",
              "      <td>Un bon bock</td>\n",
              "      <td>1892</td>\n",
              "    </tr>\n",
              "    <tr>\n",
              "      <th>4</th>\n",
              "      <td>tt0000005</td>\n",
              "      <td>short</td>\n",
              "      <td>Blacksmith Scene</td>\n",
              "      <td>1893</td>\n",
              "    </tr>\n",
              "  </tbody>\n",
              "</table>\n",
              "</div>"
            ],
            "text/plain": [
              "      tconst titleType           originalTitle startYear\n",
              "0  tt0000001     short              Carmencita      1894\n",
              "1  tt0000002     short  Le clown et ses chiens      1892\n",
              "2  tt0000003     short          Pauvre Pierrot      1892\n",
              "3  tt0000004     short             Un bon bock      1892\n",
              "4  tt0000005     short        Blacksmith Scene      1893"
            ]
          },
          "metadata": {
            "tags": []
          },
          "execution_count": 16
        }
      ]
    },
    {
      "cell_type": "code",
      "metadata": {
        "id": "WiNwm9-al5tv",
        "colab_type": "code",
        "outputId": "9037a27b-84cc-4c27-cc86-7c4a6bf71c66",
        "colab": {
          "base_uri": "https://localhost:8080/",
          "height": 206
        }
      },
      "source": [
        "actor_data=pd.merge(name_ratings_data,title_basics,on='tconst')\n",
        "actor_data.head()"
      ],
      "execution_count": 0,
      "outputs": [
        {
          "output_type": "execute_result",
          "data": {
            "text/html": [
              "<div>\n",
              "<style scoped>\n",
              "    .dataframe tbody tr th:only-of-type {\n",
              "        vertical-align: middle;\n",
              "    }\n",
              "\n",
              "    .dataframe tbody tr th {\n",
              "        vertical-align: top;\n",
              "    }\n",
              "\n",
              "    .dataframe thead th {\n",
              "        text-align: right;\n",
              "    }\n",
              "</style>\n",
              "<table border=\"1\" class=\"dataframe\">\n",
              "  <thead>\n",
              "    <tr style=\"text-align: right;\">\n",
              "      <th></th>\n",
              "      <th>nconst</th>\n",
              "      <th>primaryName</th>\n",
              "      <th>birthYear</th>\n",
              "      <th>tconst</th>\n",
              "      <th>ordering</th>\n",
              "      <th>category</th>\n",
              "      <th>Unnamed: 0</th>\n",
              "      <th>averageRating</th>\n",
              "      <th>numVotes</th>\n",
              "      <th>titleType</th>\n",
              "      <th>originalTitle</th>\n",
              "      <th>startYear</th>\n",
              "    </tr>\n",
              "  </thead>\n",
              "  <tbody>\n",
              "    <tr>\n",
              "      <th>0</th>\n",
              "      <td>nm0000001</td>\n",
              "      <td>Fred Astaire</td>\n",
              "      <td>1899</td>\n",
              "      <td>tt0025164</td>\n",
              "      <td>1</td>\n",
              "      <td>actor</td>\n",
              "      <td>9173</td>\n",
              "      <td>7.5</td>\n",
              "      <td>6569</td>\n",
              "      <td>movie</td>\n",
              "      <td>The Gay Divorcee</td>\n",
              "      <td>1934</td>\n",
              "    </tr>\n",
              "    <tr>\n",
              "      <th>1</th>\n",
              "      <td>nm0000001</td>\n",
              "      <td>Fred Astaire</td>\n",
              "      <td>1899</td>\n",
              "      <td>tt0027125</td>\n",
              "      <td>1</td>\n",
              "      <td>actor</td>\n",
              "      <td>10639</td>\n",
              "      <td>7.8</td>\n",
              "      <td>16492</td>\n",
              "      <td>movie</td>\n",
              "      <td>Top Hat</td>\n",
              "      <td>1935</td>\n",
              "    </tr>\n",
              "    <tr>\n",
              "      <th>2</th>\n",
              "      <td>nm0000001</td>\n",
              "      <td>Fred Astaire</td>\n",
              "      <td>1899</td>\n",
              "      <td>tt0027630</td>\n",
              "      <td>1</td>\n",
              "      <td>actor</td>\n",
              "      <td>11020</td>\n",
              "      <td>7.2</td>\n",
              "      <td>3814</td>\n",
              "      <td>movie</td>\n",
              "      <td>Follow the Fleet</td>\n",
              "      <td>1936</td>\n",
              "    </tr>\n",
              "    <tr>\n",
              "      <th>3</th>\n",
              "      <td>nm0000001</td>\n",
              "      <td>Fred Astaire</td>\n",
              "      <td>1899</td>\n",
              "      <td>tt0028333</td>\n",
              "      <td>1</td>\n",
              "      <td>actor</td>\n",
              "      <td>11570</td>\n",
              "      <td>7.6</td>\n",
              "      <td>11703</td>\n",
              "      <td>movie</td>\n",
              "      <td>Swing Time</td>\n",
              "      <td>1936</td>\n",
              "    </tr>\n",
              "    <tr>\n",
              "      <th>4</th>\n",
              "      <td>nm0000001</td>\n",
              "      <td>Fred Astaire</td>\n",
              "      <td>1899</td>\n",
              "      <td>tt0028757</td>\n",
              "      <td>1</td>\n",
              "      <td>actor</td>\n",
              "      <td>11889</td>\n",
              "      <td>6.8</td>\n",
              "      <td>1699</td>\n",
              "      <td>movie</td>\n",
              "      <td>A Damsel in Distress</td>\n",
              "      <td>1937</td>\n",
              "    </tr>\n",
              "  </tbody>\n",
              "</table>\n",
              "</div>"
            ],
            "text/plain": [
              "      nconst   primaryName birthYear  ... titleType         originalTitle startYear\n",
              "0  nm0000001  Fred Astaire      1899  ...     movie      The Gay Divorcee      1934\n",
              "1  nm0000001  Fred Astaire      1899  ...     movie               Top Hat      1935\n",
              "2  nm0000001  Fred Astaire      1899  ...     movie      Follow the Fleet      1936\n",
              "3  nm0000001  Fred Astaire      1899  ...     movie            Swing Time      1936\n",
              "4  nm0000001  Fred Astaire      1899  ...     movie  A Damsel in Distress      1937\n",
              "\n",
              "[5 rows x 12 columns]"
            ]
          },
          "metadata": {
            "tags": []
          },
          "execution_count": 18
        }
      ]
    },
    {
      "cell_type": "code",
      "metadata": {
        "id": "SFdQYMjam35Z",
        "colab_type": "code",
        "outputId": "64b0619b-596d-4b64-f6ae-3763d175ab3d",
        "colab": {
          "base_uri": "https://localhost:8080/",
          "height": 206
        }
      },
      "source": [
        "actor_data['startYear']=pd.to_numeric(actor_data['startYear'],errors='coerce')\n",
        "actor_data['birthYear']=pd.to_numeric(actor_data['birthYear'],errors='coerce')\n",
        "actor_data['ageBracket']=actor_data['startYear']-actor_data['birthYear']\n",
        "actor_data1=actor_data[actor_data['numVotes']>=10]\n",
        "actor_data1.head()"
      ],
      "execution_count": 0,
      "outputs": [
        {
          "output_type": "execute_result",
          "data": {
            "text/html": [
              "<div>\n",
              "<style scoped>\n",
              "    .dataframe tbody tr th:only-of-type {\n",
              "        vertical-align: middle;\n",
              "    }\n",
              "\n",
              "    .dataframe tbody tr th {\n",
              "        vertical-align: top;\n",
              "    }\n",
              "\n",
              "    .dataframe thead th {\n",
              "        text-align: right;\n",
              "    }\n",
              "</style>\n",
              "<table border=\"1\" class=\"dataframe\">\n",
              "  <thead>\n",
              "    <tr style=\"text-align: right;\">\n",
              "      <th></th>\n",
              "      <th>nconst</th>\n",
              "      <th>primaryName</th>\n",
              "      <th>birthYear</th>\n",
              "      <th>tconst</th>\n",
              "      <th>ordering</th>\n",
              "      <th>category</th>\n",
              "      <th>Unnamed: 0</th>\n",
              "      <th>averageRating</th>\n",
              "      <th>numVotes</th>\n",
              "      <th>titleType</th>\n",
              "      <th>originalTitle</th>\n",
              "      <th>startYear</th>\n",
              "      <th>ageBracket</th>\n",
              "    </tr>\n",
              "  </thead>\n",
              "  <tbody>\n",
              "    <tr>\n",
              "      <th>0</th>\n",
              "      <td>nm0000001</td>\n",
              "      <td>Fred Astaire</td>\n",
              "      <td>1899.0</td>\n",
              "      <td>tt0025164</td>\n",
              "      <td>1</td>\n",
              "      <td>actor</td>\n",
              "      <td>9173</td>\n",
              "      <td>7.5</td>\n",
              "      <td>6569</td>\n",
              "      <td>movie</td>\n",
              "      <td>The Gay Divorcee</td>\n",
              "      <td>1934.0</td>\n",
              "      <td>35.0</td>\n",
              "    </tr>\n",
              "    <tr>\n",
              "      <th>1</th>\n",
              "      <td>nm0000001</td>\n",
              "      <td>Fred Astaire</td>\n",
              "      <td>1899.0</td>\n",
              "      <td>tt0027125</td>\n",
              "      <td>1</td>\n",
              "      <td>actor</td>\n",
              "      <td>10639</td>\n",
              "      <td>7.8</td>\n",
              "      <td>16492</td>\n",
              "      <td>movie</td>\n",
              "      <td>Top Hat</td>\n",
              "      <td>1935.0</td>\n",
              "      <td>36.0</td>\n",
              "    </tr>\n",
              "    <tr>\n",
              "      <th>2</th>\n",
              "      <td>nm0000001</td>\n",
              "      <td>Fred Astaire</td>\n",
              "      <td>1899.0</td>\n",
              "      <td>tt0027630</td>\n",
              "      <td>1</td>\n",
              "      <td>actor</td>\n",
              "      <td>11020</td>\n",
              "      <td>7.2</td>\n",
              "      <td>3814</td>\n",
              "      <td>movie</td>\n",
              "      <td>Follow the Fleet</td>\n",
              "      <td>1936.0</td>\n",
              "      <td>37.0</td>\n",
              "    </tr>\n",
              "    <tr>\n",
              "      <th>3</th>\n",
              "      <td>nm0000001</td>\n",
              "      <td>Fred Astaire</td>\n",
              "      <td>1899.0</td>\n",
              "      <td>tt0028333</td>\n",
              "      <td>1</td>\n",
              "      <td>actor</td>\n",
              "      <td>11570</td>\n",
              "      <td>7.6</td>\n",
              "      <td>11703</td>\n",
              "      <td>movie</td>\n",
              "      <td>Swing Time</td>\n",
              "      <td>1936.0</td>\n",
              "      <td>37.0</td>\n",
              "    </tr>\n",
              "    <tr>\n",
              "      <th>4</th>\n",
              "      <td>nm0000001</td>\n",
              "      <td>Fred Astaire</td>\n",
              "      <td>1899.0</td>\n",
              "      <td>tt0028757</td>\n",
              "      <td>1</td>\n",
              "      <td>actor</td>\n",
              "      <td>11889</td>\n",
              "      <td>6.8</td>\n",
              "      <td>1699</td>\n",
              "      <td>movie</td>\n",
              "      <td>A Damsel in Distress</td>\n",
              "      <td>1937.0</td>\n",
              "      <td>38.0</td>\n",
              "    </tr>\n",
              "  </tbody>\n",
              "</table>\n",
              "</div>"
            ],
            "text/plain": [
              "      nconst   primaryName  ...  startYear ageBracket\n",
              "0  nm0000001  Fred Astaire  ...     1934.0       35.0\n",
              "1  nm0000001  Fred Astaire  ...     1935.0       36.0\n",
              "2  nm0000001  Fred Astaire  ...     1936.0       37.0\n",
              "3  nm0000001  Fred Astaire  ...     1936.0       37.0\n",
              "4  nm0000001  Fred Astaire  ...     1937.0       38.0\n",
              "\n",
              "[5 rows x 13 columns]"
            ]
          },
          "metadata": {
            "tags": []
          },
          "execution_count": 19
        }
      ]
    },
    {
      "cell_type": "code",
      "metadata": {
        "id": "RmWJsHKtm4Hp",
        "colab_type": "code",
        "outputId": "094e0515-a91a-4d58-f325-29a8378f011c",
        "colab": {
          "base_uri": "https://localhost:8080/",
          "height": 258
        }
      },
      "source": [
        "actor_data1=actor_data1.sort_values(by='numVotes',ascending=False)\n",
        "actor_data1.head()"
      ],
      "execution_count": 0,
      "outputs": [
        {
          "output_type": "execute_result",
          "data": {
            "text/html": [
              "<div>\n",
              "<style scoped>\n",
              "    .dataframe tbody tr th:only-of-type {\n",
              "        vertical-align: middle;\n",
              "    }\n",
              "\n",
              "    .dataframe tbody tr th {\n",
              "        vertical-align: top;\n",
              "    }\n",
              "\n",
              "    .dataframe thead th {\n",
              "        text-align: right;\n",
              "    }\n",
              "</style>\n",
              "<table border=\"1\" class=\"dataframe\">\n",
              "  <thead>\n",
              "    <tr style=\"text-align: right;\">\n",
              "      <th></th>\n",
              "      <th>nconst</th>\n",
              "      <th>primaryName</th>\n",
              "      <th>birthYear</th>\n",
              "      <th>tconst</th>\n",
              "      <th>ordering</th>\n",
              "      <th>category</th>\n",
              "      <th>Unnamed: 0</th>\n",
              "      <th>averageRating</th>\n",
              "      <th>numVotes</th>\n",
              "      <th>titleType</th>\n",
              "      <th>originalTitle</th>\n",
              "      <th>startYear</th>\n",
              "      <th>ageBracket</th>\n",
              "    </tr>\n",
              "  </thead>\n",
              "  <tbody>\n",
              "    <tr>\n",
              "      <th>8026</th>\n",
              "      <td>nm0000209</td>\n",
              "      <td>Tim Robbins</td>\n",
              "      <td>1958.0</td>\n",
              "      <td>tt0111161</td>\n",
              "      <td>1</td>\n",
              "      <td>actor</td>\n",
              "      <td>80835</td>\n",
              "      <td>9.3</td>\n",
              "      <td>2225066</td>\n",
              "      <td>movie</td>\n",
              "      <td>The Shawshank Redemption</td>\n",
              "      <td>1994.0</td>\n",
              "      <td>36.0</td>\n",
              "    </tr>\n",
              "    <tr>\n",
              "      <th>11655</th>\n",
              "      <td>nm0000288</td>\n",
              "      <td>Christian Bale</td>\n",
              "      <td>1974.0</td>\n",
              "      <td>tt0468569</td>\n",
              "      <td>1</td>\n",
              "      <td>actor</td>\n",
              "      <td>242523</td>\n",
              "      <td>9.0</td>\n",
              "      <td>2199095</td>\n",
              "      <td>movie</td>\n",
              "      <td>The Dark Knight</td>\n",
              "      <td>2008.0</td>\n",
              "      <td>34.0</td>\n",
              "    </tr>\n",
              "    <tr>\n",
              "      <th>5169</th>\n",
              "      <td>nm0000138</td>\n",
              "      <td>Leonardo DiCaprio</td>\n",
              "      <td>1974.0</td>\n",
              "      <td>tt1375666</td>\n",
              "      <td>1</td>\n",
              "      <td>actor</td>\n",
              "      <td>536202</td>\n",
              "      <td>8.8</td>\n",
              "      <td>1951015</td>\n",
              "      <td>movie</td>\n",
              "      <td>Inception</td>\n",
              "      <td>2010.0</td>\n",
              "      <td>36.0</td>\n",
              "    </tr>\n",
              "    <tr>\n",
              "      <th>3097</th>\n",
              "      <td>nm0000093</td>\n",
              "      <td>Brad Pitt</td>\n",
              "      <td>1963.0</td>\n",
              "      <td>tt0137523</td>\n",
              "      <td>1</td>\n",
              "      <td>actor</td>\n",
              "      <td>96986</td>\n",
              "      <td>8.8</td>\n",
              "      <td>1773186</td>\n",
              "      <td>movie</td>\n",
              "      <td>Fight Club</td>\n",
              "      <td>1999.0</td>\n",
              "      <td>36.0</td>\n",
              "    </tr>\n",
              "    <tr>\n",
              "      <th>9273</th>\n",
              "      <td>nm0000237</td>\n",
              "      <td>John Travolta</td>\n",
              "      <td>1954.0</td>\n",
              "      <td>tt0110912</td>\n",
              "      <td>1</td>\n",
              "      <td>actor</td>\n",
              "      <td>80619</td>\n",
              "      <td>8.9</td>\n",
              "      <td>1745344</td>\n",
              "      <td>movie</td>\n",
              "      <td>Pulp Fiction</td>\n",
              "      <td>1994.0</td>\n",
              "      <td>40.0</td>\n",
              "    </tr>\n",
              "  </tbody>\n",
              "</table>\n",
              "</div>"
            ],
            "text/plain": [
              "          nconst        primaryName  ...  startYear ageBracket\n",
              "8026   nm0000209        Tim Robbins  ...     1994.0       36.0\n",
              "11655  nm0000288     Christian Bale  ...     2008.0       34.0\n",
              "5169   nm0000138  Leonardo DiCaprio  ...     2010.0       36.0\n",
              "3097   nm0000093          Brad Pitt  ...     1999.0       36.0\n",
              "9273   nm0000237      John Travolta  ...     1994.0       40.0\n",
              "\n",
              "[5 rows x 13 columns]"
            ]
          },
          "metadata": {
            "tags": []
          },
          "execution_count": 20
        }
      ]
    },
    {
      "cell_type": "code",
      "metadata": {
        "id": "9nC9zGecm4T_",
        "colab_type": "code",
        "outputId": "fa1f8d03-cb34-494f-877b-185781c8c8b2",
        "colab": {
          "base_uri": "https://localhost:8080/",
          "height": 127
        }
      },
      "source": [
        "actor_data1['ageBracket'].value_counts().head()"
      ],
      "execution_count": 0,
      "outputs": [
        {
          "output_type": "execute_result",
          "data": {
            "text/plain": [
              "39.0    14315\n",
              "36.0    14306\n",
              "38.0    14224\n",
              "37.0    14086\n",
              "40.0    13720\n",
              "Name: ageBracket, dtype: int64"
            ]
          },
          "metadata": {
            "tags": []
          },
          "execution_count": 22
        }
      ]
    },
    {
      "cell_type": "markdown",
      "metadata": {
        "id": "ClFV3I3CoSAo",
        "colab_type": "text"
      },
      "source": [
        "so we find that most of the successful actor are in age bracket of 39."
      ]
    },
    {
      "cell_type": "code",
      "metadata": {
        "id": "3M4bYS0QwVHI",
        "colab_type": "code",
        "colab": {}
      },
      "source": [
        "#now we will merge \n",
        "#both actor and director\n",
        "actor_director=pd.merge(actor,director,on='tconst')"
      ],
      "execution_count": 0,
      "outputs": []
    },
    {
      "cell_type": "code",
      "metadata": {
        "id": "DU0uEb6ixDMW",
        "colab_type": "code",
        "outputId": "c88ed474-aac5-491c-b011-ccad1dd727b1",
        "colab": {
          "base_uri": "https://localhost:8080/",
          "height": 278
        }
      },
      "source": [
        "actor_director.head()"
      ],
      "execution_count": 0,
      "outputs": [
        {
          "output_type": "execute_result",
          "data": {
            "text/html": [
              "<div>\n",
              "<style scoped>\n",
              "    .dataframe tbody tr th:only-of-type {\n",
              "        vertical-align: middle;\n",
              "    }\n",
              "\n",
              "    .dataframe tbody tr th {\n",
              "        vertical-align: top;\n",
              "    }\n",
              "\n",
              "    .dataframe thead th {\n",
              "        text-align: right;\n",
              "    }\n",
              "</style>\n",
              "<table border=\"1\" class=\"dataframe\">\n",
              "  <thead>\n",
              "    <tr style=\"text-align: right;\">\n",
              "      <th></th>\n",
              "      <th>Unnamed: 0_x_x</th>\n",
              "      <th>nconst_x</th>\n",
              "      <th>primaryName_x</th>\n",
              "      <th>birthYear_x</th>\n",
              "      <th>deathYear_x</th>\n",
              "      <th>primaryProfession_x</th>\n",
              "      <th>knownForTitles_x</th>\n",
              "      <th>Unnamed: 0_y_x</th>\n",
              "      <th>tconst</th>\n",
              "      <th>ordering_x</th>\n",
              "      <th>category_x</th>\n",
              "      <th>job_x</th>\n",
              "      <th>characters_x</th>\n",
              "      <th>Unnamed: 0_x</th>\n",
              "      <th>averageRating_x</th>\n",
              "      <th>numVotes_x</th>\n",
              "      <th>Unnamed: 0_x_y</th>\n",
              "      <th>nconst_y</th>\n",
              "      <th>primaryName_y</th>\n",
              "      <th>birthYear_y</th>\n",
              "      <th>deathYear_y</th>\n",
              "      <th>primaryProfession_y</th>\n",
              "      <th>knownForTitles_y</th>\n",
              "      <th>Unnamed: 0_y_y</th>\n",
              "      <th>ordering_y</th>\n",
              "      <th>category_y</th>\n",
              "      <th>job_y</th>\n",
              "      <th>characters_y</th>\n",
              "      <th>Unnamed: 0_y</th>\n",
              "      <th>averageRating_y</th>\n",
              "      <th>numVotes_y</th>\n",
              "    </tr>\n",
              "  </thead>\n",
              "  <tbody>\n",
              "    <tr>\n",
              "      <th>0</th>\n",
              "      <td>377</td>\n",
              "      <td>nm0000274</td>\n",
              "      <td>David Arquette</td>\n",
              "      <td>1971</td>\n",
              "      <td>\\N</td>\n",
              "      <td>producer,actor,director</td>\n",
              "      <td>tt0271367,tt0134084,tt0151738,tt0120082</td>\n",
              "      <td>16553056</td>\n",
              "      <td>tt1576810</td>\n",
              "      <td>10</td>\n",
              "      <td>actor</td>\n",
              "      <td>\\N</td>\n",
              "      <td>[\"Tod Hawks\"]</td>\n",
              "      <td>571567</td>\n",
              "      <td>10.0</td>\n",
              "      <td>161</td>\n",
              "      <td>458617</td>\n",
              "      <td>nm0440105</td>\n",
              "      <td>Matia Karrell</td>\n",
              "      <td>\\N</td>\n",
              "      <td>\\N</td>\n",
              "      <td>director,assistant_director,camera_department</td>\n",
              "      <td>tt0094825,tt0282891,tt0859592,tt0200276</td>\n",
              "      <td>16553061</td>\n",
              "      <td>5</td>\n",
              "      <td>director</td>\n",
              "      <td>\\N</td>\n",
              "      <td>\\N</td>\n",
              "      <td>571567</td>\n",
              "      <td>10.0</td>\n",
              "      <td>161</td>\n",
              "    </tr>\n",
              "    <tr>\n",
              "      <th>1</th>\n",
              "      <td>1227</td>\n",
              "      <td>nm0000893</td>\n",
              "      <td>Ed Begley Jr.</td>\n",
              "      <td>1949</td>\n",
              "      <td>\\N</td>\n",
              "      <td>actor,producer,director</td>\n",
              "      <td>tt1289401,tt0310281,tt0910936,tt1178663</td>\n",
              "      <td>16553057</td>\n",
              "      <td>tt1576810</td>\n",
              "      <td>1</td>\n",
              "      <td>actor</td>\n",
              "      <td>\\N</td>\n",
              "      <td>[\"Gil Buckman\"]</td>\n",
              "      <td>571567</td>\n",
              "      <td>10.0</td>\n",
              "      <td>161</td>\n",
              "      <td>458617</td>\n",
              "      <td>nm0440105</td>\n",
              "      <td>Matia Karrell</td>\n",
              "      <td>\\N</td>\n",
              "      <td>\\N</td>\n",
              "      <td>director,assistant_director,camera_department</td>\n",
              "      <td>tt0094825,tt0282891,tt0859592,tt0200276</td>\n",
              "      <td>16553061</td>\n",
              "      <td>5</td>\n",
              "      <td>director</td>\n",
              "      <td>\\N</td>\n",
              "      <td>\\N</td>\n",
              "      <td>571567</td>\n",
              "      <td>10.0</td>\n",
              "      <td>161</td>\n",
              "    </tr>\n",
              "    <tr>\n",
              "      <th>2</th>\n",
              "      <td>512890</td>\n",
              "      <td>nm0492226</td>\n",
              "      <td>Zachary La Voy</td>\n",
              "      <td>1986</td>\n",
              "      <td>\\N</td>\n",
              "      <td>actor,writer</td>\n",
              "      <td>tt0098887,tt0098067,tt3587736,tt2262221</td>\n",
              "      <td>16553063</td>\n",
              "      <td>tt1576810</td>\n",
              "      <td>7</td>\n",
              "      <td>actor</td>\n",
              "      <td>\\N</td>\n",
              "      <td>[\"Justin Buckman\"]</td>\n",
              "      <td>571567</td>\n",
              "      <td>10.0</td>\n",
              "      <td>161</td>\n",
              "      <td>458617</td>\n",
              "      <td>nm0440105</td>\n",
              "      <td>Matia Karrell</td>\n",
              "      <td>\\N</td>\n",
              "      <td>\\N</td>\n",
              "      <td>director,assistant_director,camera_department</td>\n",
              "      <td>tt0094825,tt0282891,tt0859592,tt0200276</td>\n",
              "      <td>16553061</td>\n",
              "      <td>5</td>\n",
              "      <td>director</td>\n",
              "      <td>\\N</td>\n",
              "      <td>\\N</td>\n",
              "      <td>571567</td>\n",
              "      <td>10.0</td>\n",
              "      <td>161</td>\n",
              "    </tr>\n",
              "    <tr>\n",
              "      <th>3</th>\n",
              "      <td>834568</td>\n",
              "      <td>nm0805189</td>\n",
              "      <td>Max Elliott Slade</td>\n",
              "      <td>1980</td>\n",
              "      <td>\\N</td>\n",
              "      <td>actor</td>\n",
              "      <td>tt0109015,tt0112384,tt0098067,tt0103596</td>\n",
              "      <td>16553059</td>\n",
              "      <td>tt1576810</td>\n",
              "      <td>3</td>\n",
              "      <td>actor</td>\n",
              "      <td>\\N</td>\n",
              "      <td>[\"Kevin Buckman\"]</td>\n",
              "      <td>571567</td>\n",
              "      <td>10.0</td>\n",
              "      <td>161</td>\n",
              "      <td>458617</td>\n",
              "      <td>nm0440105</td>\n",
              "      <td>Matia Karrell</td>\n",
              "      <td>\\N</td>\n",
              "      <td>\\N</td>\n",
              "      <td>director,assistant_director,camera_department</td>\n",
              "      <td>tt0094825,tt0282891,tt0859592,tt0200276</td>\n",
              "      <td>16553061</td>\n",
              "      <td>5</td>\n",
              "      <td>director</td>\n",
              "      <td>\\N</td>\n",
              "      <td>\\N</td>\n",
              "      <td>571567</td>\n",
              "      <td>10.0</td>\n",
              "      <td>161</td>\n",
              "    </tr>\n",
              "    <tr>\n",
              "      <th>4</th>\n",
              "      <td>377</td>\n",
              "      <td>nm0000274</td>\n",
              "      <td>David Arquette</td>\n",
              "      <td>1971</td>\n",
              "      <td>\\N</td>\n",
              "      <td>producer,actor,director</td>\n",
              "      <td>tt0271367,tt0134084,tt0151738,tt0120082</td>\n",
              "      <td>16553096</td>\n",
              "      <td>tt1576814</td>\n",
              "      <td>10</td>\n",
              "      <td>actor</td>\n",
              "      <td>\\N</td>\n",
              "      <td>[\"Tod Hawks\"]</td>\n",
              "      <td>571571</td>\n",
              "      <td>10.0</td>\n",
              "      <td>161</td>\n",
              "      <td>38321</td>\n",
              "      <td>nm0035106</td>\n",
              "      <td>Allan Arkush</td>\n",
              "      <td>1948</td>\n",
              "      <td>\\N</td>\n",
              "      <td>producer,director,actor</td>\n",
              "      <td>tt0164292,tt0813715,tt2288064,tt0284718</td>\n",
              "      <td>16553101</td>\n",
              "      <td>5</td>\n",
              "      <td>director</td>\n",
              "      <td>\\N</td>\n",
              "      <td>\\N</td>\n",
              "      <td>571571</td>\n",
              "      <td>10.0</td>\n",
              "      <td>161</td>\n",
              "    </tr>\n",
              "  </tbody>\n",
              "</table>\n",
              "</div>"
            ],
            "text/plain": [
              "   Unnamed: 0_x_x   nconst_x  ... averageRating_y numVotes_y\n",
              "0             377  nm0000274  ...            10.0        161\n",
              "1            1227  nm0000893  ...            10.0        161\n",
              "2          512890  nm0492226  ...            10.0        161\n",
              "3          834568  nm0805189  ...            10.0        161\n",
              "4             377  nm0000274  ...            10.0        161\n",
              "\n",
              "[5 rows x 31 columns]"
            ]
          },
          "metadata": {
            "tags": []
          },
          "execution_count": 40
        }
      ]
    },
    {
      "cell_type": "markdown",
      "metadata": {
        "id": "fYHPojKgCF1R",
        "colab_type": "text"
      },
      "source": [
        "this is question 3 \n",
        "\n",
        "1.   we have to find in which age gap male lead are most successful\n",
        "2.  we will do ad following\n",
        "\n",
        "---\n",
        "\n",
        "\n",
        "\n"
      ]
    },
    {
      "cell_type": "code",
      "metadata": {
        "id": "G9i8nj8To4wd",
        "colab_type": "code",
        "colab": {}
      },
      "source": [
        ""
      ],
      "execution_count": 0,
      "outputs": []
    },
    {
      "cell_type": "code",
      "metadata": {
        "id": "SpAPJvNxo5A1",
        "colab_type": "code",
        "colab": {}
      },
      "source": [
        ""
      ],
      "execution_count": 0,
      "outputs": []
    },
    {
      "cell_type": "code",
      "metadata": {
        "id": "LfpnsYgKCm52",
        "colab_type": "code",
        "colab": {}
      },
      "source": [
        "#loading the data \n",
        "data_3= pd.merge( genre,ratings ,on='tconst')"
      ],
      "execution_count": 0,
      "outputs": []
    },
    {
      "cell_type": "code",
      "metadata": {
        "id": "hnk6PSVK2ebJ",
        "colab_type": "code",
        "colab": {}
      },
      "source": [
        "# data_3 is raitings of actor and director\n",
        "rating_act_dir=data_3\n"
      ],
      "execution_count": 0,
      "outputs": []
    },
    {
      "cell_type": "code",
      "metadata": {
        "id": "UYlklnE5Dn0m",
        "colab_type": "code",
        "outputId": "9f8a3ea6-e390-42a1-c2d7-9ad43a90cc97",
        "colab": {
          "base_uri": "https://localhost:8080/",
          "height": 347
        }
      },
      "source": [
        "rating_act_dir.head()"
      ],
      "execution_count": 0,
      "outputs": [
        {
          "output_type": "execute_result",
          "data": {
            "text/html": [
              "<div>\n",
              "<style scoped>\n",
              "    .dataframe tbody tr th:only-of-type {\n",
              "        vertical-align: middle;\n",
              "    }\n",
              "\n",
              "    .dataframe tbody tr th {\n",
              "        vertical-align: top;\n",
              "    }\n",
              "\n",
              "    .dataframe thead th {\n",
              "        text-align: right;\n",
              "    }\n",
              "</style>\n",
              "<table border=\"1\" class=\"dataframe\">\n",
              "  <thead>\n",
              "    <tr style=\"text-align: right;\">\n",
              "      <th></th>\n",
              "      <th>Unnamed: 0_x</th>\n",
              "      <th>nconst</th>\n",
              "      <th>primaryName</th>\n",
              "      <th>birthYear</th>\n",
              "      <th>deathYear</th>\n",
              "      <th>primaryProfession</th>\n",
              "      <th>knownForTitles</th>\n",
              "      <th>Unnamed: 0_y</th>\n",
              "      <th>tconst</th>\n",
              "      <th>ordering</th>\n",
              "      <th>category</th>\n",
              "      <th>job</th>\n",
              "      <th>characters</th>\n",
              "      <th>Unnamed: 0</th>\n",
              "      <th>averageRating</th>\n",
              "      <th>numVotes</th>\n",
              "    </tr>\n",
              "  </thead>\n",
              "  <tbody>\n",
              "    <tr>\n",
              "      <th>0</th>\n",
              "      <td>0</td>\n",
              "      <td>nm0000001</td>\n",
              "      <td>Fred Astaire</td>\n",
              "      <td>1899</td>\n",
              "      <td>1987</td>\n",
              "      <td>soundtrack,actor,miscellaneous</td>\n",
              "      <td>tt0053137,tt0043044,tt0050419,tt0072308</td>\n",
              "      <td>191484</td>\n",
              "      <td>tt0025164</td>\n",
              "      <td>1</td>\n",
              "      <td>actor</td>\n",
              "      <td>\\N</td>\n",
              "      <td>[\"Guy Holden\"]</td>\n",
              "      <td>9173</td>\n",
              "      <td>7.5</td>\n",
              "      <td>6569</td>\n",
              "    </tr>\n",
              "    <tr>\n",
              "      <th>1</th>\n",
              "      <td>2296</td>\n",
              "      <td>nm0001677</td>\n",
              "      <td>Ginger Rogers</td>\n",
              "      <td>1911</td>\n",
              "      <td>1995</td>\n",
              "      <td>actress,soundtrack</td>\n",
              "      <td>tt0032671,tt0034299,tt0035019,tt0044916</td>\n",
              "      <td>191485</td>\n",
              "      <td>tt0025164</td>\n",
              "      <td>2</td>\n",
              "      <td>actress</td>\n",
              "      <td>\\N</td>\n",
              "      <td>[\"Mimi Glossop\"]</td>\n",
              "      <td>9173</td>\n",
              "      <td>7.5</td>\n",
              "      <td>6569</td>\n",
              "    </tr>\n",
              "    <tr>\n",
              "      <th>2</th>\n",
              "      <td>2297</td>\n",
              "      <td>nm0001677</td>\n",
              "      <td>Ginger Rogers</td>\n",
              "      <td>1911</td>\n",
              "      <td>1995</td>\n",
              "      <td>actress,soundtrack</td>\n",
              "      <td>tt0032671,tt0034299,tt0035019,tt0044916</td>\n",
              "      <td>191485</td>\n",
              "      <td>tt0025164</td>\n",
              "      <td>2</td>\n",
              "      <td>actress</td>\n",
              "      <td>\\N</td>\n",
              "      <td>[\"Mimi Glossop\"]</td>\n",
              "      <td>9173</td>\n",
              "      <td>7.5</td>\n",
              "      <td>6569</td>\n",
              "    </tr>\n",
              "    <tr>\n",
              "      <th>3</th>\n",
              "      <td>2928</td>\n",
              "      <td>nm0002143</td>\n",
              "      <td>Edward Everett Horton</td>\n",
              "      <td>1886</td>\n",
              "      <td>1970</td>\n",
              "      <td>actor,soundtrack,director</td>\n",
              "      <td>tt0036613,tt0027125,tt0030241,tt0057193</td>\n",
              "      <td>191487</td>\n",
              "      <td>tt0025164</td>\n",
              "      <td>4</td>\n",
              "      <td>actor</td>\n",
              "      <td>\\N</td>\n",
              "      <td>[\"Egbert 'Pinky' Fitzgerald\"]</td>\n",
              "      <td>9173</td>\n",
              "      <td>7.5</td>\n",
              "      <td>6569</td>\n",
              "    </tr>\n",
              "    <tr>\n",
              "      <th>4</th>\n",
              "      <td>110021</td>\n",
              "      <td>nm0103567</td>\n",
              "      <td>Alice Brady</td>\n",
              "      <td>1892</td>\n",
              "      <td>1939</td>\n",
              "      <td>actress,soundtrack</td>\n",
              "      <td>tt0029047,tt0025164,tt0024609,tt0028010</td>\n",
              "      <td>191486</td>\n",
              "      <td>tt0025164</td>\n",
              "      <td>3</td>\n",
              "      <td>actress</td>\n",
              "      <td>\\N</td>\n",
              "      <td>[\"Aunt Hortense\"]</td>\n",
              "      <td>9173</td>\n",
              "      <td>7.5</td>\n",
              "      <td>6569</td>\n",
              "    </tr>\n",
              "  </tbody>\n",
              "</table>\n",
              "</div>"
            ],
            "text/plain": [
              "   Unnamed: 0_x     nconst  ... averageRating numVotes\n",
              "0             0  nm0000001  ...           7.5     6569\n",
              "1          2296  nm0001677  ...           7.5     6569\n",
              "2          2297  nm0001677  ...           7.5     6569\n",
              "3          2928  nm0002143  ...           7.5     6569\n",
              "4        110021  nm0103567  ...           7.5     6569\n",
              "\n",
              "[5 rows x 16 columns]"
            ]
          },
          "metadata": {
            "tags": []
          },
          "execution_count": 46
        }
      ]
    },
    {
      "cell_type": "code",
      "metadata": {
        "id": "FhEi7mHLD2Ea",
        "colab_type": "code",
        "outputId": "9c75ea41-5163-4b93-eaf4-6d1642000015",
        "colab": {
          "base_uri": "https://localhost:8080/",
          "height": 347
        }
      },
      "source": [
        "#creating new data base for actors\n",
        "rating_actor=rating_act_dir[rating_act_dir['category']=='actor']\n",
        "rating_actor.head()"
      ],
      "execution_count": 0,
      "outputs": [
        {
          "output_type": "execute_result",
          "data": {
            "text/html": [
              "<div>\n",
              "<style scoped>\n",
              "    .dataframe tbody tr th:only-of-type {\n",
              "        vertical-align: middle;\n",
              "    }\n",
              "\n",
              "    .dataframe tbody tr th {\n",
              "        vertical-align: top;\n",
              "    }\n",
              "\n",
              "    .dataframe thead th {\n",
              "        text-align: right;\n",
              "    }\n",
              "</style>\n",
              "<table border=\"1\" class=\"dataframe\">\n",
              "  <thead>\n",
              "    <tr style=\"text-align: right;\">\n",
              "      <th></th>\n",
              "      <th>Unnamed: 0_x</th>\n",
              "      <th>nconst</th>\n",
              "      <th>primaryName</th>\n",
              "      <th>birthYear</th>\n",
              "      <th>deathYear</th>\n",
              "      <th>primaryProfession</th>\n",
              "      <th>knownForTitles</th>\n",
              "      <th>Unnamed: 0_y</th>\n",
              "      <th>tconst</th>\n",
              "      <th>ordering</th>\n",
              "      <th>category</th>\n",
              "      <th>job</th>\n",
              "      <th>characters</th>\n",
              "      <th>Unnamed: 0</th>\n",
              "      <th>averageRating</th>\n",
              "      <th>numVotes</th>\n",
              "    </tr>\n",
              "  </thead>\n",
              "  <tbody>\n",
              "    <tr>\n",
              "      <th>0</th>\n",
              "      <td>0</td>\n",
              "      <td>nm0000001</td>\n",
              "      <td>Fred Astaire</td>\n",
              "      <td>1899</td>\n",
              "      <td>1987</td>\n",
              "      <td>soundtrack,actor,miscellaneous</td>\n",
              "      <td>tt0053137,tt0043044,tt0050419,tt0072308</td>\n",
              "      <td>191484</td>\n",
              "      <td>tt0025164</td>\n",
              "      <td>1</td>\n",
              "      <td>actor</td>\n",
              "      <td>\\N</td>\n",
              "      <td>[\"Guy Holden\"]</td>\n",
              "      <td>9173</td>\n",
              "      <td>7.5</td>\n",
              "      <td>6569</td>\n",
              "    </tr>\n",
              "    <tr>\n",
              "      <th>3</th>\n",
              "      <td>2928</td>\n",
              "      <td>nm0002143</td>\n",
              "      <td>Edward Everett Horton</td>\n",
              "      <td>1886</td>\n",
              "      <td>1970</td>\n",
              "      <td>actor,soundtrack,director</td>\n",
              "      <td>tt0036613,tt0027125,tt0030241,tt0057193</td>\n",
              "      <td>191487</td>\n",
              "      <td>tt0025164</td>\n",
              "      <td>4</td>\n",
              "      <td>actor</td>\n",
              "      <td>\\N</td>\n",
              "      <td>[\"Egbert 'Pinky' Fitzgerald\"]</td>\n",
              "      <td>9173</td>\n",
              "      <td>7.5</td>\n",
              "      <td>6569</td>\n",
              "    </tr>\n",
              "    <tr>\n",
              "      <th>13</th>\n",
              "      <td>0</td>\n",
              "      <td>nm0000001</td>\n",
              "      <td>Fred Astaire</td>\n",
              "      <td>1899</td>\n",
              "      <td>1987</td>\n",
              "      <td>soundtrack,actor,miscellaneous</td>\n",
              "      <td>tt0053137,tt0043044,tt0050419,tt0072308</td>\n",
              "      <td>206553</td>\n",
              "      <td>tt0026942</td>\n",
              "      <td>2</td>\n",
              "      <td>actor</td>\n",
              "      <td>\\N</td>\n",
              "      <td>[\"Huck Haines\"]</td>\n",
              "      <td>10492</td>\n",
              "      <td>7.1</td>\n",
              "      <td>2799</td>\n",
              "    </tr>\n",
              "    <tr>\n",
              "      <th>14</th>\n",
              "      <td>95</td>\n",
              "      <td>nm0000068</td>\n",
              "      <td>Randolph Scott</td>\n",
              "      <td>1898</td>\n",
              "      <td>1987</td>\n",
              "      <td>actor,producer,soundtrack</td>\n",
              "      <td>tt0026942,tt0049743,tt0051047,tt0056412</td>\n",
              "      <td>206555</td>\n",
              "      <td>tt0026942</td>\n",
              "      <td>4</td>\n",
              "      <td>actor</td>\n",
              "      <td>\\N</td>\n",
              "      <td>[\"John Kent\"]</td>\n",
              "      <td>10492</td>\n",
              "      <td>7.1</td>\n",
              "      <td>2799</td>\n",
              "    </tr>\n",
              "    <tr>\n",
              "      <th>28</th>\n",
              "      <td>0</td>\n",
              "      <td>nm0000001</td>\n",
              "      <td>Fred Astaire</td>\n",
              "      <td>1899</td>\n",
              "      <td>1987</td>\n",
              "      <td>soundtrack,actor,miscellaneous</td>\n",
              "      <td>tt0053137,tt0043044,tt0050419,tt0072308</td>\n",
              "      <td>208124</td>\n",
              "      <td>tt0027125</td>\n",
              "      <td>1</td>\n",
              "      <td>actor</td>\n",
              "      <td>\\N</td>\n",
              "      <td>[\"Jerry Travers\"]</td>\n",
              "      <td>10639</td>\n",
              "      <td>7.8</td>\n",
              "      <td>16492</td>\n",
              "    </tr>\n",
              "  </tbody>\n",
              "</table>\n",
              "</div>"
            ],
            "text/plain": [
              "    Unnamed: 0_x     nconst  ... averageRating numVotes\n",
              "0              0  nm0000001  ...           7.5     6569\n",
              "3           2928  nm0002143  ...           7.5     6569\n",
              "13             0  nm0000001  ...           7.1     2799\n",
              "14            95  nm0000068  ...           7.1     2799\n",
              "28             0  nm0000001  ...           7.8    16492\n",
              "\n",
              "[5 rows x 16 columns]"
            ]
          },
          "metadata": {
            "tags": []
          },
          "execution_count": 49
        }
      ]
    },
    {
      "cell_type": "code",
      "metadata": {
        "id": "NAseLWOhZaY2",
        "colab_type": "code",
        "outputId": "9467cdbd-92ec-437e-9367-1392a5b1da55",
        "colab": {
          "base_uri": "https://localhost:8080/",
          "height": 347
        }
      },
      "source": [
        "rating_actor.head()"
      ],
      "execution_count": 0,
      "outputs": [
        {
          "output_type": "execute_result",
          "data": {
            "text/html": [
              "<div>\n",
              "<style scoped>\n",
              "    .dataframe tbody tr th:only-of-type {\n",
              "        vertical-align: middle;\n",
              "    }\n",
              "\n",
              "    .dataframe tbody tr th {\n",
              "        vertical-align: top;\n",
              "    }\n",
              "\n",
              "    .dataframe thead th {\n",
              "        text-align: right;\n",
              "    }\n",
              "</style>\n",
              "<table border=\"1\" class=\"dataframe\">\n",
              "  <thead>\n",
              "    <tr style=\"text-align: right;\">\n",
              "      <th></th>\n",
              "      <th>Unnamed: 0_x</th>\n",
              "      <th>nconst</th>\n",
              "      <th>primaryName</th>\n",
              "      <th>birthYear</th>\n",
              "      <th>deathYear</th>\n",
              "      <th>primaryProfession</th>\n",
              "      <th>knownForTitles</th>\n",
              "      <th>Unnamed: 0_y</th>\n",
              "      <th>tconst</th>\n",
              "      <th>ordering</th>\n",
              "      <th>category</th>\n",
              "      <th>job</th>\n",
              "      <th>characters</th>\n",
              "      <th>Unnamed: 0</th>\n",
              "      <th>averageRating</th>\n",
              "      <th>numVotes</th>\n",
              "    </tr>\n",
              "  </thead>\n",
              "  <tbody>\n",
              "    <tr>\n",
              "      <th>0</th>\n",
              "      <td>0</td>\n",
              "      <td>nm0000001</td>\n",
              "      <td>Fred Astaire</td>\n",
              "      <td>1899</td>\n",
              "      <td>1987</td>\n",
              "      <td>soundtrack,actor,miscellaneous</td>\n",
              "      <td>tt0053137,tt0043044,tt0050419,tt0072308</td>\n",
              "      <td>191484</td>\n",
              "      <td>tt0025164</td>\n",
              "      <td>1</td>\n",
              "      <td>actor</td>\n",
              "      <td>\\N</td>\n",
              "      <td>[\"Guy Holden\"]</td>\n",
              "      <td>9173</td>\n",
              "      <td>7.5</td>\n",
              "      <td>6569</td>\n",
              "    </tr>\n",
              "    <tr>\n",
              "      <th>3</th>\n",
              "      <td>2928</td>\n",
              "      <td>nm0002143</td>\n",
              "      <td>Edward Everett Horton</td>\n",
              "      <td>1886</td>\n",
              "      <td>1970</td>\n",
              "      <td>actor,soundtrack,director</td>\n",
              "      <td>tt0036613,tt0027125,tt0030241,tt0057193</td>\n",
              "      <td>191487</td>\n",
              "      <td>tt0025164</td>\n",
              "      <td>4</td>\n",
              "      <td>actor</td>\n",
              "      <td>\\N</td>\n",
              "      <td>[\"Egbert 'Pinky' Fitzgerald\"]</td>\n",
              "      <td>9173</td>\n",
              "      <td>7.5</td>\n",
              "      <td>6569</td>\n",
              "    </tr>\n",
              "    <tr>\n",
              "      <th>13</th>\n",
              "      <td>0</td>\n",
              "      <td>nm0000001</td>\n",
              "      <td>Fred Astaire</td>\n",
              "      <td>1899</td>\n",
              "      <td>1987</td>\n",
              "      <td>soundtrack,actor,miscellaneous</td>\n",
              "      <td>tt0053137,tt0043044,tt0050419,tt0072308</td>\n",
              "      <td>206553</td>\n",
              "      <td>tt0026942</td>\n",
              "      <td>2</td>\n",
              "      <td>actor</td>\n",
              "      <td>\\N</td>\n",
              "      <td>[\"Huck Haines\"]</td>\n",
              "      <td>10492</td>\n",
              "      <td>7.1</td>\n",
              "      <td>2799</td>\n",
              "    </tr>\n",
              "    <tr>\n",
              "      <th>14</th>\n",
              "      <td>95</td>\n",
              "      <td>nm0000068</td>\n",
              "      <td>Randolph Scott</td>\n",
              "      <td>1898</td>\n",
              "      <td>1987</td>\n",
              "      <td>actor,producer,soundtrack</td>\n",
              "      <td>tt0026942,tt0049743,tt0051047,tt0056412</td>\n",
              "      <td>206555</td>\n",
              "      <td>tt0026942</td>\n",
              "      <td>4</td>\n",
              "      <td>actor</td>\n",
              "      <td>\\N</td>\n",
              "      <td>[\"John Kent\"]</td>\n",
              "      <td>10492</td>\n",
              "      <td>7.1</td>\n",
              "      <td>2799</td>\n",
              "    </tr>\n",
              "    <tr>\n",
              "      <th>28</th>\n",
              "      <td>0</td>\n",
              "      <td>nm0000001</td>\n",
              "      <td>Fred Astaire</td>\n",
              "      <td>1899</td>\n",
              "      <td>1987</td>\n",
              "      <td>soundtrack,actor,miscellaneous</td>\n",
              "      <td>tt0053137,tt0043044,tt0050419,tt0072308</td>\n",
              "      <td>208124</td>\n",
              "      <td>tt0027125</td>\n",
              "      <td>1</td>\n",
              "      <td>actor</td>\n",
              "      <td>\\N</td>\n",
              "      <td>[\"Jerry Travers\"]</td>\n",
              "      <td>10639</td>\n",
              "      <td>7.8</td>\n",
              "      <td>16492</td>\n",
              "    </tr>\n",
              "  </tbody>\n",
              "</table>\n",
              "</div>"
            ],
            "text/plain": [
              "    Unnamed: 0_x     nconst  ... averageRating numVotes\n",
              "0              0  nm0000001  ...           7.5     6569\n",
              "3           2928  nm0002143  ...           7.5     6569\n",
              "13             0  nm0000001  ...           7.1     2799\n",
              "14            95  nm0000068  ...           7.1     2799\n",
              "28             0  nm0000001  ...           7.8    16492\n",
              "\n",
              "[5 rows x 16 columns]"
            ]
          },
          "metadata": {
            "tags": []
          },
          "execution_count": 96
        }
      ]
    },
    {
      "cell_type": "code",
      "metadata": {
        "id": "tHwkK1auE3Zz",
        "colab_type": "code",
        "colab": {}
      },
      "source": [
        ""
      ],
      "execution_count": 0,
      "outputs": []
    },
    {
      "cell_type": "markdown",
      "metadata": {
        "id": "XLVWe2CgFjiM",
        "colab_type": "text"
      },
      "source": [
        "we will use the concept of quantile to get the most succesful actors and then we will see their age gap"
      ]
    },
    {
      "cell_type": "code",
      "metadata": {
        "id": "22E8IUWUFzz6",
        "colab_type": "code",
        "colab": {}
      },
      "source": [
        "mean = rating_actor['numVotes'].mean()"
      ],
      "execution_count": 0,
      "outputs": []
    },
    {
      "cell_type": "code",
      "metadata": {
        "id": "2ACY3S0hG9Mx",
        "colab_type": "code",
        "colab": {}
      },
      "source": [
        "q = rating_actor['numVotes'].quantile(0.90)"
      ],
      "execution_count": 0,
      "outputs": []
    },
    {
      "cell_type": "code",
      "metadata": {
        "id": "Q5yoN0axTbL5",
        "colab_type": "code",
        "outputId": "80644869-a7c0-44b7-9544-e801a6158877",
        "colab": {
          "base_uri": "https://localhost:8080/",
          "height": 34
        }
      },
      "source": [
        "q"
      ],
      "execution_count": 0,
      "outputs": [
        {
          "output_type": "execute_result",
          "data": {
            "text/plain": [
              "557.0"
            ]
          },
          "metadata": {
            "tags": []
          },
          "execution_count": 73
        }
      ]
    },
    {
      "cell_type": "code",
      "metadata": {
        "id": "7vfBI5jVJdSn",
        "colab_type": "code",
        "colab": {}
      },
      "source": [
        "q_df= rating_actor.copy()\n",
        "quantile_data= q_df[q_df['numVotes']>=q]\n",
        "quantile_data.shape\n",
        "m=q\n",
        "c=mean"
      ],
      "execution_count": 0,
      "outputs": []
    },
    {
      "cell_type": "markdown",
      "metadata": {
        "id": "BwgOKIciKr6w",
        "colab_type": "text"
      },
      "source": [
        "Now we will define a function which will calculate weighted average of movie"
      ]
    },
    {
      "cell_type": "code",
      "metadata": {
        "id": "icQ8d08aK1p4",
        "colab_type": "code",
        "colab": {}
      },
      "source": [
        "def rating_weight(y,m=m,C=c):\n",
        "  v=y['numVotes']\n",
        "  r=y['averageRating']\n",
        "  value= (v/(v+m))*r +(m/(m+v)*C)\n",
        "  return value"
      ],
      "execution_count": 0,
      "outputs": []
    },
    {
      "cell_type": "code",
      "metadata": {
        "id": "Vr6D0ymYMvnR",
        "colab_type": "code",
        "outputId": "ce9b3e39-ec02-4017-d166-42793a6204b7",
        "colab": {
          "base_uri": "https://localhost:8080/",
          "height": 451
        }
      },
      "source": [
        "quantile_data['scores']=quantile_data.apply(rating_weight,axis=1)\n",
        "quantile_data.head()"
      ],
      "execution_count": 0,
      "outputs": [
        {
          "output_type": "stream",
          "text": [
            "/usr/local/lib/python3.6/dist-packages/ipykernel_launcher.py:1: SettingWithCopyWarning: \n",
            "A value is trying to be set on a copy of a slice from a DataFrame.\n",
            "Try using .loc[row_indexer,col_indexer] = value instead\n",
            "\n",
            "See the caveats in the documentation: https://pandas.pydata.org/pandas-docs/stable/user_guide/indexing.html#returning-a-view-versus-a-copy\n",
            "  \"\"\"Entry point for launching an IPython kernel.\n"
          ],
          "name": "stderr"
        },
        {
          "output_type": "execute_result",
          "data": {
            "text/html": [
              "<div>\n",
              "<style scoped>\n",
              "    .dataframe tbody tr th:only-of-type {\n",
              "        vertical-align: middle;\n",
              "    }\n",
              "\n",
              "    .dataframe tbody tr th {\n",
              "        vertical-align: top;\n",
              "    }\n",
              "\n",
              "    .dataframe thead th {\n",
              "        text-align: right;\n",
              "    }\n",
              "</style>\n",
              "<table border=\"1\" class=\"dataframe\">\n",
              "  <thead>\n",
              "    <tr style=\"text-align: right;\">\n",
              "      <th></th>\n",
              "      <th>Unnamed: 0_x</th>\n",
              "      <th>nconst</th>\n",
              "      <th>primaryName</th>\n",
              "      <th>birthYear</th>\n",
              "      <th>deathYear</th>\n",
              "      <th>primaryProfession</th>\n",
              "      <th>knownForTitles</th>\n",
              "      <th>Unnamed: 0_y</th>\n",
              "      <th>tconst</th>\n",
              "      <th>ordering</th>\n",
              "      <th>category</th>\n",
              "      <th>job</th>\n",
              "      <th>characters</th>\n",
              "      <th>Unnamed: 0</th>\n",
              "      <th>averageRating</th>\n",
              "      <th>numVotes</th>\n",
              "      <th>scores</th>\n",
              "    </tr>\n",
              "  </thead>\n",
              "  <tbody>\n",
              "    <tr>\n",
              "      <th>0</th>\n",
              "      <td>0</td>\n",
              "      <td>nm0000001</td>\n",
              "      <td>Fred Astaire</td>\n",
              "      <td>1899</td>\n",
              "      <td>1987</td>\n",
              "      <td>soundtrack,actor,miscellaneous</td>\n",
              "      <td>tt0053137,tt0043044,tt0050419,tt0072308</td>\n",
              "      <td>191484</td>\n",
              "      <td>tt0025164</td>\n",
              "      <td>1</td>\n",
              "      <td>actor</td>\n",
              "      <td>\\N</td>\n",
              "      <td>[\"Guy Holden\"]</td>\n",
              "      <td>9173</td>\n",
              "      <td>7.5</td>\n",
              "      <td>6569</td>\n",
              "      <td>111.709053</td>\n",
              "    </tr>\n",
              "    <tr>\n",
              "      <th>3</th>\n",
              "      <td>2928</td>\n",
              "      <td>nm0002143</td>\n",
              "      <td>Edward Everett Horton</td>\n",
              "      <td>1886</td>\n",
              "      <td>1970</td>\n",
              "      <td>actor,soundtrack,director</td>\n",
              "      <td>tt0036613,tt0027125,tt0030241,tt0057193</td>\n",
              "      <td>191487</td>\n",
              "      <td>tt0025164</td>\n",
              "      <td>4</td>\n",
              "      <td>actor</td>\n",
              "      <td>\\N</td>\n",
              "      <td>[\"Egbert 'Pinky' Fitzgerald\"]</td>\n",
              "      <td>9173</td>\n",
              "      <td>7.5</td>\n",
              "      <td>6569</td>\n",
              "      <td>111.709053</td>\n",
              "    </tr>\n",
              "    <tr>\n",
              "      <th>13</th>\n",
              "      <td>0</td>\n",
              "      <td>nm0000001</td>\n",
              "      <td>Fred Astaire</td>\n",
              "      <td>1899</td>\n",
              "      <td>1987</td>\n",
              "      <td>soundtrack,actor,miscellaneous</td>\n",
              "      <td>tt0053137,tt0043044,tt0050419,tt0072308</td>\n",
              "      <td>206553</td>\n",
              "      <td>tt0026942</td>\n",
              "      <td>2</td>\n",
              "      <td>actor</td>\n",
              "      <td>\\N</td>\n",
              "      <td>[\"Huck Haines\"]</td>\n",
              "      <td>10492</td>\n",
              "      <td>7.1</td>\n",
              "      <td>2799</td>\n",
              "      <td>228.439843</td>\n",
              "    </tr>\n",
              "    <tr>\n",
              "      <th>14</th>\n",
              "      <td>95</td>\n",
              "      <td>nm0000068</td>\n",
              "      <td>Randolph Scott</td>\n",
              "      <td>1898</td>\n",
              "      <td>1987</td>\n",
              "      <td>actor,producer,soundtrack</td>\n",
              "      <td>tt0026942,tt0049743,tt0051047,tt0056412</td>\n",
              "      <td>206555</td>\n",
              "      <td>tt0026942</td>\n",
              "      <td>4</td>\n",
              "      <td>actor</td>\n",
              "      <td>\\N</td>\n",
              "      <td>[\"John Kent\"]</td>\n",
              "      <td>10492</td>\n",
              "      <td>7.1</td>\n",
              "      <td>2799</td>\n",
              "      <td>228.439843</td>\n",
              "    </tr>\n",
              "    <tr>\n",
              "      <th>28</th>\n",
              "      <td>0</td>\n",
              "      <td>nm0000001</td>\n",
              "      <td>Fred Astaire</td>\n",
              "      <td>1899</td>\n",
              "      <td>1987</td>\n",
              "      <td>soundtrack,actor,miscellaneous</td>\n",
              "      <td>tt0053137,tt0043044,tt0050419,tt0072308</td>\n",
              "      <td>208124</td>\n",
              "      <td>tt0027125</td>\n",
              "      <td>1</td>\n",
              "      <td>actor</td>\n",
              "      <td>\\N</td>\n",
              "      <td>[\"Jerry Travers\"]</td>\n",
              "      <td>10639</td>\n",
              "      <td>7.8</td>\n",
              "      <td>16492</td>\n",
              "      <td>51.346637</td>\n",
              "    </tr>\n",
              "  </tbody>\n",
              "</table>\n",
              "</div>"
            ],
            "text/plain": [
              "    Unnamed: 0_x     nconst  ... numVotes      scores\n",
              "0              0  nm0000001  ...     6569  111.709053\n",
              "3           2928  nm0002143  ...     6569  111.709053\n",
              "13             0  nm0000001  ...     2799  228.439843\n",
              "14            95  nm0000068  ...     2799  228.439843\n",
              "28             0  nm0000001  ...    16492   51.346637\n",
              "\n",
              "[5 rows x 17 columns]"
            ]
          },
          "metadata": {
            "tags": []
          },
          "execution_count": 100
        }
      ]
    },
    {
      "cell_type": "code",
      "metadata": {
        "id": "frh2CJd9PAhv",
        "colab_type": "code",
        "outputId": "644160a8-b5b7-4f75-f5ec-f9a2a4796f51",
        "colab": {
          "base_uri": "https://localhost:8080/",
          "height": 330
        }
      },
      "source": [
        "quantile_data= quantile_data.sort_values('scores',ascending=True)\n",
        "quantile_data.head()"
      ],
      "execution_count": 0,
      "outputs": [
        {
          "output_type": "execute_result",
          "data": {
            "text/html": [
              "<div>\n",
              "<style scoped>\n",
              "    .dataframe tbody tr th:only-of-type {\n",
              "        vertical-align: middle;\n",
              "    }\n",
              "\n",
              "    .dataframe tbody tr th {\n",
              "        vertical-align: top;\n",
              "    }\n",
              "\n",
              "    .dataframe thead th {\n",
              "        text-align: right;\n",
              "    }\n",
              "</style>\n",
              "<table border=\"1\" class=\"dataframe\">\n",
              "  <thead>\n",
              "    <tr style=\"text-align: right;\">\n",
              "      <th></th>\n",
              "      <th>Unnamed: 0_x</th>\n",
              "      <th>nconst</th>\n",
              "      <th>primaryName</th>\n",
              "      <th>birthYear</th>\n",
              "      <th>deathYear</th>\n",
              "      <th>primaryProfession</th>\n",
              "      <th>knownForTitles</th>\n",
              "      <th>Unnamed: 0_y</th>\n",
              "      <th>tconst</th>\n",
              "      <th>ordering</th>\n",
              "      <th>category</th>\n",
              "      <th>job</th>\n",
              "      <th>characters</th>\n",
              "      <th>Unnamed: 0</th>\n",
              "      <th>averageRating</th>\n",
              "      <th>numVotes</th>\n",
              "      <th>scores</th>\n",
              "    </tr>\n",
              "  </thead>\n",
              "  <tbody>\n",
              "    <tr>\n",
              "      <th>620180</th>\n",
              "      <td>3282592</td>\n",
              "      <td>nm1946193</td>\n",
              "      <td>Jamie Dornan</td>\n",
              "      <td>1982</td>\n",
              "      <td>\\N</td>\n",
              "      <td>actor,soundtrack</td>\n",
              "      <td>tt2294189,tt2368254,tt0422720,tt4190530</td>\n",
              "      <td>20447420</td>\n",
              "      <td>tt2322441</td>\n",
              "      <td>2</td>\n",
              "      <td>actor</td>\n",
              "      <td>\\N</td>\n",
              "      <td>[\"Christian Grey\"]</td>\n",
              "      <td>677543</td>\n",
              "      <td>4.1</td>\n",
              "      <td>289256</td>\n",
              "      <td>6.668855</td>\n",
              "    </tr>\n",
              "    <tr>\n",
              "      <th>620181</th>\n",
              "      <td>3282593</td>\n",
              "      <td>nm1946193</td>\n",
              "      <td>Jamie Dornan</td>\n",
              "      <td>1982</td>\n",
              "      <td>\\N</td>\n",
              "      <td>actor,soundtrack</td>\n",
              "      <td>tt2294189,tt2368254,tt0422720,tt4190530</td>\n",
              "      <td>20447420</td>\n",
              "      <td>tt2322441</td>\n",
              "      <td>2</td>\n",
              "      <td>actor</td>\n",
              "      <td>\\N</td>\n",
              "      <td>[\"Christian Grey\"]</td>\n",
              "      <td>677543</td>\n",
              "      <td>4.1</td>\n",
              "      <td>289256</td>\n",
              "      <td>6.668855</td>\n",
              "    </tr>\n",
              "    <tr>\n",
              "      <th>186977</th>\n",
              "      <td>775</td>\n",
              "      <td>nm0000563</td>\n",
              "      <td>Chris O'Donnell</td>\n",
              "      <td>1970</td>\n",
              "      <td>\\N</td>\n",
              "      <td>actor,producer,director</td>\n",
              "      <td>tt0105323,tt0118688,tt0108333,tt0190865</td>\n",
              "      <td>1010206</td>\n",
              "      <td>tt0118688</td>\n",
              "      <td>3</td>\n",
              "      <td>actor</td>\n",
              "      <td>\\N</td>\n",
              "      <td>[\"Robin\",\"Dick Grayson\"]</td>\n",
              "      <td>86859</td>\n",
              "      <td>3.7</td>\n",
              "      <td>226687</td>\n",
              "      <td>6.977140</td>\n",
              "    </tr>\n",
              "    <tr>\n",
              "      <th>186974</th>\n",
              "      <td>297</td>\n",
              "      <td>nm0000216</td>\n",
              "      <td>Arnold Schwarzenegger</td>\n",
              "      <td>1947</td>\n",
              "      <td>\\N</td>\n",
              "      <td>actor,producer,director</td>\n",
              "      <td>tt0093773,tt0216216,tt0116213,tt0103064</td>\n",
              "      <td>1010204</td>\n",
              "      <td>tt0118688</td>\n",
              "      <td>1</td>\n",
              "      <td>actor</td>\n",
              "      <td>\\N</td>\n",
              "      <td>[\"Mr. Freeze\",\"Dr. Victor Fries\"]</td>\n",
              "      <td>86859</td>\n",
              "      <td>3.7</td>\n",
              "      <td>226687</td>\n",
              "      <td>6.977140</td>\n",
              "    </tr>\n",
              "    <tr>\n",
              "      <th>186972</th>\n",
              "      <td>164</td>\n",
              "      <td>nm0000123</td>\n",
              "      <td>George Clooney</td>\n",
              "      <td>1961</td>\n",
              "      <td>\\N</td>\n",
              "      <td>actor,producer,director</td>\n",
              "      <td>tt1033575,tt1193138,tt1124035,tt0465538</td>\n",
              "      <td>1010205</td>\n",
              "      <td>tt0118688</td>\n",
              "      <td>2</td>\n",
              "      <td>actor</td>\n",
              "      <td>\\N</td>\n",
              "      <td>[\"Batman\",\"Bruce Wayne\"]</td>\n",
              "      <td>86859</td>\n",
              "      <td>3.7</td>\n",
              "      <td>226687</td>\n",
              "      <td>6.977140</td>\n",
              "    </tr>\n",
              "  </tbody>\n",
              "</table>\n",
              "</div>"
            ],
            "text/plain": [
              "        Unnamed: 0_x     nconst  ... numVotes    scores\n",
              "620180       3282592  nm1946193  ...   289256  6.668855\n",
              "620181       3282593  nm1946193  ...   289256  6.668855\n",
              "186977           775  nm0000563  ...   226687  6.977140\n",
              "186974           297  nm0000216  ...   226687  6.977140\n",
              "186972           164  nm0000123  ...   226687  6.977140\n",
              "\n",
              "[5 rows x 17 columns]"
            ]
          },
          "metadata": {
            "tags": []
          },
          "execution_count": 101
        }
      ]
    },
    {
      "cell_type": "code",
      "metadata": {
        "id": "k0Wg2z8ZTLGA",
        "colab_type": "code",
        "colab": {}
      },
      "source": [
        "quantile_data['deathYear']=pd.to_numeric(quantile_data['deathYear'],errors='coerce')\n",
        "quantile_data['birthYear']=pd.to_numeric(quantile_data['birthYear'],errors='coerce')"
      ],
      "execution_count": 0,
      "outputs": []
    },
    {
      "cell_type": "code",
      "metadata": {
        "id": "OJKbzTQDV0Uk",
        "colab_type": "code",
        "outputId": "cca8dbac-5868-4a31-fe12-8aebaec1aa8f",
        "colab": {
          "base_uri": "https://localhost:8080/",
          "height": 330
        }
      },
      "source": [
        "quantile_data.head()"
      ],
      "execution_count": 0,
      "outputs": [
        {
          "output_type": "execute_result",
          "data": {
            "text/html": [
              "<div>\n",
              "<style scoped>\n",
              "    .dataframe tbody tr th:only-of-type {\n",
              "        vertical-align: middle;\n",
              "    }\n",
              "\n",
              "    .dataframe tbody tr th {\n",
              "        vertical-align: top;\n",
              "    }\n",
              "\n",
              "    .dataframe thead th {\n",
              "        text-align: right;\n",
              "    }\n",
              "</style>\n",
              "<table border=\"1\" class=\"dataframe\">\n",
              "  <thead>\n",
              "    <tr style=\"text-align: right;\">\n",
              "      <th></th>\n",
              "      <th>Unnamed: 0_x</th>\n",
              "      <th>nconst</th>\n",
              "      <th>primaryName</th>\n",
              "      <th>birthYear</th>\n",
              "      <th>deathYear</th>\n",
              "      <th>primaryProfession</th>\n",
              "      <th>knownForTitles</th>\n",
              "      <th>Unnamed: 0_y</th>\n",
              "      <th>tconst</th>\n",
              "      <th>ordering</th>\n",
              "      <th>category</th>\n",
              "      <th>job</th>\n",
              "      <th>characters</th>\n",
              "      <th>Unnamed: 0</th>\n",
              "      <th>averageRating</th>\n",
              "      <th>numVotes</th>\n",
              "      <th>scores</th>\n",
              "      <th>ageBracket</th>\n",
              "    </tr>\n",
              "  </thead>\n",
              "  <tbody>\n",
              "    <tr>\n",
              "      <th>620180</th>\n",
              "      <td>3282592</td>\n",
              "      <td>nm1946193</td>\n",
              "      <td>Jamie Dornan</td>\n",
              "      <td>1982.0</td>\n",
              "      <td>NaN</td>\n",
              "      <td>actor,soundtrack</td>\n",
              "      <td>tt2294189,tt2368254,tt0422720,tt4190530</td>\n",
              "      <td>20447420</td>\n",
              "      <td>tt2322441</td>\n",
              "      <td>2</td>\n",
              "      <td>actor</td>\n",
              "      <td>\\N</td>\n",
              "      <td>[\"Christian Grey\"]</td>\n",
              "      <td>677543</td>\n",
              "      <td>4.1</td>\n",
              "      <td>289256</td>\n",
              "      <td>6.668855</td>\n",
              "      <td>NaN</td>\n",
              "    </tr>\n",
              "    <tr>\n",
              "      <th>620181</th>\n",
              "      <td>3282593</td>\n",
              "      <td>nm1946193</td>\n",
              "      <td>Jamie Dornan</td>\n",
              "      <td>1982.0</td>\n",
              "      <td>NaN</td>\n",
              "      <td>actor,soundtrack</td>\n",
              "      <td>tt2294189,tt2368254,tt0422720,tt4190530</td>\n",
              "      <td>20447420</td>\n",
              "      <td>tt2322441</td>\n",
              "      <td>2</td>\n",
              "      <td>actor</td>\n",
              "      <td>\\N</td>\n",
              "      <td>[\"Christian Grey\"]</td>\n",
              "      <td>677543</td>\n",
              "      <td>4.1</td>\n",
              "      <td>289256</td>\n",
              "      <td>6.668855</td>\n",
              "      <td>NaN</td>\n",
              "    </tr>\n",
              "    <tr>\n",
              "      <th>186977</th>\n",
              "      <td>775</td>\n",
              "      <td>nm0000563</td>\n",
              "      <td>Chris O'Donnell</td>\n",
              "      <td>1970.0</td>\n",
              "      <td>NaN</td>\n",
              "      <td>actor,producer,director</td>\n",
              "      <td>tt0105323,tt0118688,tt0108333,tt0190865</td>\n",
              "      <td>1010206</td>\n",
              "      <td>tt0118688</td>\n",
              "      <td>3</td>\n",
              "      <td>actor</td>\n",
              "      <td>\\N</td>\n",
              "      <td>[\"Robin\",\"Dick Grayson\"]</td>\n",
              "      <td>86859</td>\n",
              "      <td>3.7</td>\n",
              "      <td>226687</td>\n",
              "      <td>6.977140</td>\n",
              "      <td>NaN</td>\n",
              "    </tr>\n",
              "    <tr>\n",
              "      <th>186974</th>\n",
              "      <td>297</td>\n",
              "      <td>nm0000216</td>\n",
              "      <td>Arnold Schwarzenegger</td>\n",
              "      <td>1947.0</td>\n",
              "      <td>NaN</td>\n",
              "      <td>actor,producer,director</td>\n",
              "      <td>tt0093773,tt0216216,tt0116213,tt0103064</td>\n",
              "      <td>1010204</td>\n",
              "      <td>tt0118688</td>\n",
              "      <td>1</td>\n",
              "      <td>actor</td>\n",
              "      <td>\\N</td>\n",
              "      <td>[\"Mr. Freeze\",\"Dr. Victor Fries\"]</td>\n",
              "      <td>86859</td>\n",
              "      <td>3.7</td>\n",
              "      <td>226687</td>\n",
              "      <td>6.977140</td>\n",
              "      <td>NaN</td>\n",
              "    </tr>\n",
              "    <tr>\n",
              "      <th>186972</th>\n",
              "      <td>164</td>\n",
              "      <td>nm0000123</td>\n",
              "      <td>George Clooney</td>\n",
              "      <td>1961.0</td>\n",
              "      <td>NaN</td>\n",
              "      <td>actor,producer,director</td>\n",
              "      <td>tt1033575,tt1193138,tt1124035,tt0465538</td>\n",
              "      <td>1010205</td>\n",
              "      <td>tt0118688</td>\n",
              "      <td>2</td>\n",
              "      <td>actor</td>\n",
              "      <td>\\N</td>\n",
              "      <td>[\"Batman\",\"Bruce Wayne\"]</td>\n",
              "      <td>86859</td>\n",
              "      <td>3.7</td>\n",
              "      <td>226687</td>\n",
              "      <td>6.977140</td>\n",
              "      <td>NaN</td>\n",
              "    </tr>\n",
              "  </tbody>\n",
              "</table>\n",
              "</div>"
            ],
            "text/plain": [
              "        Unnamed: 0_x     nconst  ...    scores  ageBracket\n",
              "620180       3282592  nm1946193  ...  6.668855         NaN\n",
              "620181       3282593  nm1946193  ...  6.668855         NaN\n",
              "186977           775  nm0000563  ...  6.977140         NaN\n",
              "186974           297  nm0000216  ...  6.977140         NaN\n",
              "186972           164  nm0000123  ...  6.977140         NaN\n",
              "\n",
              "[5 rows x 18 columns]"
            ]
          },
          "metadata": {
            "tags": []
          },
          "execution_count": 105
        }
      ]
    },
    {
      "cell_type": "code",
      "metadata": {
        "id": "UULPDdH2aISX",
        "colab_type": "code",
        "colab": {}
      },
      "source": [
        "quantile_data['ageBracket']=quantile_data['deathYear']-quantile_data['birthYear']"
      ],
      "execution_count": 0,
      "outputs": []
    },
    {
      "cell_type": "code",
      "metadata": {
        "id": "4GxydqQxavqO",
        "colab_type": "code",
        "outputId": "8b1ec70e-4295-49fe-c1e2-a879b548e329",
        "colab": {
          "base_uri": "https://localhost:8080/",
          "height": 249
        }
      },
      "source": [
        "quantile_data.boxplot(by='ageBracket',column=['numVotes'],grid=False)"
      ],
      "execution_count": 0,
      "outputs": [
        {
          "output_type": "execute_result",
          "data": {
            "text/plain": [
              "<matplotlib.axes._subplots.AxesSubplot at 0x7f5cdf5a9400>"
            ]
          },
          "metadata": {
            "tags": []
          },
          "execution_count": 109
        },
        {
          "output_type": "display_data",
          "data": {
            "image/png": "[encoded data removed]",
            "text/plain": [
              "<Figure size 432x288 with 1 Axes>"
            ]
          },
          "metadata": {
            "tags": []
          }
        }
      ]
    },
    {
      "cell_type": "code",
      "metadata": {
        "id": "8RxiDXIadI1r",
        "colab_type": "code",
        "outputId": "05fdc20c-e096-4b36-bb7d-42cc79face1f",
        "colab": {
          "base_uri": "https://localhost:8080/",
          "height": 34
        }
      },
      "source": [
        "quantile_data['ageBracket'].mean()"
      ],
      "execution_count": 0,
      "outputs": [
        {
          "output_type": "execute_result",
          "data": {
            "text/plain": [
              "72.71904304176012"
            ]
          },
          "metadata": {
            "tags": []
          },
          "execution_count": 112
        }
      ]
    },
    {
      "cell_type": "markdown",
      "metadata": {
        "id": "M3iga8PYu_KX",
        "colab_type": "text"
      },
      "source": [
        "so the mean age at which the male actor gets the success is 72.\n"
      ]
    },
    {
      "cell_type": "markdown",
      "metadata": {
        "id": "7cmKmdalueti",
        "colab_type": "text"
      },
      "source": [
        "***Now we will perform the question Number 4***\n"
      ]
    },
    {
      "cell_type": "code",
      "metadata": {
        "id": "nDhglzEzvbEY",
        "colab_type": "code",
        "outputId": "e7261f8e-666d-466a-a447-1a076f2f5fe9",
        "colab": {
          "base_uri": "https://localhost:8080/",
          "height": 74
        }
      },
      "source": [
        "title_basics = pd.read_csv(fp3)"
      ],
      "execution_count": 0,
      "outputs": [
        {
          "output_type": "stream",
          "text": [
            "/usr/local/lib/python3.6/dist-packages/IPython/core/interactiveshell.py:2718: DtypeWarning: Columns (6) have mixed types.Specify dtype option on import or set low_memory=False.\n",
            "  interactivity=interactivity, compiler=compiler, result=result)\n"
          ],
          "name": "stderr"
        }
      ]
    },
    {
      "cell_type": "code",
      "metadata": {
        "id": "lmMolPEXyMRP",
        "colab_type": "code",
        "colab": {}
      },
      "source": [
        "ratings = pd.read_csv(fp7)"
      ],
      "execution_count": 0,
      "outputs": []
    },
    {
      "cell_type": "code",
      "metadata": {
        "id": "QRysxYxoyVjY",
        "colab_type": "code",
        "colab": {}
      },
      "source": [
        "genre_data = pd.merge(ratings,title_basics,on='tconst')"
      ],
      "execution_count": 0,
      "outputs": []
    },
    {
      "cell_type": "code",
      "metadata": {
        "id": "_aJ_Nk9Jy5i6",
        "colab_type": "code",
        "outputId": "05ae8551-e13b-45cb-c20b-c3c3cb4e7b1f",
        "colab": {
          "base_uri": "https://localhost:8080/",
          "height": 207
        }
      },
      "source": [
        "# checking the title type \n",
        "genre_data['titleType'].value_counts()"
      ],
      "execution_count": 0,
      "outputs": [
        {
          "output_type": "execute_result",
          "data": {
            "text/plain": [
              "tvEpisode       463291\n",
              "movie           247408\n",
              "short           119531\n",
              "tvSeries         68550\n",
              "video            55669\n",
              "tvMovie          43547\n",
              "videoGame        10784\n",
              "tvMiniSeries      9789\n",
              "tvSpecial         9139\n",
              "tvShort           3166\n",
              "Name: titleType, dtype: int64"
            ]
          },
          "metadata": {
            "tags": []
          },
          "execution_count": 26
        }
      ]
    },
    {
      "cell_type": "code",
      "metadata": {
        "id": "swFKEOso0NHj",
        "colab_type": "code",
        "colab": {}
      },
      "source": [
        "#we are taking 'tvSeries' and tvMiniSeries because seasons are avliable for thes two only\n",
        "tv_data = genre_data[genre_data['titleType'].isin(['tvSeries','tvMiniSeries'])]"
      ],
      "execution_count": 0,
      "outputs": []
    },
    {
      "cell_type": "code",
      "metadata": {
        "id": "FdXQAvsw0foJ",
        "colab_type": "code",
        "outputId": "3d4ac0ce-4920-4210-e7ca-0c6479397e85",
        "colab": {
          "base_uri": "https://localhost:8080/",
          "height": 296
        }
      },
      "source": [
        "tv_data.head()"
      ],
      "execution_count": 0,
      "outputs": [
        {
          "output_type": "execute_result",
          "data": {
            "text/html": [
              "<div>\n",
              "<style scoped>\n",
              "    .dataframe tbody tr th:only-of-type {\n",
              "        vertical-align: middle;\n",
              "    }\n",
              "\n",
              "    .dataframe tbody tr th {\n",
              "        vertical-align: top;\n",
              "    }\n",
              "\n",
              "    .dataframe thead th {\n",
              "        text-align: right;\n",
              "    }\n",
              "</style>\n",
              "<table border=\"1\" class=\"dataframe\">\n",
              "  <thead>\n",
              "    <tr style=\"text-align: right;\">\n",
              "      <th></th>\n",
              "      <th>Unnamed: 0_x</th>\n",
              "      <th>tconst</th>\n",
              "      <th>averageRating</th>\n",
              "      <th>numVotes</th>\n",
              "      <th>Unnamed: 0_y</th>\n",
              "      <th>titleType</th>\n",
              "      <th>primaryTitle</th>\n",
              "      <th>originalTitle</th>\n",
              "      <th>isAdult</th>\n",
              "      <th>startYear</th>\n",
              "      <th>endYear</th>\n",
              "      <th>runtimeMinutes</th>\n",
              "      <th>genres</th>\n",
              "    </tr>\n",
              "  </thead>\n",
              "  <tbody>\n",
              "    <tr>\n",
              "      <th>17489</th>\n",
              "      <td>17489</td>\n",
              "      <td>tt0035803</td>\n",
              "      <td>7.8</td>\n",
              "      <td>30</td>\n",
              "      <td>35188</td>\n",
              "      <td>tvSeries</td>\n",
              "      <td>The German Weekly Review</td>\n",
              "      <td>Die Deutsche Wochenschau</td>\n",
              "      <td>0</td>\n",
              "      <td>1940</td>\n",
              "      <td>1945</td>\n",
              "      <td>12</td>\n",
              "      <td>Documentary,News</td>\n",
              "    </tr>\n",
              "    <tr>\n",
              "      <th>20160</th>\n",
              "      <td>20160</td>\n",
              "      <td>tt0039120</td>\n",
              "      <td>3.0</td>\n",
              "      <td>8</td>\n",
              "      <td>38451</td>\n",
              "      <td>tvSeries</td>\n",
              "      <td>Americana</td>\n",
              "      <td>Americana</td>\n",
              "      <td>0</td>\n",
              "      <td>1947</td>\n",
              "      <td>1949</td>\n",
              "      <td>30</td>\n",
              "      <td>Family,Game-Show</td>\n",
              "    </tr>\n",
              "    <tr>\n",
              "      <th>20161</th>\n",
              "      <td>20161</td>\n",
              "      <td>tt0039123</td>\n",
              "      <td>8.5</td>\n",
              "      <td>126</td>\n",
              "      <td>38454</td>\n",
              "      <td>tvSeries</td>\n",
              "      <td>Kraft Theatre</td>\n",
              "      <td>Kraft Television Theatre</td>\n",
              "      <td>0</td>\n",
              "      <td>1947</td>\n",
              "      <td>1958</td>\n",
              "      <td>60</td>\n",
              "      <td>Drama</td>\n",
              "    </tr>\n",
              "    <tr>\n",
              "      <th>20162</th>\n",
              "      <td>20162</td>\n",
              "      <td>tt0039125</td>\n",
              "      <td>5.9</td>\n",
              "      <td>7</td>\n",
              "      <td>38456</td>\n",
              "      <td>tvSeries</td>\n",
              "      <td>Public Prosecutor</td>\n",
              "      <td>Public Prosecutor</td>\n",
              "      <td>0</td>\n",
              "      <td>1947</td>\n",
              "      <td>1951</td>\n",
              "      <td>20</td>\n",
              "      <td>Crime,Drama,Mystery</td>\n",
              "    </tr>\n",
              "    <tr>\n",
              "      <th>20886</th>\n",
              "      <td>20886</td>\n",
              "      <td>tt0040021</td>\n",
              "      <td>7.2</td>\n",
              "      <td>51</td>\n",
              "      <td>39341</td>\n",
              "      <td>tvSeries</td>\n",
              "      <td>Actor's Studio</td>\n",
              "      <td>Actor's Studio</td>\n",
              "      <td>0</td>\n",
              "      <td>1948</td>\n",
              "      <td>1950</td>\n",
              "      <td>30</td>\n",
              "      <td>Drama</td>\n",
              "    </tr>\n",
              "  </tbody>\n",
              "</table>\n",
              "</div>"
            ],
            "text/plain": [
              "       Unnamed: 0_x     tconst  ...  runtimeMinutes               genres\n",
              "17489         17489  tt0035803  ...              12     Documentary,News\n",
              "20160         20160  tt0039120  ...              30     Family,Game-Show\n",
              "20161         20161  tt0039123  ...              60                Drama\n",
              "20162         20162  tt0039125  ...              20  Crime,Drama,Mystery\n",
              "20886         20886  tt0040021  ...              30                Drama\n",
              "\n",
              "[5 rows x 13 columns]"
            ]
          },
          "metadata": {
            "tags": []
          },
          "execution_count": 14
        }
      ]
    },
    {
      "cell_type": "code",
      "metadata": {
        "id": "U1216rwb0ina",
        "colab_type": "code",
        "outputId": "939cabcb-1360-490a-9bf1-48ca77b5dfb0",
        "colab": {
          "base_uri": "https://localhost:8080/",
          "height": 34
        }
      },
      "source": [
        "mean= tv_data['averageRating'].mean()\n",
        "mean"
      ],
      "execution_count": 0,
      "outputs": [
        {
          "output_type": "execute_result",
          "data": {
            "text/plain": [
              "6.7799384725360055"
            ]
          },
          "metadata": {
            "tags": []
          },
          "execution_count": 28
        }
      ]
    },
    {
      "cell_type": "code",
      "metadata": {
        "id": "xSktkQWR2-99",
        "colab_type": "code",
        "outputId": "a2760680-3b7a-4d84-f3e7-0c8aed0ca5f4",
        "colab": {
          "base_uri": "https://localhost:8080/",
          "height": 34
        }
      },
      "source": [
        "quantile = tv_data['averageRating'].quantile(0.90)\n",
        "quantile"
      ],
      "execution_count": 0,
      "outputs": [
        {
          "output_type": "execute_result",
          "data": {
            "text/plain": [
              "8.3"
            ]
          },
          "metadata": {
            "tags": []
          },
          "execution_count": 29
        }
      ]
    },
    {
      "cell_type": "code",
      "metadata": {
        "id": "8Te1Q2Qo3Q6p",
        "colab_type": "code",
        "colab": {}
      },
      "source": [
        "def rating_weight(y,m=quantile,C=mean):\n",
        "  v=y['numVotes']\n",
        "  r=y['averageRating']\n",
        "  value= (v/(v+m))*r +(m/(m+v)*C)\n",
        "  return value"
      ],
      "execution_count": 0,
      "outputs": []
    },
    {
      "cell_type": "code",
      "metadata": {
        "id": "8xOIypfq4K8z",
        "colab_type": "code",
        "colab": {}
      },
      "source": [
        "#quantile_tv_data = tv_data.copy().loc[tv_data['numVotes']>=quantile]\n",
        "#quantile_tv_data.shape"
      ],
      "execution_count": 0,
      "outputs": []
    },
    {
      "cell_type": "code",
      "metadata": {
        "id": "gf7aJihL42YX",
        "colab_type": "code",
        "colab": {}
      },
      "source": [
        "quantile_tv_data['score']= quantile_tv_data.apply(rating_weight,axis=1)"
      ],
      "execution_count": 0,
      "outputs": []
    },
    {
      "cell_type": "markdown",
      "metadata": {
        "id": "m4XWITfu5eNS",
        "colab_type": "text"
      },
      "source": [
        "we have added the score column to our data set so that we can able to rank the best tv shows.\n",
        "\n",
        "\n",
        "1.   And we chose averag rating and and number of votes as deciding factor\n",
        "2.   so these are the two main factors contributing sucess of tv shows\n",
        "\n"
      ]
    },
    {
      "cell_type": "code",
      "metadata": {
        "id": "_1A8izpE9owo",
        "colab_type": "code",
        "outputId": "b8aaf72f-19c8-4a65-be39-f75e5722d519",
        "colab": {
          "base_uri": "https://localhost:8080/",
          "height": 295
        }
      },
      "source": [
        "quantile_tv_data.sort_values('score',ascending=False)\n",
        "quantile_tv_data.head()\n"
      ],
      "execution_count": 0,
      "outputs": [
        {
          "output_type": "execute_result",
          "data": {
            "text/html": [
              "<div>\n",
              "<style scoped>\n",
              "    .dataframe tbody tr th:only-of-type {\n",
              "        vertical-align: middle;\n",
              "    }\n",
              "\n",
              "    .dataframe tbody tr th {\n",
              "        vertical-align: top;\n",
              "    }\n",
              "\n",
              "    .dataframe thead th {\n",
              "        text-align: right;\n",
              "    }\n",
              "</style>\n",
              "<table border=\"1\" class=\"dataframe\">\n",
              "  <thead>\n",
              "    <tr style=\"text-align: right;\">\n",
              "      <th></th>\n",
              "      <th>Unnamed: 0_x</th>\n",
              "      <th>tconst</th>\n",
              "      <th>averageRating</th>\n",
              "      <th>numVotes</th>\n",
              "      <th>Unnamed: 0_y</th>\n",
              "      <th>titleType</th>\n",
              "      <th>primaryTitle</th>\n",
              "      <th>originalTitle</th>\n",
              "      <th>isAdult</th>\n",
              "      <th>startYear</th>\n",
              "      <th>endYear</th>\n",
              "      <th>runtimeMinutes</th>\n",
              "      <th>genres</th>\n",
              "      <th>score</th>\n",
              "    </tr>\n",
              "  </thead>\n",
              "  <tbody>\n",
              "    <tr>\n",
              "      <th>17489</th>\n",
              "      <td>17489</td>\n",
              "      <td>tt0035803</td>\n",
              "      <td>7.8</td>\n",
              "      <td>30</td>\n",
              "      <td>35188</td>\n",
              "      <td>tvSeries</td>\n",
              "      <td>The German Weekly Review</td>\n",
              "      <td>Die Deutsche Wochenschau</td>\n",
              "      <td>0</td>\n",
              "      <td>1940</td>\n",
              "      <td>1945</td>\n",
              "      <td>12</td>\n",
              "      <td>Documentary,News</td>\n",
              "      <td>7.578942</td>\n",
              "    </tr>\n",
              "    <tr>\n",
              "      <th>20161</th>\n",
              "      <td>20161</td>\n",
              "      <td>tt0039123</td>\n",
              "      <td>8.5</td>\n",
              "      <td>126</td>\n",
              "      <td>38454</td>\n",
              "      <td>tvSeries</td>\n",
              "      <td>Kraft Theatre</td>\n",
              "      <td>Kraft Television Theatre</td>\n",
              "      <td>0</td>\n",
              "      <td>1947</td>\n",
              "      <td>1958</td>\n",
              "      <td>60</td>\n",
              "      <td>Drama</td>\n",
              "      <td>8.393697</td>\n",
              "    </tr>\n",
              "    <tr>\n",
              "      <th>20886</th>\n",
              "      <td>20886</td>\n",
              "      <td>tt0040021</td>\n",
              "      <td>7.2</td>\n",
              "      <td>51</td>\n",
              "      <td>39341</td>\n",
              "      <td>tvSeries</td>\n",
              "      <td>Actor's Studio</td>\n",
              "      <td>Actor's Studio</td>\n",
              "      <td>0</td>\n",
              "      <td>1948</td>\n",
              "      <td>1950</td>\n",
              "      <td>30</td>\n",
              "      <td>Drama</td>\n",
              "      <td>7.141206</td>\n",
              "    </tr>\n",
              "    <tr>\n",
              "      <th>20887</th>\n",
              "      <td>20887</td>\n",
              "      <td>tt0040028</td>\n",
              "      <td>6.4</td>\n",
              "      <td>12</td>\n",
              "      <td>39348</td>\n",
              "      <td>tvSeries</td>\n",
              "      <td>Talent Scouts</td>\n",
              "      <td>Talent Scouts</td>\n",
              "      <td>0</td>\n",
              "      <td>1948</td>\n",
              "      <td>1958</td>\n",
              "      <td>30</td>\n",
              "      <td>Comedy,Family,Music</td>\n",
              "      <td>6.555344</td>\n",
              "    </tr>\n",
              "    <tr>\n",
              "      <th>20890</th>\n",
              "      <td>20890</td>\n",
              "      <td>tt0040034</td>\n",
              "      <td>7.1</td>\n",
              "      <td>117</td>\n",
              "      <td>39354</td>\n",
              "      <td>tvSeries</td>\n",
              "      <td>Candid Camera</td>\n",
              "      <td>Candid Camera</td>\n",
              "      <td>0</td>\n",
              "      <td>1948</td>\n",
              "      <td>1950</td>\n",
              "      <td>30</td>\n",
              "      <td>Comedy,Family,Reality-TV</td>\n",
              "      <td>7.078799</td>\n",
              "    </tr>\n",
              "  </tbody>\n",
              "</table>\n",
              "</div>"
            ],
            "text/plain": [
              "       Unnamed: 0_x     tconst  ...                    genres     score\n",
              "17489         17489  tt0035803  ...          Documentary,News  7.578942\n",
              "20161         20161  tt0039123  ...                     Drama  8.393697\n",
              "20886         20886  tt0040021  ...                     Drama  7.141206\n",
              "20887         20887  tt0040028  ...       Comedy,Family,Music  6.555344\n",
              "20890         20890  tt0040034  ...  Comedy,Family,Reality-TV  7.078799\n",
              "\n",
              "[5 rows x 14 columns]"
            ]
          },
          "metadata": {
            "tags": []
          },
          "execution_count": 35
        }
      ]
    },
    {
      "cell_type": "markdown",
      "metadata": {
        "id": "MctDQCq8-MHb",
        "colab_type": "text"
      },
      "source": [
        "we choose teh best tv score by the score we defined."
      ]
    },
    {
      "cell_type": "code",
      "metadata": {
        "id": "njctv57b-Gkt",
        "colab_type": "code",
        "outputId": "4c1a6d60-29bd-4407-f735-cce2cedf1803",
        "colab": {
          "base_uri": "https://localhost:8080/",
          "height": 243
        }
      },
      "source": [
        "title_episode = pd.read_csv(fp5)\n",
        "title_episode.head()"
      ],
      "execution_count": 0,
      "outputs": [
        {
          "output_type": "execute_result",
          "data": {
            "text/html": [
              "<div>\n",
              "<style scoped>\n",
              "    .dataframe tbody tr th:only-of-type {\n",
              "        vertical-align: middle;\n",
              "    }\n",
              "\n",
              "    .dataframe tbody tr th {\n",
              "        vertical-align: top;\n",
              "    }\n",
              "\n",
              "    .dataframe thead th {\n",
              "        text-align: right;\n",
              "    }\n",
              "</style>\n",
              "<table border=\"1\" class=\"dataframe\">\n",
              "  <thead>\n",
              "    <tr style=\"text-align: right;\">\n",
              "      <th></th>\n",
              "      <th>Unnamed: 0</th>\n",
              "      <th>tconst</th>\n",
              "      <th>parentTconst</th>\n",
              "      <th>seasonNumber</th>\n",
              "      <th>episodeNumber</th>\n",
              "    </tr>\n",
              "  </thead>\n",
              "  <tbody>\n",
              "    <tr>\n",
              "      <th>0</th>\n",
              "      <td>0</td>\n",
              "      <td>tt0041951</td>\n",
              "      <td>tt0041038</td>\n",
              "      <td>1</td>\n",
              "      <td>9</td>\n",
              "    </tr>\n",
              "    <tr>\n",
              "      <th>1</th>\n",
              "      <td>1</td>\n",
              "      <td>tt0042816</td>\n",
              "      <td>tt0989125</td>\n",
              "      <td>1</td>\n",
              "      <td>17</td>\n",
              "    </tr>\n",
              "    <tr>\n",
              "      <th>2</th>\n",
              "      <td>2</td>\n",
              "      <td>tt0042889</td>\n",
              "      <td>tt0989125</td>\n",
              "      <td>\\N</td>\n",
              "      <td>\\N</td>\n",
              "    </tr>\n",
              "    <tr>\n",
              "      <th>3</th>\n",
              "      <td>3</td>\n",
              "      <td>tt0043426</td>\n",
              "      <td>tt0040051</td>\n",
              "      <td>3</td>\n",
              "      <td>42</td>\n",
              "    </tr>\n",
              "    <tr>\n",
              "      <th>4</th>\n",
              "      <td>4</td>\n",
              "      <td>tt0043631</td>\n",
              "      <td>tt0989125</td>\n",
              "      <td>2</td>\n",
              "      <td>16</td>\n",
              "    </tr>\n",
              "  </tbody>\n",
              "</table>\n",
              "</div>"
            ],
            "text/plain": [
              "   Unnamed: 0     tconst parentTconst seasonNumber episodeNumber\n",
              "0           0  tt0041951    tt0041038            1             9\n",
              "1           1  tt0042816    tt0989125            1            17\n",
              "2           2  tt0042889    tt0989125           \\N            \\N\n",
              "3           3  tt0043426    tt0040051            3            42\n",
              "4           4  tt0043631    tt0989125            2            16"
            ]
          },
          "metadata": {
            "tags": []
          },
          "execution_count": 38
        }
      ]
    },
    {
      "cell_type": "code",
      "metadata": {
        "id": "KJbsEPql-mTZ",
        "colab_type": "code",
        "outputId": "922e0bf4-36d0-463a-ed6e-6c3841d91de4",
        "colab": {
          "base_uri": "https://localhost:8080/",
          "height": 366
        }
      },
      "source": [
        "quantile_tv_data.columns = ['parentTconst','titleType','primaryTitle','originalTitle','isAdult','startYear','endYear','runtimeMinutes','genres','averageRating','numVotes','score']"
      ],
      "execution_count": 0,
      "outputs": [
        {
          "output_type": "error",
          "ename": "ValueError",
          "evalue": "ignored",
          "traceback": [
            "\u001b[0;31m---------------------------------------------------------------------------\u001b[0m",
            "\u001b[0;31mValueError\u001b[0m                                Traceback (most recent call last)",
            "\u001b[0;32m<ipython-input-39-b0cdc9a953b1>\u001b[0m in \u001b[0;36m<module>\u001b[0;34m()\u001b[0m\n\u001b[0;32m----> 1\u001b[0;31m \u001b[0mquantile_tv_data\u001b[0m\u001b[0;34m.\u001b[0m\u001b[0mcolumns\u001b[0m \u001b[0;34m=\u001b[0m \u001b[0;34m[\u001b[0m\u001b[0;34m'parentTconst'\u001b[0m\u001b[0;34m,\u001b[0m\u001b[0;34m'titleType'\u001b[0m\u001b[0;34m,\u001b[0m\u001b[0;34m'primaryTitle'\u001b[0m\u001b[0;34m,\u001b[0m\u001b[0;34m'originalTitle'\u001b[0m\u001b[0;34m,\u001b[0m\u001b[0;34m'isAdult'\u001b[0m\u001b[0;34m,\u001b[0m\u001b[0;34m'startYear'\u001b[0m\u001b[0;34m,\u001b[0m\u001b[0;34m'endYear'\u001b[0m\u001b[0;34m,\u001b[0m\u001b[0;34m'runtimeMinutes'\u001b[0m\u001b[0;34m,\u001b[0m\u001b[0;34m'genres'\u001b[0m\u001b[0;34m,\u001b[0m\u001b[0;34m'averageRating'\u001b[0m\u001b[0;34m,\u001b[0m\u001b[0;34m'numVotes'\u001b[0m\u001b[0;34m,\u001b[0m\u001b[0;34m'score'\u001b[0m\u001b[0;34m]\u001b[0m\u001b[0;34m\u001b[0m\u001b[0;34m\u001b[0m\u001b[0m\n\u001b[0m",
            "\u001b[0;32m/usr/local/lib/python3.6/dist-packages/pandas/core/generic.py\u001b[0m in \u001b[0;36m__setattr__\u001b[0;34m(self, name, value)\u001b[0m\n\u001b[1;32m   5285\u001b[0m         \u001b[0;32mtry\u001b[0m\u001b[0;34m:\u001b[0m\u001b[0;34m\u001b[0m\u001b[0;34m\u001b[0m\u001b[0m\n\u001b[1;32m   5286\u001b[0m             \u001b[0mobject\u001b[0m\u001b[0;34m.\u001b[0m\u001b[0m__getattribute__\u001b[0m\u001b[0;34m(\u001b[0m\u001b[0mself\u001b[0m\u001b[0;34m,\u001b[0m \u001b[0mname\u001b[0m\u001b[0;34m)\u001b[0m\u001b[0;34m\u001b[0m\u001b[0;34m\u001b[0m\u001b[0m\n\u001b[0;32m-> 5287\u001b[0;31m             \u001b[0;32mreturn\u001b[0m \u001b[0mobject\u001b[0m\u001b[0;34m.\u001b[0m\u001b[0m__setattr__\u001b[0m\u001b[0;34m(\u001b[0m\u001b[0mself\u001b[0m\u001b[0;34m,\u001b[0m \u001b[0mname\u001b[0m\u001b[0;34m,\u001b[0m \u001b[0mvalue\u001b[0m\u001b[0;34m)\u001b[0m\u001b[0;34m\u001b[0m\u001b[0;34m\u001b[0m\u001b[0m\n\u001b[0m\u001b[1;32m   5288\u001b[0m         \u001b[0;32mexcept\u001b[0m \u001b[0mAttributeError\u001b[0m\u001b[0;34m:\u001b[0m\u001b[0;34m\u001b[0m\u001b[0;34m\u001b[0m\u001b[0m\n\u001b[1;32m   5289\u001b[0m             \u001b[0;32mpass\u001b[0m\u001b[0;34m\u001b[0m\u001b[0;34m\u001b[0m\u001b[0m\n",
            "\u001b[0;32mpandas/_libs/properties.pyx\u001b[0m in \u001b[0;36mpandas._libs.properties.AxisProperty.__set__\u001b[0;34m()\u001b[0m\n",
            "\u001b[0;32m/usr/local/lib/python3.6/dist-packages/pandas/core/generic.py\u001b[0m in \u001b[0;36m_set_axis\u001b[0;34m(self, axis, labels)\u001b[0m\n\u001b[1;32m    659\u001b[0m \u001b[0;34m\u001b[0m\u001b[0m\n\u001b[1;32m    660\u001b[0m     \u001b[0;32mdef\u001b[0m \u001b[0m_set_axis\u001b[0m\u001b[0;34m(\u001b[0m\u001b[0mself\u001b[0m\u001b[0;34m,\u001b[0m \u001b[0maxis\u001b[0m\u001b[0;34m,\u001b[0m \u001b[0mlabels\u001b[0m\u001b[0;34m)\u001b[0m \u001b[0;34m->\u001b[0m \u001b[0;32mNone\u001b[0m\u001b[0;34m:\u001b[0m\u001b[0;34m\u001b[0m\u001b[0;34m\u001b[0m\u001b[0m\n\u001b[0;32m--> 661\u001b[0;31m         \u001b[0mself\u001b[0m\u001b[0;34m.\u001b[0m\u001b[0m_data\u001b[0m\u001b[0;34m.\u001b[0m\u001b[0mset_axis\u001b[0m\u001b[0;34m(\u001b[0m\u001b[0maxis\u001b[0m\u001b[0;34m,\u001b[0m \u001b[0mlabels\u001b[0m\u001b[0;34m)\u001b[0m\u001b[0;34m\u001b[0m\u001b[0;34m\u001b[0m\u001b[0m\n\u001b[0m\u001b[1;32m    662\u001b[0m         \u001b[0mself\u001b[0m\u001b[0;34m.\u001b[0m\u001b[0m_clear_item_cache\u001b[0m\u001b[0;34m(\u001b[0m\u001b[0;34m)\u001b[0m\u001b[0;34m\u001b[0m\u001b[0;34m\u001b[0m\u001b[0m\n\u001b[1;32m    663\u001b[0m \u001b[0;34m\u001b[0m\u001b[0m\n",
            "\u001b[0;32m/usr/local/lib/python3.6/dist-packages/pandas/core/internals/managers.py\u001b[0m in \u001b[0;36mset_axis\u001b[0;34m(self, axis, new_labels)\u001b[0m\n\u001b[1;32m    176\u001b[0m         \u001b[0;32mif\u001b[0m \u001b[0mnew_len\u001b[0m \u001b[0;34m!=\u001b[0m \u001b[0mold_len\u001b[0m\u001b[0;34m:\u001b[0m\u001b[0;34m\u001b[0m\u001b[0;34m\u001b[0m\u001b[0m\n\u001b[1;32m    177\u001b[0m             raise ValueError(\n\u001b[0;32m--> 178\u001b[0;31m                 \u001b[0;34mf\"Length mismatch: Expected axis has {old_len} elements, new \"\u001b[0m\u001b[0;34m\u001b[0m\u001b[0;34m\u001b[0m\u001b[0m\n\u001b[0m\u001b[1;32m    179\u001b[0m                 \u001b[0;34mf\"values have {new_len} elements\"\u001b[0m\u001b[0;34m\u001b[0m\u001b[0;34m\u001b[0m\u001b[0m\n\u001b[1;32m    180\u001b[0m             )\n",
            "\u001b[0;31mValueError\u001b[0m: Length mismatch: Expected axis has 14 elements, new values have 12 elements"
          ]
        }
      ]
    },
    {
      "cell_type": "code",
      "metadata": {
        "id": "mNiPvhND_hLR",
        "colab_type": "code",
        "colab": {}
      },
      "source": [
        "quantile_tv_data1 = pd.merge(quantile_tv_data,title_episode,on='parentTconst')\n",
        "quantile_tv_data1.head()"
      ],
      "execution_count": 0,
      "outputs": []
    },
    {
      "cell_type": "markdown",
      "metadata": {
        "id": "XokTSsncAPFb",
        "colab_type": "text"
      },
      "source": [
        "Question 5 \n",
        "\n",
        "1.   no of season for top 5 tv shows\n",
        "\n",
        "\n"
      ]
    },
    {
      "cell_type": "code",
      "metadata": {
        "id": "B1tGiR1AAEWt",
        "colab_type": "code",
        "colab": {}
      },
      "source": [
        "quantile_tv_data1[quantile_tv_data1['originalTitle']=='The Chosen']"
      ],
      "execution_count": 0,
      "outputs": []
    },
    {
      "cell_type": "code",
      "metadata": {
        "id": "XI8-zJ5hBFyK",
        "colab_type": "code",
        "colab": {}
      },
      "source": [
        "quantile_tv_data1[quantile_tv_data1['originalTitle']=='Breaking Bad']"
      ],
      "execution_count": 0,
      "outputs": []
    },
    {
      "cell_type": "code",
      "metadata": {
        "id": "5udz-XwGBuO3",
        "colab_type": "code",
        "colab": {}
      },
      "source": [
        "quantile_tv_data1[quantile_tv_data1['originalTitle']=='Koombiyo']"
      ],
      "execution_count": 0,
      "outputs": []
    },
    {
      "cell_type": "code",
      "metadata": {
        "id": "JRi8H8mhCIZm",
        "colab_type": "code",
        "colab": {}
      },
      "source": [
        "quantile_tv_data1[quantile_tv_data1['originalTitle']=='Band of Brothers']"
      ],
      "execution_count": 0,
      "outputs": []
    },
    {
      "cell_type": "code",
      "metadata": {
        "id": "LzK9qf_iCmO_",
        "colab_type": "code",
        "colab": {}
      },
      "source": [
        "quantile_tv_data1[quantile_tv_data1['originalTitle']=='Planet Earth II']\n"
      ],
      "execution_count": 0,
      "outputs": []
    },
    {
      "cell_type": "markdown",
      "metadata": {
        "id": "dEbv-_fLCyj4",
        "colab_type": "text"
      },
      "source": [
        "Planet Earth II had only one season"
      ]
    },
    {
      "cell_type": "markdown",
      "metadata": {
        "id": "sAvXqyPrDkrb",
        "colab_type": "text"
      },
      "source": [
        "Now we will do question number 4 i.e we have to fourn average run time for top 5 best tv shows"
      ]
    },
    {
      "cell_type": "code",
      "metadata": {
        "id": "IknE4T4oC8ff",
        "colab_type": "code",
        "colab": {}
      },
      "source": [
        "quantile_tv_data1=quantile_tv_data.replace(r'\\N',np.NaN)\n",
        "quantile_tv_data1['runtimeMinutes']==pd.to_numeric(quantile_tv_data1['runtimeMinutes'])"
      ],
      "execution_count": 0,
      "outputs": []
    },
    {
      "cell_type": "code",
      "metadata": {
        "id": "APDY7VG6ERsn",
        "colab_type": "code",
        "colab": {}
      },
      "source": [
        "quantile_tv_data1[quantile_tv_data1['originalTitle']=='The Chosen']['runtimeMinuts'].mean()"
      ],
      "execution_count": 0,
      "outputs": []
    },
    {
      "cell_type": "markdown",
      "metadata": {
        "id": "nIili-K8EhRb",
        "colab_type": "text"
      },
      "source": [
        "This shows average runtime was not provided in the data set"
      ]
    },
    {
      "cell_type": "code",
      "metadata": {
        "id": "XMfdSXYbEqa7",
        "colab_type": "code",
        "colab": {}
      },
      "source": [
        "quantile_tv_data1[quantile_tv_data1['originalTitle']=='Breaking Bad']['runtimeMinuts'].mean()"
      ],
      "execution_count": 0,
      "outputs": []
    },
    {
      "cell_type": "code",
      "metadata": {
        "id": "6EcileUFE3lM",
        "colab_type": "code",
        "colab": {}
      },
      "source": [
        "quantile_tv_data1[quantile_tv_data1['originalTitle']=='Koombiyo']['runtimeMinuts'].mean()"
      ],
      "execution_count": 0,
      "outputs": []
    },
    {
      "cell_type": "code",
      "metadata": {
        "id": "kFGxERoDE4P1",
        "colab_type": "code",
        "colab": {}
      },
      "source": [
        "quantile_tv_data1[quantile_tv_data1['originalTitle']=='Band of Brothers']['runtimeMinuts'].mean()"
      ],
      "execution_count": 0,
      "outputs": []
    },
    {
      "cell_type": "code",
      "metadata": {
        "id": "z8IsL2KdE4MN",
        "colab_type": "code",
        "colab": {}
      },
      "source": [
        "quantile_tv_data1[quantile_tv_data1['originalTitle']=='Planet Earth II']['runtimeMinuts'].mean()"
      ],
      "execution_count": 0,
      "outputs": []
    },
    {
      "cell_type": "markdown",
      "metadata": {
        "id": "BeyNaF1SFWPD",
        "colab_type": "text"
      },
      "source": [
        "Question number 6\n",
        "\n",
        "*   IN which year maximum tv shows ended\n",
        "*   List item\n",
        "\n"
      ]
    },
    {
      "cell_type": "code",
      "metadata": {
        "id": "ma4BCOkjE4IE",
        "colab_type": "code",
        "colab": {}
      },
      "source": [
        "quantile_tv_data1['endYear'].vaue_counts()"
      ],
      "execution_count": 0,
      "outputs": []
    },
    {
      "cell_type": "code",
      "metadata": {
        "id": "iqwOaR_yE4EK",
        "colab_type": "code",
        "colab": {}
      },
      "source": [
        ""
      ],
      "execution_count": 0,
      "outputs": []
    },
    {
      "cell_type": "code",
      "metadata": {
        "id": "OKGoe2dZE4AK",
        "colab_type": "code",
        "colab": {}
      },
      "source": [
        ""
      ],
      "execution_count": 0,
      "outputs": []
    },
    {
      "cell_type": "code",
      "metadata": {
        "id": "XspfUA2KE37T",
        "colab_type": "code",
        "colab": {}
      },
      "source": [
        ""
      ],
      "execution_count": 0,
      "outputs": []
    },
    {
      "cell_type": "code",
      "metadata": {
        "id": "f6HIAADkE31k",
        "colab_type": "code",
        "colab": {}
      },
      "source": [
        ""
      ],
      "execution_count": 0,
      "outputs": []
    }
  ]
}